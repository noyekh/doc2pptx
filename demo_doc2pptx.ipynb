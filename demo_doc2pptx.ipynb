{
 "cells": [
  {
   "cell_type": "markdown",
   "metadata": {},
   "source": [
    "# Doc2PPTX: Génération Automatique de Présentations PowerPoint\n",
    "\n",
    "Ce notebook démontre les fonctionnalités de `doc2pptx`, un outil Python qui permet de générer des présentations PowerPoint à partir de fichiers Markdown ou JSON structurés, avec optimisation par IA.\n",
    "\n",
    "## Fonctionnalités principales\n",
    "\n",
    "- Conversion de Markdown/JSON en présentations PowerPoint\n",
    "- Optimisation des layouts avec IA\n",
    "- Planification intelligente du contenu\n",
    "- Support pour tableaux, listes à puces, et images\n",
    "- Templates personnalisables\n",
    "\n",
    "## Prérequis\n",
    "\n",
    "Pour utiliser ce notebook, vous devez avoir installé le package `doc2pptx` et ses dépendances. Si ce n'est pas déjà fait, vous pouvez l'installer via:\n",
    "\n",
    "```bash\n",
    "# Dans un environnement conda (recommandé)\n",
    "conda env create -f env.yml\n",
    "conda activate doc2pptx\n",
    "\n",
    "# Ou via pip\n",
    "pip install -e .\n",
    "```"
   ]
  },
  {
   "cell_type": "markdown",
   "metadata": {},
   "source": [
    "## Configuration initiale\n",
    "\n",
    "Commençons par importer les modules nécessaires et configurer l'environnement."
   ]
  },
  {
   "cell_type": "code",
   "execution_count": 5,
   "metadata": {},
   "outputs": [
    {
     "name": "stdout",
     "output_type": "stream",
     "text": [
      "✅ Template trouvé: data\\templates\\base_template.pptx\n",
      "✅ Fichier d'exemple trouvé: data\\input\\example2.md\n"
     ]
    }
   ],
   "source": [
    "import os\n",
    "import sys\n",
    "import json\n",
    "from pathlib import Path\n",
    "from IPython.display import display, Markdown, HTML\n",
    "import tempfile\n",
    "import shutil\n",
    "\n",
    "# Assurez-vous que doc2pptx est dans le PYTHONPATH\n",
    "# Si vous exécutez ce notebook depuis le répertoire du projet, cette étape n'est pas nécessaire\n",
    "if not any(\"doc2pptx\" in p for p in sys.path):\n",
    "    sys.path.append(os.path.abspath(os.path.join(os.getcwd(), 'src')))\n",
    "\n",
    "# Configuration des chemins\n",
    "DATA_DIR = Path('./data')\n",
    "TEMPLATES_DIR = DATA_DIR / 'templates'\n",
    "INPUT_DIR = DATA_DIR / 'input'\n",
    "OUTPUT_DIR = DATA_DIR / 'output'\n",
    "\n",
    "# Créer les répertoires s'ils n'existent pas\n",
    "for dir_path in [DATA_DIR, TEMPLATES_DIR, INPUT_DIR, OUTPUT_DIR]:\n",
    "    dir_path.mkdir(parents=True, exist_ok=True)\n",
    "\n",
    "# Vérifiez si les fichiers nécessaires existent\n",
    "base_template = TEMPLATES_DIR / 'base_template.pptx'\n",
    "example_md = INPUT_DIR / 'example2.md'\n",
    "\n",
    "if not base_template.exists():\n",
    "    print(f\"⚠️ Le template {base_template} n'existe pas. Veuillez fournir un fichier PowerPoint template.\")\n",
    "else:\n",
    "    print(f\"✅ Template trouvé: {base_template}\")\n",
    "\n",
    "if not example_md.exists():\n",
    "    print(f\"⚠️ Le fichier d'exemple {example_md} n'existe pas. Veuillez fournir un fichier Markdown d'exemple.\")\n",
    "else:\n",
    "    print(f\"✅ Fichier d'exemple trouvé: {example_md}\")"
   ]
  },
  {
   "cell_type": "markdown",
   "metadata": {},
   "source": [
    "## Vérification de l'API OpenAI\n",
    "\n",
    "L'optimisation par IA et la planification de contenu nécessitent une clé API OpenAI valide. Vérifions que celle-ci est correctement configurée."
   ]
  },
  {
   "cell_type": "code",
   "execution_count": 6,
   "metadata": {},
   "outputs": [
    {
     "name": "stdout",
     "output_type": "stream",
     "text": [
      "✅ Clé API OpenAI déjà configurée dans les paramètres.\n",
      "Modèle OpenAI configuré: gpt-4o\n"
     ]
    }
   ],
   "source": [
    "# Importer les paramètres\n",
    "from doc2pptx.core.settings import settings\n",
    "\n",
    "# Vérifier si la clé API est configurée\n",
    "if not settings.openai_api_key:\n",
    "    # Permettre à l'utilisateur de saisir une clé API temporairement\n",
    "    import getpass\n",
    "    api_key = getpass.getpass(\"Entrez votre clé API OpenAI (ne sera pas sauvegardée): \")\n",
    "    settings.openai_api_key = api_key\n",
    "    print(\"Clé API temporaire configurée pour cette session.\")\n",
    "else:\n",
    "    print(\"✅ Clé API OpenAI déjà configurée dans les paramètres.\")\n",
    "\n",
    "print(f\"Modèle OpenAI configuré: {settings.openai_model}\")"
   ]
  },
  {
   "cell_type": "markdown",
   "metadata": {},
   "source": [
    "## Explorer le fichier Markdown d'entrée\n",
    "\n",
    "Avant de générer une présentation, examinons le contenu du fichier Markdown qui servira d'entrée."
   ]
  },
  {
   "cell_type": "code",
   "execution_count": 7,
   "metadata": {},
   "outputs": [
    {
     "name": "stdout",
     "output_type": "stream",
     "text": [
      "Métadonnées YAML:\n",
      "```yaml\n",
      "title: Rapport d'Analyse de Marché Web 2025\n",
      "author: Jean Martin\n",
      "description: Analyse des tendances du marché web pour l'année 2025\n",
      "```\n"
     ]
    },
    {
     "data": {
      "text/markdown": [
       "# Rapport d'Analyse de Marché Web 2025\n",
       "\n",
       "## Résumé Exécutif\n",
       "\n",
       "Le paysage du développement web continue d'évoluer rapidement. Cette analyse détaille les principales tendances qui façonneront le marché en 2025 et propose des stratégies d'adaptation.\n",
       "\n",
       "### Points clés\n",
       "\n",
       "* L'IA générative est devenue un outil standard dans le développement web\n",
       "* Les interfaces no-code représentent 35% du marché des nouveaux sites\n",
       "* La sécurité et la protection des données restent les préoccupations principales\n",
       "* Le Web3 a trouvé des applications pratiques au-delà de la finance\n",
       "\n",
       "## Technologies Émergentes\n",
       "\n",
       "Voici les technologies qui ont connu la plus forte croissance depuis 2023:\n",
       "\n",
       "| Technologie | Taux d'adoption | Croissance annuelle | Maturité |\n",
       "|-------------|-----------------|---------------------|----------|\n",
       "| React Server Components | 68% | +42% | Établie |\n",
       "| WebAssembly | 54% | +37% | En croissance |\n",
       "| WebGPU | 23% | +75% | Émergente |\n",
       "| Web Bluetooth | 12% | +90% | Naissante |\n",
       "\n",
       "![Graphique montrant l'adoption des technologies web émergentes sur la période 2023-2025, avec des barres de progression pour chaque technologie](web_tech_adoption.jpg)\n",
       "\n",
       "## Impact Économique\n",
       "\n",
       "L'évolution des technologies web a un impact significatif sur les modèles économiques des entreprises. Les entreprises qui ont adopté ces technologies montrent une performance supérieure.\n",
       "\n",
       "Les impacts les plus notables sont:\n",
       "\n",
       "* Réduction des coûts de développement de 22% grâce aux outils assistés par IA\n",
       "* Augmentation de 34% de la vitesse de mise sur le marché\n",
       "* Amélioration de 45% des taux de conversion grâce à des interfaces plus performantes\n",
       "* Diminution de 18% des coûts de maintenance\n",
       "\n",
       "### Investissements par Secteur\n",
       "\n",
       "Le tableau suivant montre la répartition des investissements technologiques par secteur:\n",
       "\n",
       "| Secteur | Investissement 2025 (M€) | Changement vs 2024 | Focus principal |\n",
       "|---------|--------------------------|---------------------|----------------|\n",
       "| E-commerce | 4,250 | +15% | UI/UX personnalisée |\n",
       "| Services financiers | 5,780 | +23% | Sécurité et conformité |\n",
       "| Santé | 3,450 | +42% | Applications mobiles |\n",
       "| Éducation | 2,120 | +35% | Plateformes interactives |\n",
       "| Industrie | 3,960 | +18% | IoT et monitoring |\n",
       "\n",
       "## Recommandations Stratégiques\n",
       "\n",
       "En fonction des tendances observées, nous recommandons les approches suivantes:\n",
       "\n",
       "Pour les startups:\n",
       "* Adopter immédiatement les technologies serverless\n",
       "* Investir dans la formation à l'IA appliquée au développement\n",
       "* Privilégier les interfaces mobiles adaptatives\n",
       "\n",
       "Pour les entreprises établies:\n",
       "* Moderniser progressivement les systèmes legacy\n",
       "* Former les équipes aux nouvelles méthodologies\n",
       "* Développer des API standardisées\n",
       "\n",
       "![Image illustrant une équipe de développement travaillant sur des projets web modernes avec des écrans affichant du code et des interfaces](dev_team.jpg)\n",
       "\n",
       "## Prévisions 2026\n",
       "\n",
       "Les technologies qui devraient connaître une forte croissance l'année prochaine:\n",
       "\n",
       "| Technologie | Prévision d'adoption | Potentiel disruptif |\n",
       "|-------------|----------------------|---------------------|\n",
       "| Web Neural | 15-25% | Très élevé |\n",
       "| Interfaces cerveau-ordinateur | 5-8% | Révolutionnaire |\n",
       "| Hologrammes web | 10-15% | Élevé |\n",
       "| Blockchain décentralisée | 30-40% | Modéré |"
      ],
      "text/plain": [
       "<IPython.core.display.Markdown object>"
      ]
     },
     "metadata": {},
     "output_type": "display_data"
    }
   ],
   "source": [
    "def display_markdown_content(markdown_file):\n",
    "    \"\"\"Affiche le contenu d'un fichier Markdown.\"\"\"\n",
    "    with open(markdown_file, 'r', encoding='utf-8') as f:\n",
    "        content = f.read()\n",
    "    \n",
    "    # Afficher les métadonnées YAML si présentes\n",
    "    if content.startswith('---'):\n",
    "        end_frontmatter = content.find('---', 3)\n",
    "        if end_frontmatter > 0:\n",
    "            frontmatter = content[3:end_frontmatter].strip()\n",
    "            content_body = content[end_frontmatter+3:].strip()\n",
    "            \n",
    "            print(\"Métadonnées YAML:\")\n",
    "            print(f\"```yaml\\n{frontmatter}\\n```\")\n",
    "            \n",
    "            return content_body\n",
    "    \n",
    "    return content\n",
    "\n",
    "# Afficher le contenu du fichier Markdown\n",
    "if example_md.exists():\n",
    "    markdown_content = display_markdown_content(example_md)\n",
    "    display(Markdown(markdown_content))"
   ]
  },
  {
   "cell_type": "markdown",
   "metadata": {},
   "source": [
    "## Chargement du Markdown et conversion en modèle Presentation\n",
    "\n",
    "Maintenant, chargeons le fichier Markdown et convertissons-le en un modèle `Presentation` qui sera utilisé pour générer le PowerPoint."
   ]
  },
  {
   "cell_type": "code",
   "execution_count": 8,
   "metadata": {},
   "outputs": [
    {
     "name": "stderr",
     "output_type": "stream",
     "text": [
      "Unknown section type 'default' - treating as 'custom'\n",
      "API key format ('sk-pr...') seems unusual. Attempting to initialize OpenAI client anyway.\n"
     ]
    },
    {
     "name": "stdout",
     "output_type": "stream",
     "text": [
      "✅ Présentation chargée avec succès: 'Rapport d'Analyse de Marché Web 2025'\n",
      "Nombre de sections: 1\n",
      "\n",
      "Section 1: Rapport d'Analyse de Marché Web 2025 (Type: SectionType.TITLE)\n",
      "  Slide 1: Rapport d'Analyse de Marché Web 2025 (0 blocs - vide)\n",
      "  Slide 2: Résumé Exécutif (1 blocs - text)\n",
      "  Slide 3: Points clés (1 blocs - bullet_points)\n",
      "  Slide 4: Technologies Émergentes (3 blocs - text, table, text)\n",
      "  Slide 5: Impact Économique (3 blocs - text, text, bullet_points)\n",
      "  Slide 6: Investissements par Secteur (2 blocs - text, table)\n",
      "  Slide 7: Recommandations Stratégiques (6 blocs - text, text, bullet_points, text, bullet_points, text)\n",
      "  Slide 8: Prévisions 2026 (2 blocs - text, table)\n"
     ]
    }
   ],
   "source": [
    "from doc2pptx.ingest.markdown_loader import load_presentation_from_markdown\n",
    "from doc2pptx.core.models import Presentation, Section, Slide, SlideBlock, ContentType\n",
    "\n",
    "def load_and_analyze_markdown(markdown_file):\n",
    "    \"\"\"Charge un fichier Markdown et analyse sa structure.\"\"\"\n",
    "    try:\n",
    "        presentation = load_presentation_from_markdown(markdown_file)\n",
    "        \n",
    "        print(f\"✅ Présentation chargée avec succès: '{presentation.title}'\")\n",
    "        print(f\"Nombre de sections: {len(presentation.sections)}\")\n",
    "        \n",
    "        # Afficher un résumé de la structure\n",
    "        for i, section in enumerate(presentation.sections, 1):\n",
    "            print(f\"\\nSection {i}: {section.title} (Type: {section.type})\")\n",
    "            \n",
    "            for j, slide in enumerate(section.slides, 1):\n",
    "                content_types = [block.content.content_type for block in slide.blocks]\n",
    "                content_summary = \", \".join([ct.value for ct in content_types]) if content_types else \"vide\"\n",
    "                print(f\"  Slide {j}: {slide.title} ({len(slide.blocks)} blocs - {content_summary})\")\n",
    "        \n",
    "        return presentation\n",
    "    except Exception as e:\n",
    "        print(f\"❌ Erreur lors du chargement du fichier Markdown: {e}\")\n",
    "        return None\n",
    "\n",
    "# Charger et analyser le fichier Markdown\n",
    "if example_md.exists():\n",
    "    presentation = load_and_analyze_markdown(example_md)"
   ]
  },
  {
   "cell_type": "markdown",
   "metadata": {},
   "source": [
    "## Générer la présentation PowerPoint\n",
    "\n",
    "Maintenant, utilisons le modèle `Presentation` pour générer une présentation PowerPoint avec l'optimisation IA et la planification de contenu."
   ]
  },
  {
   "cell_type": "code",
   "execution_count": 9,
   "metadata": {},
   "outputs": [
    {
     "name": "stderr",
     "output_type": "stream",
     "text": [
      "Unknown section type 'default' - treating as 'custom'\n",
      "API key format ('sk-pr...') seems unusual. Attempting to initialize OpenAI client anyway.\n",
      "API key format ('sk-pr...') seems unusual. Attempting to initialize OpenAI client anyway.\n",
      "API key format ('sk-pr...') seems unusual. Attempting to initialize OpenAI client anyway.\n",
      "API key format ('sk-pr...') seems unusual. Attempting to initialize OpenAI client anyway.\n"
     ]
    },
    {
     "name": "stdout",
     "output_type": "stream",
     "text": [
      "⏳ Génération de la présentation...\n",
      "Template: data\\templates\\base_template.pptx\n",
      "Optimisation IA: ✅ Activée\n",
      "Planification de contenu: ✅ Activée\n"
     ]
    },
    {
     "name": "stderr",
     "output_type": "stream",
     "text": [
      "Unknown section type 'default' - treating as 'custom'\n",
      "API key format ('sk-pr...') seems unusual. Attempting to initialize OpenAI client anyway.\n",
      "API key format ('sk-pr...') seems unusual. Attempting to initialize OpenAI client anyway.\n",
      "Detected content area seems too small. Using adjusted margins.\n",
      "Layout 'Titre et texte' supports max 1 blocks but slide has 2. Selecting a more appropriate layout.\n",
      "Layout 'Titre et tableau' supports max 1 blocks but slide has 2. Selecting a more appropriate layout.\n",
      "Detected content area seems too small. Using adjusted margins.\n",
      "Layout 'Titre et tableau' supports max 1 blocks but slide has 2. Selecting a more appropriate layout.\n",
      "Detected content area seems too small. Using adjusted margins.\n"
     ]
    },
    {
     "name": "stdout",
     "output_type": "stream",
     "text": [
      "✅ Présentation générée avec succès en 79.48 secondes.\n",
      "Fichier de sortie: data\\output\\Rapport_d'Analyse_de_Marché_Web_2025.pptx\n"
     ]
    }
   ],
   "source": [
    "from doc2pptx.ppt.builder import PPTBuilder\n",
    "from doc2pptx.llm.optimizer import PresentationOptimizer\n",
    "from doc2pptx.llm.content_planner import ContentPlanner\n",
    "import time\n",
    "\n",
    "def generate_presentation(presentation, template_path, output_path, use_ai=True, use_content_planning=True):\n",
    "    \"\"\"Génère une présentation PowerPoint à partir d'un modèle Presentation.\"\"\"\n",
    "    start_time = time.time()\n",
    "    \n",
    "    print(f\"⏳ Génération de la présentation...\")\n",
    "    print(f\"Template: {template_path}\")\n",
    "    print(f\"Optimisation IA: {'✅ Activée' if use_ai else '❌ Désactivée'}\")\n",
    "    print(f\"Planification de contenu: {'✅ Activée' if use_content_planning else '❌ Désactivée'}\")\n",
    "    \n",
    "    try:\n",
    "        # Définir le template_path dans le modèle Presentation\n",
    "        presentation.template_path = template_path\n",
    "        \n",
    "        # Initialiser le PPTBuilder avec les options d'optimisation\n",
    "        builder = PPTBuilder(\n",
    "            template_path=template_path,\n",
    "            use_ai=use_ai,\n",
    "            use_content_planning=use_content_planning\n",
    "        )\n",
    "        \n",
    "        # Générer la présentation\n",
    "        output_file = builder.build(presentation, output_path)\n",
    "        \n",
    "        elapsed_time = time.time() - start_time\n",
    "        print(f\"✅ Présentation générée avec succès en {elapsed_time:.2f} secondes.\")\n",
    "        print(f\"Fichier de sortie: {output_file}\")\n",
    "        \n",
    "        return output_file\n",
    "    except Exception as e:\n",
    "        print(f\"❌ Erreur lors de la génération de la présentation: {e}\")\n",
    "        return None\n",
    "\n",
    "# Générer la présentation\n",
    "if presentation and base_template.exists():\n",
    "    output_path = OUTPUT_DIR / f\"{presentation.title.replace(' ', '_')}.pptx\"\n",
    "    pptx_file = generate_presentation(\n",
    "        presentation=presentation,\n",
    "        template_path=base_template,\n",
    "        output_path=output_path,\n",
    "        use_ai=True,\n",
    "        use_content_planning=True\n",
    "    )"
   ]
  },
  {
   "cell_type": "markdown",
   "metadata": {},
   "source": [
    "## Utilisation de l'API programmatique\n",
    "\n",
    "Maintenant, voyons comment utiliser l'API programmatique de `doc2pptx` pour générer une présentation en une seule ligne de code."
   ]
  },
  {
   "cell_type": "code",
   "execution_count": 10,
   "metadata": {},
   "outputs": [
    {
     "data": {
      "text/html": [
       "<pre style=\"white-space:pre;overflow-x:auto;line-height:normal;font-family:Menlo,'DejaVu Sans Mono',consolas,'Courier New',monospace\"><span style=\"color: #00ff00; text-decoration-color: #00ff00\">─────────────────────────────────────────────── </span><span style=\"color: #008080; text-decoration-color: #008080; font-weight: bold\">doc2pptx • generate</span><span style=\"color: #00ff00; text-decoration-color: #00ff00\"> ───────────────────────────────────────────────</span>\n",
       "</pre>\n"
      ],
      "text/plain": [
       "\u001b[92m─────────────────────────────────────────────── \u001b[0m\u001b[1;36mdoc2pptx • generate\u001b[0m\u001b[92m ───────────────────────────────────────────────\u001b[0m\n"
      ]
     },
     "metadata": {},
     "output_type": "display_data"
    },
    {
     "data": {
      "text/html": [
       "<pre style=\"white-space:pre;overflow-x:auto;line-height:normal;font-family:Menlo,'DejaVu Sans Mono',consolas,'Courier New',monospace\"><span style=\"color: #7fbfbf; text-decoration-color: #7fbfbf\">[05/14/25 16:58:12] </span><span style=\"color: #000080; text-decoration-color: #000080\">INFO    </span> Template   :                                                                <a href=\"file://C:\\Users\\nbese\\OneDrive\\Documents\\GitHub\\doc2pptx\\src\\doc2pptx\\cli.py\" target=\"_blank\"><span style=\"color: #7f7f7f; text-decoration-color: #7f7f7f\">cli.py</span></a><span style=\"color: #7f7f7f; text-decoration-color: #7f7f7f\">:</span><a href=\"file://C:\\Users\\nbese\\OneDrive\\Documents\\GitHub\\doc2pptx\\src\\doc2pptx\\cli.py#341\" target=\"_blank\"><span style=\"color: #7f7f7f; text-decoration-color: #7f7f7f\">341</span></a>\n",
       "<span style=\"color: #7fbfbf; text-decoration-color: #7fbfbf\">                    </span>         <span style=\"color: #008080; text-decoration-color: #008080\">C:\\Users\\nbese\\OneDrive\\Documents\\GitHub\\doc2pptx\\data\\templates\\base_templ</span> <span style=\"color: #7f7f7f; text-decoration-color: #7f7f7f\">          </span>\n",
       "<span style=\"color: #7fbfbf; text-decoration-color: #7fbfbf\">                    </span>         <span style=\"color: #008080; text-decoration-color: #008080\">ate.pptx</span>                                                                    <span style=\"color: #7f7f7f; text-decoration-color: #7f7f7f\">          </span>\n",
       "</pre>\n"
      ],
      "text/plain": [
       "\u001b[2;36m[05/14/25 16:58:12]\u001b[0m\u001b[2;36m \u001b[0m\u001b[34mINFO    \u001b[0m Template   :                                                                \u001b]8;id=263155;file://C:\\Users\\nbese\\OneDrive\\Documents\\GitHub\\doc2pptx\\src\\doc2pptx\\cli.py\u001b\\\u001b[2mcli.py\u001b[0m\u001b]8;;\u001b\\\u001b[2m:\u001b[0m\u001b]8;id=459660;file://C:\\Users\\nbese\\OneDrive\\Documents\\GitHub\\doc2pptx\\src\\doc2pptx\\cli.py#341\u001b\\\u001b[2m341\u001b[0m\u001b]8;;\u001b\\\n",
       "\u001b[2;36m                    \u001b[0m         \u001b[36mC:\\Users\\nbese\\OneDrive\\Documents\\GitHub\\doc2pptx\\data\\templates\\base_templ\u001b[0m \u001b[2m          \u001b[0m\n",
       "\u001b[2;36m                    \u001b[0m         \u001b[36mate.pptx\u001b[0m                                                                    \u001b[2m          \u001b[0m\n"
      ]
     },
     "metadata": {},
     "output_type": "display_data"
    },
    {
     "data": {
      "text/html": [
       "<pre style=\"white-space:pre;overflow-x:auto;line-height:normal;font-family:Menlo,'DejaVu Sans Mono',consolas,'Courier New',monospace\"><span style=\"color: #7fbfbf; text-decoration-color: #7fbfbf\">                    </span><span style=\"color: #000080; text-decoration-color: #000080\">INFO    </span> Entrée     :                                                                <a href=\"file://C:\\Users\\nbese\\OneDrive\\Documents\\GitHub\\doc2pptx\\src\\doc2pptx\\cli.py\" target=\"_blank\"><span style=\"color: #7f7f7f; text-decoration-color: #7f7f7f\">cli.py</span></a><span style=\"color: #7f7f7f; text-decoration-color: #7f7f7f\">:</span><a href=\"file://C:\\Users\\nbese\\OneDrive\\Documents\\GitHub\\doc2pptx\\src\\doc2pptx\\cli.py#342\" target=\"_blank\"><span style=\"color: #7f7f7f; text-decoration-color: #7f7f7f\">342</span></a>\n",
       "<span style=\"color: #7fbfbf; text-decoration-color: #7fbfbf\">                    </span>         <span style=\"color: #800080; text-decoration-color: #800080\">C:\\Users\\nbese\\OneDrive\\Documents\\GitHub\\doc2pptx\\data\\input\\example2.md</span>    <span style=\"color: #7f7f7f; text-decoration-color: #7f7f7f\">          </span>\n",
       "</pre>\n"
      ],
      "text/plain": [
       "\u001b[2;36m                   \u001b[0m\u001b[2;36m \u001b[0m\u001b[34mINFO    \u001b[0m Entrée     :                                                                \u001b]8;id=374395;file://C:\\Users\\nbese\\OneDrive\\Documents\\GitHub\\doc2pptx\\src\\doc2pptx\\cli.py\u001b\\\u001b[2mcli.py\u001b[0m\u001b]8;;\u001b\\\u001b[2m:\u001b[0m\u001b]8;id=283651;file://C:\\Users\\nbese\\OneDrive\\Documents\\GitHub\\doc2pptx\\src\\doc2pptx\\cli.py#342\u001b\\\u001b[2m342\u001b[0m\u001b]8;;\u001b\\\n",
       "\u001b[2;36m                    \u001b[0m         \u001b[35mC:\\Users\\nbese\\OneDrive\\Documents\\GitHub\\doc2pptx\\data\\input\\example2.md\u001b[0m    \u001b[2m          \u001b[0m\n"
      ]
     },
     "metadata": {},
     "output_type": "display_data"
    },
    {
     "data": {
      "text/html": [
       "<pre style=\"white-space:pre;overflow-x:auto;line-height:normal;font-family:Menlo,'DejaVu Sans Mono',consolas,'Courier New',monospace\"><span style=\"color: #7fbfbf; text-decoration-color: #7fbfbf\">                    </span><span style=\"color: #000080; text-decoration-color: #000080\">INFO    </span> Destination:                                                                <a href=\"file://C:\\Users\\nbese\\OneDrive\\Documents\\GitHub\\doc2pptx\\src\\doc2pptx\\cli.py\" target=\"_blank\"><span style=\"color: #7f7f7f; text-decoration-color: #7f7f7f\">cli.py</span></a><span style=\"color: #7f7f7f; text-decoration-color: #7f7f7f\">:</span><a href=\"file://C:\\Users\\nbese\\OneDrive\\Documents\\GitHub\\doc2pptx\\src\\doc2pptx\\cli.py#343\" target=\"_blank\"><span style=\"color: #7f7f7f; text-decoration-color: #7f7f7f\">343</span></a>\n",
       "<span style=\"color: #7fbfbf; text-decoration-color: #7fbfbf\">                    </span>         <span style=\"color: #008000; text-decoration-color: #008000\">C:\\Users\\nbese\\OneDrive\\Documents\\GitHub\\doc2pptx\\data\\output\\cli_example.p</span> <span style=\"color: #7f7f7f; text-decoration-color: #7f7f7f\">          </span>\n",
       "<span style=\"color: #7fbfbf; text-decoration-color: #7fbfbf\">                    </span>         <span style=\"color: #008000; text-decoration-color: #008000\">ptx</span>                                                                         <span style=\"color: #7f7f7f; text-decoration-color: #7f7f7f\">          </span>\n",
       "</pre>\n"
      ],
      "text/plain": [
       "\u001b[2;36m                   \u001b[0m\u001b[2;36m \u001b[0m\u001b[34mINFO    \u001b[0m Destination:                                                                \u001b]8;id=641593;file://C:\\Users\\nbese\\OneDrive\\Documents\\GitHub\\doc2pptx\\src\\doc2pptx\\cli.py\u001b\\\u001b[2mcli.py\u001b[0m\u001b]8;;\u001b\\\u001b[2m:\u001b[0m\u001b]8;id=746100;file://C:\\Users\\nbese\\OneDrive\\Documents\\GitHub\\doc2pptx\\src\\doc2pptx\\cli.py#343\u001b\\\u001b[2m343\u001b[0m\u001b]8;;\u001b\\\n",
       "\u001b[2;36m                    \u001b[0m         \u001b[32mC:\\Users\\nbese\\OneDrive\\Documents\\GitHub\\doc2pptx\\data\\output\\cli_example.p\u001b[0m \u001b[2m          \u001b[0m\n",
       "\u001b[2;36m                    \u001b[0m         \u001b[32mptx\u001b[0m                                                                         \u001b[2m          \u001b[0m\n"
      ]
     },
     "metadata": {},
     "output_type": "display_data"
    },
    {
     "data": {
      "text/html": [
       "<pre style=\"white-space:pre;overflow-x:auto;line-height:normal;font-family:Menlo,'DejaVu Sans Mono',consolas,'Courier New',monospace\"><span style=\"color: #7fbfbf; text-decoration-color: #7fbfbf\">                    </span><span style=\"color: #000080; text-decoration-color: #000080\">INFO    </span> <span style=\"color: #000080; text-decoration-color: #000080; font-weight: bold\">Optimisation IA activée</span>                                                     <a href=\"file://C:\\Users\\nbese\\OneDrive\\Documents\\GitHub\\doc2pptx\\src\\doc2pptx\\cli.py\" target=\"_blank\"><span style=\"color: #7f7f7f; text-decoration-color: #7f7f7f\">cli.py</span></a><span style=\"color: #7f7f7f; text-decoration-color: #7f7f7f\">:</span><a href=\"file://C:\\Users\\nbese\\OneDrive\\Documents\\GitHub\\doc2pptx\\src\\doc2pptx\\cli.py#346\" target=\"_blank\"><span style=\"color: #7f7f7f; text-decoration-color: #7f7f7f\">346</span></a>\n",
       "</pre>\n"
      ],
      "text/plain": [
       "\u001b[2;36m                   \u001b[0m\u001b[2;36m \u001b[0m\u001b[34mINFO    \u001b[0m \u001b[1;34mOptimisation IA activée\u001b[0m                                                     \u001b]8;id=730273;file://C:\\Users\\nbese\\OneDrive\\Documents\\GitHub\\doc2pptx\\src\\doc2pptx\\cli.py\u001b\\\u001b[2mcli.py\u001b[0m\u001b]8;;\u001b\\\u001b[2m:\u001b[0m\u001b]8;id=521095;file://C:\\Users\\nbese\\OneDrive\\Documents\\GitHub\\doc2pptx\\src\\doc2pptx\\cli.py#346\u001b\\\u001b[2m346\u001b[0m\u001b]8;;\u001b\\\n"
      ]
     },
     "metadata": {},
     "output_type": "display_data"
    },
    {
     "data": {
      "text/html": [
       "<pre style=\"white-space:pre;overflow-x:auto;line-height:normal;font-family:Menlo,'DejaVu Sans Mono',consolas,'Courier New',monospace\"><span style=\"color: #7fbfbf; text-decoration-color: #7fbfbf\">                    </span><span style=\"color: #000080; text-decoration-color: #000080\">INFO    </span> <span style=\"color: #000080; text-decoration-color: #000080; font-weight: bold\">Planification de contenu IA activée</span>                                         <a href=\"file://C:\\Users\\nbese\\OneDrive\\Documents\\GitHub\\doc2pptx\\src\\doc2pptx\\cli.py\" target=\"_blank\"><span style=\"color: #7f7f7f; text-decoration-color: #7f7f7f\">cli.py</span></a><span style=\"color: #7f7f7f; text-decoration-color: #7f7f7f\">:</span><a href=\"file://C:\\Users\\nbese\\OneDrive\\Documents\\GitHub\\doc2pptx\\src\\doc2pptx\\cli.py#351\" target=\"_blank\"><span style=\"color: #7f7f7f; text-decoration-color: #7f7f7f\">351</span></a>\n",
       "</pre>\n"
      ],
      "text/plain": [
       "\u001b[2;36m                   \u001b[0m\u001b[2;36m \u001b[0m\u001b[34mINFO    \u001b[0m \u001b[1;34mPlanification de contenu IA activée\u001b[0m                                         \u001b]8;id=283597;file://C:\\Users\\nbese\\OneDrive\\Documents\\GitHub\\doc2pptx\\src\\doc2pptx\\cli.py\u001b\\\u001b[2mcli.py\u001b[0m\u001b]8;;\u001b\\\u001b[2m:\u001b[0m\u001b]8;id=752403;file://C:\\Users\\nbese\\OneDrive\\Documents\\GitHub\\doc2pptx\\src\\doc2pptx\\cli.py#351\u001b\\\u001b[2m351\u001b[0m\u001b]8;;\u001b\\\n"
      ]
     },
     "metadata": {},
     "output_type": "display_data"
    },
    {
     "data": {
      "text/html": [
       "<pre style=\"white-space:pre;overflow-x:auto;line-height:normal;font-family:Menlo,'DejaVu Sans Mono',consolas,'Courier New',monospace\"><span style=\"color: #7fbfbf; text-decoration-color: #7fbfbf\">                    </span><span style=\"color: #000080; text-decoration-color: #000080\">INFO    </span> Loading presentation data from Markdown:                                    <a href=\"file://C:\\Users\\nbese\\OneDrive\\Documents\\GitHub\\doc2pptx\\src\\doc2pptx\\cli.py\" target=\"_blank\"><span style=\"color: #7f7f7f; text-decoration-color: #7f7f7f\">cli.py</span></a><span style=\"color: #7f7f7f; text-decoration-color: #7f7f7f\">:</span><a href=\"file://C:\\Users\\nbese\\OneDrive\\Documents\\GitHub\\doc2pptx\\src\\doc2pptx\\cli.py#398\" target=\"_blank\"><span style=\"color: #7f7f7f; text-decoration-color: #7f7f7f\">398</span></a>\n",
       "<span style=\"color: #7fbfbf; text-decoration-color: #7fbfbf\">                    </span>         <span style=\"color: #800080; text-decoration-color: #800080\">C:\\Users\\nbese\\OneDrive\\Documents\\GitHub\\doc2pptx\\data\\input\\example2.md</span>    <span style=\"color: #7f7f7f; text-decoration-color: #7f7f7f\">          </span>\n",
       "</pre>\n"
      ],
      "text/plain": [
       "\u001b[2;36m                   \u001b[0m\u001b[2;36m \u001b[0m\u001b[34mINFO    \u001b[0m Loading presentation data from Markdown:                                    \u001b]8;id=563955;file://C:\\Users\\nbese\\OneDrive\\Documents\\GitHub\\doc2pptx\\src\\doc2pptx\\cli.py\u001b\\\u001b[2mcli.py\u001b[0m\u001b]8;;\u001b\\\u001b[2m:\u001b[0m\u001b]8;id=938998;file://C:\\Users\\nbese\\OneDrive\\Documents\\GitHub\\doc2pptx\\src\\doc2pptx\\cli.py#398\u001b\\\u001b[2m398\u001b[0m\u001b]8;;\u001b\\\n",
       "\u001b[2;36m                    \u001b[0m         \u001b[35mC:\\Users\\nbese\\OneDrive\\Documents\\GitHub\\doc2pptx\\data\\input\\example2.md\u001b[0m    \u001b[2m          \u001b[0m\n"
      ]
     },
     "metadata": {},
     "output_type": "display_data"
    },
    {
     "name": "stdout",
     "output_type": "stream",
     "text": [
      "⏳ Génération de la présentation via CLI...\n",
      "Commande équivalente: python -m doc2pptx.cli generate --template data\\templates\\base_template.pptx --output data\\output\\cli_example.pptx --ai-optimize --content-planning data\\input\\example2.md\n"
     ]
    },
    {
     "data": {
      "text/html": [
       "<pre style=\"white-space:pre;overflow-x:auto;line-height:normal;font-family:Menlo,'DejaVu Sans Mono',consolas,'Courier New',monospace\"><span style=\"color: #7fbfbf; text-decoration-color: #7fbfbf\">                    </span><span style=\"color: #808000; text-decoration-color: #808000\">WARNING </span> Unknown section type <span style=\"color: #008000; text-decoration-color: #008000\">'default'</span> - treating as <span style=\"color: #008000; text-decoration-color: #008000\">'custom'</span>                    <a href=\"file://C:\\Users\\nbese\\OneDrive\\Documents\\GitHub\\doc2pptx\\src\\doc2pptx\\core\\models.py\" target=\"_blank\"><span style=\"color: #7f7f7f; text-decoration-color: #7f7f7f\">models.py</span></a><span style=\"color: #7f7f7f; text-decoration-color: #7f7f7f\">:</span><a href=\"file://C:\\Users\\nbese\\OneDrive\\Documents\\GitHub\\doc2pptx\\src\\doc2pptx\\core\\models.py#121\" target=\"_blank\"><span style=\"color: #7f7f7f; text-decoration-color: #7f7f7f\">121</span></a>\n",
       "</pre>\n"
      ],
      "text/plain": [
       "\u001b[2;36m                   \u001b[0m\u001b[2;36m \u001b[0m\u001b[33mWARNING \u001b[0m Unknown section type \u001b[32m'default'\u001b[0m - treating as \u001b[32m'custom'\u001b[0m                    \u001b]8;id=524545;file://C:\\Users\\nbese\\OneDrive\\Documents\\GitHub\\doc2pptx\\src\\doc2pptx\\core\\models.py\u001b\\\u001b[2mmodels.py\u001b[0m\u001b]8;;\u001b\\\u001b[2m:\u001b[0m\u001b]8;id=232452;file://C:\\Users\\nbese\\OneDrive\\Documents\\GitHub\\doc2pptx\\src\\doc2pptx\\core\\models.py#121\u001b\\\u001b[2m121\u001b[0m\u001b]8;;\u001b\\\n"
      ]
     },
     "metadata": {},
     "output_type": "display_data"
    },
    {
     "data": {
      "text/html": [
       "<pre style=\"white-space:pre;overflow-x:auto;line-height:normal;font-family:Menlo,'DejaVu Sans Mono',consolas,'Courier New',monospace\"><span style=\"color: #7fbfbf; text-decoration-color: #7fbfbf\">                    </span><span style=\"color: #808000; text-decoration-color: #808000\">WARNING </span> API key format <span style=\"font-weight: bold\">(</span><span style=\"color: #008000; text-decoration-color: #008000\">'sk-pr...'</span><span style=\"font-weight: bold\">)</span> seems unusual. Attempting to initialize    <a href=\"file://C:\\Users\\nbese\\OneDrive\\Documents\\GitHub\\doc2pptx\\src\\doc2pptx\\llm\\optimizer.py\" target=\"_blank\"><span style=\"color: #7f7f7f; text-decoration-color: #7f7f7f\">optimizer.py</span></a><span style=\"color: #7f7f7f; text-decoration-color: #7f7f7f\">:</span><a href=\"file://C:\\Users\\nbese\\OneDrive\\Documents\\GitHub\\doc2pptx\\src\\doc2pptx\\llm\\optimizer.py#39\" target=\"_blank\"><span style=\"color: #7f7f7f; text-decoration-color: #7f7f7f\">39</span></a>\n",
       "<span style=\"color: #7fbfbf; text-decoration-color: #7fbfbf\">                    </span>         OpenAI client anyway.                                                  <span style=\"color: #7f7f7f; text-decoration-color: #7f7f7f\">               </span>\n",
       "</pre>\n"
      ],
      "text/plain": [
       "\u001b[2;36m                   \u001b[0m\u001b[2;36m \u001b[0m\u001b[33mWARNING \u001b[0m API key format \u001b[1m(\u001b[0m\u001b[32m'sk-pr...'\u001b[0m\u001b[1m)\u001b[0m seems unusual. Attempting to initialize    \u001b]8;id=864118;file://C:\\Users\\nbese\\OneDrive\\Documents\\GitHub\\doc2pptx\\src\\doc2pptx\\llm\\optimizer.py\u001b\\\u001b[2moptimizer.py\u001b[0m\u001b]8;;\u001b\\\u001b[2m:\u001b[0m\u001b]8;id=567808;file://C:\\Users\\nbese\\OneDrive\\Documents\\GitHub\\doc2pptx\\src\\doc2pptx\\llm\\optimizer.py#39\u001b\\\u001b[2m39\u001b[0m\u001b]8;;\u001b\\\n",
       "\u001b[2;36m                    \u001b[0m         OpenAI client anyway.                                                  \u001b[2m               \u001b[0m\n"
      ]
     },
     "metadata": {},
     "output_type": "display_data"
    },
    {
     "data": {
      "text/html": [
       "<pre style=\"white-space:pre;overflow-x:auto;line-height:normal;font-family:Menlo,'DejaVu Sans Mono',consolas,'Courier New',monospace\"><span style=\"color: #7fbfbf; text-decoration-color: #7fbfbf\">                    </span><span style=\"color: #000080; text-decoration-color: #000080\">INFO    </span> OpenAI client initialized successfully.                                <a href=\"file://C:\\Users\\nbese\\OneDrive\\Documents\\GitHub\\doc2pptx\\src\\doc2pptx\\llm\\optimizer.py\" target=\"_blank\"><span style=\"color: #7f7f7f; text-decoration-color: #7f7f7f\">optimizer.py</span></a><span style=\"color: #7f7f7f; text-decoration-color: #7f7f7f\">:</span><a href=\"file://C:\\Users\\nbese\\OneDrive\\Documents\\GitHub\\doc2pptx\\src\\doc2pptx\\llm\\optimizer.py#46\" target=\"_blank\"><span style=\"color: #7f7f7f; text-decoration-color: #7f7f7f\">46</span></a>\n",
       "</pre>\n"
      ],
      "text/plain": [
       "\u001b[2;36m                   \u001b[0m\u001b[2;36m \u001b[0m\u001b[34mINFO    \u001b[0m OpenAI client initialized successfully.                                \u001b]8;id=851546;file://C:\\Users\\nbese\\OneDrive\\Documents\\GitHub\\doc2pptx\\src\\doc2pptx\\llm\\optimizer.py\u001b\\\u001b[2moptimizer.py\u001b[0m\u001b]8;;\u001b\\\u001b[2m:\u001b[0m\u001b]8;id=414321;file://C:\\Users\\nbese\\OneDrive\\Documents\\GitHub\\doc2pptx\\src\\doc2pptx\\llm\\optimizer.py#46\u001b\\\u001b[2m46\u001b[0m\u001b]8;;\u001b\\\n"
      ]
     },
     "metadata": {},
     "output_type": "display_data"
    },
    {
     "data": {
      "text/html": [
       "<pre style=\"white-space:pre;overflow-x:auto;line-height:normal;font-family:Menlo,'DejaVu Sans Mono',consolas,'Courier New',monospace\"><span style=\"color: #7fbfbf; text-decoration-color: #7fbfbf\">                    </span><span style=\"color: #000080; text-decoration-color: #000080\">INFO    </span> Using AI-suggested layout: auto                                        <a href=\"file://C:\\Users\\nbese\\OneDrive\\Documents\\GitHub\\doc2pptx\\src\\doc2pptx\\layout\\selector.py\" target=\"_blank\"><span style=\"color: #7f7f7f; text-decoration-color: #7f7f7f\">selector.py</span></a><span style=\"color: #7f7f7f; text-decoration-color: #7f7f7f\">:</span><a href=\"file://C:\\Users\\nbese\\OneDrive\\Documents\\GitHub\\doc2pptx\\src\\doc2pptx\\layout\\selector.py#136\" target=\"_blank\"><span style=\"color: #7f7f7f; text-decoration-color: #7f7f7f\">136</span></a>\n",
       "</pre>\n"
      ],
      "text/plain": [
       "\u001b[2;36m                   \u001b[0m\u001b[2;36m \u001b[0m\u001b[34mINFO    \u001b[0m Using AI-suggested layout: auto                                        \u001b]8;id=427687;file://C:\\Users\\nbese\\OneDrive\\Documents\\GitHub\\doc2pptx\\src\\doc2pptx\\layout\\selector.py\u001b\\\u001b[2mselector.py\u001b[0m\u001b]8;;\u001b\\\u001b[2m:\u001b[0m\u001b]8;id=482335;file://C:\\Users\\nbese\\OneDrive\\Documents\\GitHub\\doc2pptx\\src\\doc2pptx\\layout\\selector.py#136\u001b\\\u001b[2m136\u001b[0m\u001b]8;;\u001b\\\n"
      ]
     },
     "metadata": {},
     "output_type": "display_data"
    },
    {
     "data": {
      "text/html": [
       "<pre style=\"white-space:pre;overflow-x:auto;line-height:normal;font-family:Menlo,'DejaVu Sans Mono',consolas,'Courier New',monospace\"><span style=\"color: #7fbfbf; text-decoration-color: #7fbfbf\">                    </span><span style=\"color: #000080; text-decoration-color: #000080\">INFO    </span> Selected table layout <span style=\"color: #008000; text-decoration-color: #008000\">'Titre et tableau'</span> for slide containing a table  <a href=\"file://C:\\Users\\nbese\\OneDrive\\Documents\\GitHub\\doc2pptx\\src\\doc2pptx\\layout\\selector.py\" target=\"_blank\"><span style=\"color: #7f7f7f; text-decoration-color: #7f7f7f\">selector.py</span></a><span style=\"color: #7f7f7f; text-decoration-color: #7f7f7f\">:</span><a href=\"file://C:\\Users\\nbese\\OneDrive\\Documents\\GitHub\\doc2pptx\\src\\doc2pptx\\layout\\selector.py#116\" target=\"_blank\"><span style=\"color: #7f7f7f; text-decoration-color: #7f7f7f\">116</span></a>\n",
       "</pre>\n"
      ],
      "text/plain": [
       "\u001b[2;36m                   \u001b[0m\u001b[2;36m \u001b[0m\u001b[34mINFO    \u001b[0m Selected table layout \u001b[32m'Titre et tableau'\u001b[0m for slide containing a table  \u001b]8;id=392318;file://C:\\Users\\nbese\\OneDrive\\Documents\\GitHub\\doc2pptx\\src\\doc2pptx\\layout\\selector.py\u001b\\\u001b[2mselector.py\u001b[0m\u001b]8;;\u001b\\\u001b[2m:\u001b[0m\u001b]8;id=721950;file://C:\\Users\\nbese\\OneDrive\\Documents\\GitHub\\doc2pptx\\src\\doc2pptx\\layout\\selector.py#116\u001b\\\u001b[2m116\u001b[0m\u001b]8;;\u001b\\\n"
      ]
     },
     "metadata": {},
     "output_type": "display_data"
    },
    {
     "data": {
      "text/html": [
       "<pre style=\"white-space:pre;overflow-x:auto;line-height:normal;font-family:Menlo,'DejaVu Sans Mono',consolas,'Courier New',monospace\"><span style=\"color: #7fbfbf; text-decoration-color: #7fbfbf\">                    </span><span style=\"color: #000080; text-decoration-color: #000080\">INFO    </span> Markdown presentation data loaded successfully.                             <a href=\"file://C:\\Users\\nbese\\OneDrive\\Documents\\GitHub\\doc2pptx\\src\\doc2pptx\\cli.py\" target=\"_blank\"><span style=\"color: #7f7f7f; text-decoration-color: #7f7f7f\">cli.py</span></a><span style=\"color: #7f7f7f; text-decoration-color: #7f7f7f\">:</span><a href=\"file://C:\\Users\\nbese\\OneDrive\\Documents\\GitHub\\doc2pptx\\src\\doc2pptx\\cli.py#405\" target=\"_blank\"><span style=\"color: #7f7f7f; text-decoration-color: #7f7f7f\">405</span></a>\n",
       "</pre>\n"
      ],
      "text/plain": [
       "\u001b[2;36m                   \u001b[0m\u001b[2;36m \u001b[0m\u001b[34mINFO    \u001b[0m Markdown presentation data loaded successfully.                             \u001b]8;id=884424;file://C:\\Users\\nbese\\OneDrive\\Documents\\GitHub\\doc2pptx\\src\\doc2pptx\\cli.py\u001b\\\u001b[2mcli.py\u001b[0m\u001b]8;;\u001b\\\u001b[2m:\u001b[0m\u001b]8;id=853564;file://C:\\Users\\nbese\\OneDrive\\Documents\\GitHub\\doc2pptx\\src\\doc2pptx\\cli.py#405\u001b\\\u001b[2m405\u001b[0m\u001b]8;;\u001b\\\n"
      ]
     },
     "metadata": {},
     "output_type": "display_data"
    },
    {
     "data": {
      "text/html": [
       "<pre style=\"white-space:pre;overflow-x:auto;line-height:normal;font-family:Menlo,'DejaVu Sans Mono',consolas,'Courier New',monospace\"><span style=\"color: #7fbfbf; text-decoration-color: #7fbfbf\">                    </span><span style=\"color: #000080; text-decoration-color: #000080\">INFO    </span> AI optimization enabled. Analyzing markdown structure.                      <a href=\"file://C:\\Users\\nbese\\OneDrive\\Documents\\GitHub\\doc2pptx\\src\\doc2pptx\\cli.py\" target=\"_blank\"><span style=\"color: #7f7f7f; text-decoration-color: #7f7f7f\">cli.py</span></a><span style=\"color: #7f7f7f; text-decoration-color: #7f7f7f\">:</span><a href=\"file://C:\\Users\\nbese\\OneDrive\\Documents\\GitHub\\doc2pptx\\src\\doc2pptx\\cli.py#409\" target=\"_blank\"><span style=\"color: #7f7f7f; text-decoration-color: #7f7f7f\">409</span></a>\n",
       "</pre>\n"
      ],
      "text/plain": [
       "\u001b[2;36m                   \u001b[0m\u001b[2;36m \u001b[0m\u001b[34mINFO    \u001b[0m AI optimization enabled. Analyzing markdown structure.                      \u001b]8;id=461773;file://C:\\Users\\nbese\\OneDrive\\Documents\\GitHub\\doc2pptx\\src\\doc2pptx\\cli.py\u001b\\\u001b[2mcli.py\u001b[0m\u001b]8;;\u001b\\\u001b[2m:\u001b[0m\u001b]8;id=129165;file://C:\\Users\\nbese\\OneDrive\\Documents\\GitHub\\doc2pptx\\src\\doc2pptx\\cli.py#409\u001b\\\u001b[2m409\u001b[0m\u001b]8;;\u001b\\\n"
      ]
     },
     "metadata": {},
     "output_type": "display_data"
    },
    {
     "data": {
      "text/html": [
       "<pre style=\"white-space:pre;overflow-x:auto;line-height:normal;font-family:Menlo,'DejaVu Sans Mono',consolas,'Courier New',monospace\">c:\\Users\\nbese\\anaconda3\\envs\\doc2pptx\\Lib\\site-packages\\rich\\live.py:231: UserWarning: install \"ipywidgets\" for \n",
       "Jupyter support\n",
       "  warnings.warn('install \"ipywidgets\" for Jupyter support')\n",
       "</pre>\n"
      ],
      "text/plain": [
       "c:\\Users\\nbese\\anaconda3\\envs\\doc2pptx\\Lib\\site-packages\\rich\\live.py:231: UserWarning: install \"ipywidgets\" for \n",
       "Jupyter support\n",
       "  warnings.warn('install \"ipywidgets\" for Jupyter support')\n"
      ]
     },
     "metadata": {},
     "output_type": "display_data"
    },
    {
     "data": {
      "text/html": [
       "<pre style=\"white-space:pre;overflow-x:auto;line-height:normal;font-family:Menlo,'DejaVu Sans Mono',consolas,'Courier New',monospace\"><span style=\"color: #7fbfbf; text-decoration-color: #7fbfbf\">                    </span><span style=\"color: #808000; text-decoration-color: #808000\">WARNING </span> API key format <span style=\"font-weight: bold\">(</span><span style=\"color: #008000; text-decoration-color: #008000\">'sk-pr...'</span><span style=\"font-weight: bold\">)</span> seems unusual. Attempting to initialize    <a href=\"file://C:\\Users\\nbese\\OneDrive\\Documents\\GitHub\\doc2pptx\\src\\doc2pptx\\llm\\optimizer.py\" target=\"_blank\"><span style=\"color: #7f7f7f; text-decoration-color: #7f7f7f\">optimizer.py</span></a><span style=\"color: #7f7f7f; text-decoration-color: #7f7f7f\">:</span><a href=\"file://C:\\Users\\nbese\\OneDrive\\Documents\\GitHub\\doc2pptx\\src\\doc2pptx\\llm\\optimizer.py#39\" target=\"_blank\"><span style=\"color: #7f7f7f; text-decoration-color: #7f7f7f\">39</span></a>\n",
       "<span style=\"color: #7fbfbf; text-decoration-color: #7fbfbf\">                    </span>         OpenAI client anyway.                                                  <span style=\"color: #7f7f7f; text-decoration-color: #7f7f7f\">               </span>\n",
       "</pre>\n"
      ],
      "text/plain": [
       "\u001b[2;36m                   \u001b[0m\u001b[2;36m \u001b[0m\u001b[33mWARNING \u001b[0m API key format \u001b[1m(\u001b[0m\u001b[32m'sk-pr...'\u001b[0m\u001b[1m)\u001b[0m seems unusual. Attempting to initialize    \u001b]8;id=801557;file://C:\\Users\\nbese\\OneDrive\\Documents\\GitHub\\doc2pptx\\src\\doc2pptx\\llm\\optimizer.py\u001b\\\u001b[2moptimizer.py\u001b[0m\u001b]8;;\u001b\\\u001b[2m:\u001b[0m\u001b]8;id=640291;file://C:\\Users\\nbese\\OneDrive\\Documents\\GitHub\\doc2pptx\\src\\doc2pptx\\llm\\optimizer.py#39\u001b\\\u001b[2m39\u001b[0m\u001b]8;;\u001b\\\n",
       "\u001b[2;36m                    \u001b[0m         OpenAI client anyway.                                                  \u001b[2m               \u001b[0m\n"
      ]
     },
     "metadata": {},
     "output_type": "display_data"
    },
    {
     "data": {
      "text/html": [
       "<pre style=\"white-space:pre;overflow-x:auto;line-height:normal;font-family:Menlo,'DejaVu Sans Mono',consolas,'Courier New',monospace\"><span style=\"color: #7fbfbf; text-decoration-color: #7fbfbf\">                    </span><span style=\"color: #000080; text-decoration-color: #000080\">INFO    </span> OpenAI client initialized successfully.                                <a href=\"file://C:\\Users\\nbese\\OneDrive\\Documents\\GitHub\\doc2pptx\\src\\doc2pptx\\llm\\optimizer.py\" target=\"_blank\"><span style=\"color: #7f7f7f; text-decoration-color: #7f7f7f\">optimizer.py</span></a><span style=\"color: #7f7f7f; text-decoration-color: #7f7f7f\">:</span><a href=\"file://C:\\Users\\nbese\\OneDrive\\Documents\\GitHub\\doc2pptx\\src\\doc2pptx\\llm\\optimizer.py#46\" target=\"_blank\"><span style=\"color: #7f7f7f; text-decoration-color: #7f7f7f\">46</span></a>\n",
       "</pre>\n"
      ],
      "text/plain": [
       "\u001b[2;36m                   \u001b[0m\u001b[2;36m \u001b[0m\u001b[34mINFO    \u001b[0m OpenAI client initialized successfully.                                \u001b]8;id=526892;file://C:\\Users\\nbese\\OneDrive\\Documents\\GitHub\\doc2pptx\\src\\doc2pptx\\llm\\optimizer.py\u001b\\\u001b[2moptimizer.py\u001b[0m\u001b]8;;\u001b\\\u001b[2m:\u001b[0m\u001b]8;id=293576;file://C:\\Users\\nbese\\OneDrive\\Documents\\GitHub\\doc2pptx\\src\\doc2pptx\\llm\\optimizer.py#46\u001b\\\u001b[2m46\u001b[0m\u001b]8;;\u001b\\\n"
      ]
     },
     "metadata": {},
     "output_type": "display_data"
    },
    {
     "data": {
      "text/html": [
       "<pre style=\"white-space:pre;overflow-x:auto;line-height:normal;font-family:Menlo,'DejaVu Sans Mono',consolas,'Courier New',monospace\"><span style=\"color: #7fbfbf; text-decoration-color: #7fbfbf\">                    </span><span style=\"color: #000080; text-decoration-color: #000080\">INFO    </span> Sending optimization request to OpenAI API                            <a href=\"file://C:\\Users\\nbese\\OneDrive\\Documents\\GitHub\\doc2pptx\\src\\doc2pptx\\llm\\optimizer.py\" target=\"_blank\"><span style=\"color: #7f7f7f; text-decoration-color: #7f7f7f\">optimizer.py</span></a><span style=\"color: #7f7f7f; text-decoration-color: #7f7f7f\">:</span><a href=\"file://C:\\Users\\nbese\\OneDrive\\Documents\\GitHub\\doc2pptx\\src\\doc2pptx\\llm\\optimizer.py#128\" target=\"_blank\"><span style=\"color: #7f7f7f; text-decoration-color: #7f7f7f\">128</span></a>\n",
       "</pre>\n"
      ],
      "text/plain": [
       "\u001b[2;36m                   \u001b[0m\u001b[2;36m \u001b[0m\u001b[34mINFO    \u001b[0m Sending optimization request to OpenAI API                            \u001b]8;id=358274;file://C:\\Users\\nbese\\OneDrive\\Documents\\GitHub\\doc2pptx\\src\\doc2pptx\\llm\\optimizer.py\u001b\\\u001b[2moptimizer.py\u001b[0m\u001b]8;;\u001b\\\u001b[2m:\u001b[0m\u001b]8;id=500548;file://C:\\Users\\nbese\\OneDrive\\Documents\\GitHub\\doc2pptx\\src\\doc2pptx\\llm\\optimizer.py#128\u001b\\\u001b[2m128\u001b[0m\u001b]8;;\u001b\\\n"
      ]
     },
     "metadata": {},
     "output_type": "display_data"
    },
    {
     "data": {
      "text/html": [
       "<pre style=\"white-space:pre;overflow-x:auto;line-height:normal;font-family:Menlo,'DejaVu Sans Mono',consolas,'Courier New',monospace\"><span style=\"color: #7fbfbf; text-decoration-color: #7fbfbf\">[05/14/25 16:58:21] </span><span style=\"color: #000080; text-decoration-color: #000080\">INFO    </span> Successfully received and parsed optimization result                  <a href=\"file://C:\\Users\\nbese\\OneDrive\\Documents\\GitHub\\doc2pptx\\src\\doc2pptx\\llm\\optimizer.py\" target=\"_blank\"><span style=\"color: #7f7f7f; text-decoration-color: #7f7f7f\">optimizer.py</span></a><span style=\"color: #7f7f7f; text-decoration-color: #7f7f7f\">:</span><a href=\"file://C:\\Users\\nbese\\OneDrive\\Documents\\GitHub\\doc2pptx\\src\\doc2pptx\\llm\\optimizer.py#153\" target=\"_blank\"><span style=\"color: #7f7f7f; text-decoration-color: #7f7f7f\">153</span></a>\n",
       "</pre>\n"
      ],
      "text/plain": [
       "\u001b[2;36m[05/14/25 16:58:21]\u001b[0m\u001b[2;36m \u001b[0m\u001b[34mINFO    \u001b[0m Successfully received and parsed optimization result                  \u001b]8;id=48957;file://C:\\Users\\nbese\\OneDrive\\Documents\\GitHub\\doc2pptx\\src\\doc2pptx\\llm\\optimizer.py\u001b\\\u001b[2moptimizer.py\u001b[0m\u001b]8;;\u001b\\\u001b[2m:\u001b[0m\u001b]8;id=581558;file://C:\\Users\\nbese\\OneDrive\\Documents\\GitHub\\doc2pptx\\src\\doc2pptx\\llm\\optimizer.py#153\u001b\\\u001b[2m153\u001b[0m\u001b]8;;\u001b\\\n"
      ]
     },
     "metadata": {},
     "output_type": "display_data"
    },
    {
     "data": {
      "text/html": [
       "<pre style=\"white-space:pre;overflow-x:auto;line-height:normal;font-family:Menlo,'DejaVu Sans Mono',consolas,'Courier New',monospace\"><span style=\"color: #7fbfbf; text-decoration-color: #7fbfbf\">                    </span><span style=\"color: #800000; text-decoration-color: #800000; font-weight: bold\">ERROR   </span> Error during AI optimization: cannot access local variable <span style=\"color: #008000; text-decoration-color: #008000\">'ContentType'</span>    <a href=\"file://C:\\Users\\nbese\\OneDrive\\Documents\\GitHub\\doc2pptx\\src\\doc2pptx\\cli.py\" target=\"_blank\"><span style=\"color: #7f7f7f; text-decoration-color: #7f7f7f\">cli.py</span></a><span style=\"color: #7f7f7f; text-decoration-color: #7f7f7f\">:</span><a href=\"file://C:\\Users\\nbese\\OneDrive\\Documents\\GitHub\\doc2pptx\\src\\doc2pptx\\cli.py#439\" target=\"_blank\"><span style=\"color: #7f7f7f; text-decoration-color: #7f7f7f\">439</span></a>\n",
       "<span style=\"color: #7fbfbf; text-decoration-color: #7fbfbf\">                    </span>         where it is not associated with a value                                     <span style=\"color: #7f7f7f; text-decoration-color: #7f7f7f\">          </span>\n",
       "</pre>\n"
      ],
      "text/plain": [
       "\u001b[2;36m                   \u001b[0m\u001b[2;36m \u001b[0m\u001b[1;31mERROR   \u001b[0m Error during AI optimization: cannot access local variable \u001b[32m'ContentType'\u001b[0m    \u001b]8;id=673961;file://C:\\Users\\nbese\\OneDrive\\Documents\\GitHub\\doc2pptx\\src\\doc2pptx\\cli.py\u001b\\\u001b[2mcli.py\u001b[0m\u001b]8;;\u001b\\\u001b[2m:\u001b[0m\u001b]8;id=720527;file://C:\\Users\\nbese\\OneDrive\\Documents\\GitHub\\doc2pptx\\src\\doc2pptx\\cli.py#439\u001b\\\u001b[2m439\u001b[0m\u001b]8;;\u001b\\\n",
       "\u001b[2;36m                    \u001b[0m         where it is not associated with a value                                     \u001b[2m          \u001b[0m\n"
      ]
     },
     "metadata": {},
     "output_type": "display_data"
    },
    {
     "data": {
      "text/html": [
       "<pre style=\"white-space:pre;overflow-x:auto;line-height:normal;font-family:Menlo,'DejaVu Sans Mono',consolas,'Courier New',monospace\"></pre>\n"
      ],
      "text/plain": []
     },
     "metadata": {},
     "output_type": "display_data"
    },
    {
     "data": {
      "text/html": [
       "<pre style=\"white-space:pre;overflow-x:auto;line-height:normal;font-family:Menlo,'DejaVu Sans Mono',consolas,'Courier New',monospace\"><span style=\"color: #7fbfbf; text-decoration-color: #7fbfbf\">                    </span><span style=\"color: #000080; text-decoration-color: #000080\">INFO    </span> Content planning enabled. Optimizing slide organization.                    <a href=\"file://C:\\Users\\nbese\\OneDrive\\Documents\\GitHub\\doc2pptx\\src\\doc2pptx\\cli.py\" target=\"_blank\"><span style=\"color: #7f7f7f; text-decoration-color: #7f7f7f\">cli.py</span></a><span style=\"color: #7f7f7f; text-decoration-color: #7f7f7f\">:</span><a href=\"file://C:\\Users\\nbese\\OneDrive\\Documents\\GitHub\\doc2pptx\\src\\doc2pptx\\cli.py#443\" target=\"_blank\"><span style=\"color: #7f7f7f; text-decoration-color: #7f7f7f\">443</span></a>\n",
       "</pre>\n"
      ],
      "text/plain": [
       "\u001b[2;36m                   \u001b[0m\u001b[2;36m \u001b[0m\u001b[34mINFO    \u001b[0m Content planning enabled. Optimizing slide organization.                    \u001b]8;id=745033;file://C:\\Users\\nbese\\OneDrive\\Documents\\GitHub\\doc2pptx\\src\\doc2pptx\\cli.py\u001b\\\u001b[2mcli.py\u001b[0m\u001b]8;;\u001b\\\u001b[2m:\u001b[0m\u001b]8;id=888611;file://C:\\Users\\nbese\\OneDrive\\Documents\\GitHub\\doc2pptx\\src\\doc2pptx\\cli.py#443\u001b\\\u001b[2m443\u001b[0m\u001b]8;;\u001b\\\n"
      ]
     },
     "metadata": {},
     "output_type": "display_data"
    },
    {
     "data": {
      "text/html": [
       "<pre style=\"white-space:pre;overflow-x:auto;line-height:normal;font-family:Menlo,'DejaVu Sans Mono',consolas,'Courier New',monospace\"><span style=\"color: #7fbfbf; text-decoration-color: #7fbfbf\">                    </span><span style=\"color: #808000; text-decoration-color: #808000\">WARNING </span> API key format <span style=\"font-weight: bold\">(</span><span style=\"color: #008000; text-decoration-color: #008000\">'sk-pr...'</span><span style=\"font-weight: bold\">)</span> seems unusual. Attempting to initialize    <a href=\"file://C:\\Users\\nbese\\OneDrive\\Documents\\GitHub\\doc2pptx\\src\\doc2pptx\\llm\\optimizer.py\" target=\"_blank\"><span style=\"color: #7f7f7f; text-decoration-color: #7f7f7f\">optimizer.py</span></a><span style=\"color: #7f7f7f; text-decoration-color: #7f7f7f\">:</span><a href=\"file://C:\\Users\\nbese\\OneDrive\\Documents\\GitHub\\doc2pptx\\src\\doc2pptx\\llm\\optimizer.py#39\" target=\"_blank\"><span style=\"color: #7f7f7f; text-decoration-color: #7f7f7f\">39</span></a>\n",
       "<span style=\"color: #7fbfbf; text-decoration-color: #7fbfbf\">                    </span>         OpenAI client anyway.                                                  <span style=\"color: #7f7f7f; text-decoration-color: #7f7f7f\">               </span>\n",
       "</pre>\n"
      ],
      "text/plain": [
       "\u001b[2;36m                   \u001b[0m\u001b[2;36m \u001b[0m\u001b[33mWARNING \u001b[0m API key format \u001b[1m(\u001b[0m\u001b[32m'sk-pr...'\u001b[0m\u001b[1m)\u001b[0m seems unusual. Attempting to initialize    \u001b]8;id=262852;file://C:\\Users\\nbese\\OneDrive\\Documents\\GitHub\\doc2pptx\\src\\doc2pptx\\llm\\optimizer.py\u001b\\\u001b[2moptimizer.py\u001b[0m\u001b]8;;\u001b\\\u001b[2m:\u001b[0m\u001b]8;id=152957;file://C:\\Users\\nbese\\OneDrive\\Documents\\GitHub\\doc2pptx\\src\\doc2pptx\\llm\\optimizer.py#39\u001b\\\u001b[2m39\u001b[0m\u001b]8;;\u001b\\\n",
       "\u001b[2;36m                    \u001b[0m         OpenAI client anyway.                                                  \u001b[2m               \u001b[0m\n"
      ]
     },
     "metadata": {},
     "output_type": "display_data"
    },
    {
     "data": {
      "text/html": [
       "<pre style=\"white-space:pre;overflow-x:auto;line-height:normal;font-family:Menlo,'DejaVu Sans Mono',consolas,'Courier New',monospace\"><span style=\"color: #7fbfbf; text-decoration-color: #7fbfbf\">                    </span><span style=\"color: #000080; text-decoration-color: #000080\">INFO    </span> OpenAI client initialized successfully.                                <a href=\"file://C:\\Users\\nbese\\OneDrive\\Documents\\GitHub\\doc2pptx\\src\\doc2pptx\\llm\\optimizer.py\" target=\"_blank\"><span style=\"color: #7f7f7f; text-decoration-color: #7f7f7f\">optimizer.py</span></a><span style=\"color: #7f7f7f; text-decoration-color: #7f7f7f\">:</span><a href=\"file://C:\\Users\\nbese\\OneDrive\\Documents\\GitHub\\doc2pptx\\src\\doc2pptx\\llm\\optimizer.py#46\" target=\"_blank\"><span style=\"color: #7f7f7f; text-decoration-color: #7f7f7f\">46</span></a>\n",
       "</pre>\n"
      ],
      "text/plain": [
       "\u001b[2;36m                   \u001b[0m\u001b[2;36m \u001b[0m\u001b[34mINFO    \u001b[0m OpenAI client initialized successfully.                                \u001b]8;id=879332;file://C:\\Users\\nbese\\OneDrive\\Documents\\GitHub\\doc2pptx\\src\\doc2pptx\\llm\\optimizer.py\u001b\\\u001b[2moptimizer.py\u001b[0m\u001b]8;;\u001b\\\u001b[2m:\u001b[0m\u001b]8;id=530738;file://C:\\Users\\nbese\\OneDrive\\Documents\\GitHub\\doc2pptx\\src\\doc2pptx\\llm\\optimizer.py#46\u001b\\\u001b[2m46\u001b[0m\u001b]8;;\u001b\\\n"
      ]
     },
     "metadata": {},
     "output_type": "display_data"
    },
    {
     "data": {
      "text/html": [
       "<pre style=\"white-space:pre;overflow-x:auto;line-height:normal;font-family:Menlo,'DejaVu Sans Mono',consolas,'Courier New',monospace\"><span style=\"color: #7fbfbf; text-decoration-color: #7fbfbf\">[05/14/25 16:58:49] </span><span style=\"color: #000080; text-decoration-color: #000080\">INFO    </span> Successfully planned content for section <span style=\"color: #008000; text-decoration-color: #008000\">'Rapport d'</span>Analyse de  <a href=\"file://C:\\Users\\nbese\\OneDrive\\Documents\\GitHub\\doc2pptx\\src\\doc2pptx\\llm\\content_planner.py\" target=\"_blank\"><span style=\"color: #7f7f7f; text-decoration-color: #7f7f7f\">content_planner.py</span></a><span style=\"color: #7f7f7f; text-decoration-color: #7f7f7f\">:</span><a href=\"file://C:\\Users\\nbese\\OneDrive\\Documents\\GitHub\\doc2pptx\\src\\doc2pptx\\llm\\content_planner.py#117\" target=\"_blank\"><span style=\"color: #7f7f7f; text-decoration-color: #7f7f7f\">117</span></a>\n",
       "<span style=\"color: #7fbfbf; text-decoration-color: #7fbfbf\">                    </span>         Marché Web <span style=\"color: #008080; text-decoration-color: #008080; font-weight: bold\">2025</span>' with AI                                        <span style=\"color: #7f7f7f; text-decoration-color: #7f7f7f\">                      </span>\n",
       "</pre>\n"
      ],
      "text/plain": [
       "\u001b[2;36m[05/14/25 16:58:49]\u001b[0m\u001b[2;36m \u001b[0m\u001b[34mINFO    \u001b[0m Successfully planned content for section \u001b[32m'Rapport d'\u001b[0mAnalyse de  \u001b]8;id=899072;file://C:\\Users\\nbese\\OneDrive\\Documents\\GitHub\\doc2pptx\\src\\doc2pptx\\llm\\content_planner.py\u001b\\\u001b[2mcontent_planner.py\u001b[0m\u001b]8;;\u001b\\\u001b[2m:\u001b[0m\u001b]8;id=161278;file://C:\\Users\\nbese\\OneDrive\\Documents\\GitHub\\doc2pptx\\src\\doc2pptx\\llm\\content_planner.py#117\u001b\\\u001b[2m117\u001b[0m\u001b]8;;\u001b\\\n",
       "\u001b[2;36m                    \u001b[0m         Marché Web \u001b[1;36m2025\u001b[0m' with AI                                        \u001b[2m                      \u001b[0m\n"
      ]
     },
     "metadata": {},
     "output_type": "display_data"
    },
    {
     "data": {
      "text/html": [
       "<pre style=\"white-space:pre;overflow-x:auto;line-height:normal;font-family:Menlo,'DejaVu Sans Mono',consolas,'Courier New',monospace\"><span style=\"color: #7fbfbf; text-decoration-color: #7fbfbf\">                    </span><span style=\"color: #000080; text-decoration-color: #000080\">INFO    </span> Content planning completed successfully.                                    <a href=\"file://C:\\Users\\nbese\\OneDrive\\Documents\\GitHub\\doc2pptx\\src\\doc2pptx\\cli.py\" target=\"_blank\"><span style=\"color: #7f7f7f; text-decoration-color: #7f7f7f\">cli.py</span></a><span style=\"color: #7f7f7f; text-decoration-color: #7f7f7f\">:</span><a href=\"file://C:\\Users\\nbese\\OneDrive\\Documents\\GitHub\\doc2pptx\\src\\doc2pptx\\cli.py#473\" target=\"_blank\"><span style=\"color: #7f7f7f; text-decoration-color: #7f7f7f\">473</span></a>\n",
       "</pre>\n"
      ],
      "text/plain": [
       "\u001b[2;36m                   \u001b[0m\u001b[2;36m \u001b[0m\u001b[34mINFO    \u001b[0m Content planning completed successfully.                                    \u001b]8;id=121337;file://C:\\Users\\nbese\\OneDrive\\Documents\\GitHub\\doc2pptx\\src\\doc2pptx\\cli.py\u001b\\\u001b[2mcli.py\u001b[0m\u001b]8;;\u001b\\\u001b[2m:\u001b[0m\u001b]8;id=536098;file://C:\\Users\\nbese\\OneDrive\\Documents\\GitHub\\doc2pptx\\src\\doc2pptx\\cli.py#473\u001b\\\u001b[2m473\u001b[0m\u001b]8;;\u001b\\\n"
      ]
     },
     "metadata": {},
     "output_type": "display_data"
    },
    {
     "data": {
      "text/html": [
       "<pre style=\"white-space:pre;overflow-x:auto;line-height:normal;font-family:Menlo,'DejaVu Sans Mono',consolas,'Courier New',monospace\"></pre>\n"
      ],
      "text/plain": []
     },
     "metadata": {},
     "output_type": "display_data"
    },
    {
     "data": {
      "text/html": [
       "<pre style=\"white-space:pre;overflow-x:auto;line-height:normal;font-family:Menlo,'DejaVu Sans Mono',consolas,'Courier New',monospace\"><span style=\"color: #7fbfbf; text-decoration-color: #7fbfbf\">                    </span><span style=\"color: #000080; text-decoration-color: #000080\">INFO    </span> Initializing PPTBuilder with template:                                      <a href=\"file://C:\\Users\\nbese\\OneDrive\\Documents\\GitHub\\doc2pptx\\src\\doc2pptx\\cli.py\" target=\"_blank\"><span style=\"color: #7f7f7f; text-decoration-color: #7f7f7f\">cli.py</span></a><span style=\"color: #7f7f7f; text-decoration-color: #7f7f7f\">:</span><a href=\"file://C:\\Users\\nbese\\OneDrive\\Documents\\GitHub\\doc2pptx\\src\\doc2pptx\\cli.py#479\" target=\"_blank\"><span style=\"color: #7f7f7f; text-decoration-color: #7f7f7f\">479</span></a>\n",
       "<span style=\"color: #7fbfbf; text-decoration-color: #7fbfbf\">                    </span>         <span style=\"color: #008080; text-decoration-color: #008080\">C:\\Users\\nbese\\OneDrive\\Documents\\GitHub\\doc2pptx\\data\\templates\\base_templ</span> <span style=\"color: #7f7f7f; text-decoration-color: #7f7f7f\">          </span>\n",
       "<span style=\"color: #7fbfbf; text-decoration-color: #7fbfbf\">                    </span>         <span style=\"color: #008080; text-decoration-color: #008080\">ate.pptx</span>                                                                    <span style=\"color: #7f7f7f; text-decoration-color: #7f7f7f\">          </span>\n",
       "</pre>\n"
      ],
      "text/plain": [
       "\u001b[2;36m                   \u001b[0m\u001b[2;36m \u001b[0m\u001b[34mINFO    \u001b[0m Initializing PPTBuilder with template:                                      \u001b]8;id=25966;file://C:\\Users\\nbese\\OneDrive\\Documents\\GitHub\\doc2pptx\\src\\doc2pptx\\cli.py\u001b\\\u001b[2mcli.py\u001b[0m\u001b]8;;\u001b\\\u001b[2m:\u001b[0m\u001b]8;id=195686;file://C:\\Users\\nbese\\OneDrive\\Documents\\GitHub\\doc2pptx\\src\\doc2pptx\\cli.py#479\u001b\\\u001b[2m479\u001b[0m\u001b]8;;\u001b\\\n",
       "\u001b[2;36m                    \u001b[0m         \u001b[36mC:\\Users\\nbese\\OneDrive\\Documents\\GitHub\\doc2pptx\\data\\templates\\base_templ\u001b[0m \u001b[2m          \u001b[0m\n",
       "\u001b[2;36m                    \u001b[0m         \u001b[36mate.pptx\u001b[0m                                                                    \u001b[2m          \u001b[0m\n"
      ]
     },
     "metadata": {},
     "output_type": "display_data"
    },
    {
     "data": {
      "text/html": [
       "<pre style=\"white-space:pre;overflow-x:auto;line-height:normal;font-family:Menlo,'DejaVu Sans Mono',consolas,'Courier New',monospace\"><span style=\"color: #7fbfbf; text-decoration-color: #7fbfbf\">                    </span><span style=\"color: #808000; text-decoration-color: #808000\">WARNING </span> Unknown section type <span style=\"color: #008000; text-decoration-color: #008000\">'default'</span> - treating as <span style=\"color: #008000; text-decoration-color: #008000\">'custom'</span>                    <a href=\"file://C:\\Users\\nbese\\OneDrive\\Documents\\GitHub\\doc2pptx\\src\\doc2pptx\\core\\models.py\" target=\"_blank\"><span style=\"color: #7f7f7f; text-decoration-color: #7f7f7f\">models.py</span></a><span style=\"color: #7f7f7f; text-decoration-color: #7f7f7f\">:</span><a href=\"file://C:\\Users\\nbese\\OneDrive\\Documents\\GitHub\\doc2pptx\\src\\doc2pptx\\core\\models.py#121\" target=\"_blank\"><span style=\"color: #7f7f7f; text-decoration-color: #7f7f7f\">121</span></a>\n",
       "</pre>\n"
      ],
      "text/plain": [
       "\u001b[2;36m                   \u001b[0m\u001b[2;36m \u001b[0m\u001b[33mWARNING \u001b[0m Unknown section type \u001b[32m'default'\u001b[0m - treating as \u001b[32m'custom'\u001b[0m                    \u001b]8;id=341345;file://C:\\Users\\nbese\\OneDrive\\Documents\\GitHub\\doc2pptx\\src\\doc2pptx\\core\\models.py\u001b\\\u001b[2mmodels.py\u001b[0m\u001b]8;;\u001b\\\u001b[2m:\u001b[0m\u001b]8;id=537207;file://C:\\Users\\nbese\\OneDrive\\Documents\\GitHub\\doc2pptx\\src\\doc2pptx\\core\\models.py#121\u001b\\\u001b[2m121\u001b[0m\u001b]8;;\u001b\\\n"
      ]
     },
     "metadata": {},
     "output_type": "display_data"
    },
    {
     "data": {
      "text/html": [
       "<pre style=\"white-space:pre;overflow-x:auto;line-height:normal;font-family:Menlo,'DejaVu Sans Mono',consolas,'Courier New',monospace\"><span style=\"color: #7fbfbf; text-decoration-color: #7fbfbf\">                    </span><span style=\"color: #808000; text-decoration-color: #808000\">WARNING </span> API key format <span style=\"font-weight: bold\">(</span><span style=\"color: #008000; text-decoration-color: #008000\">'sk-pr...'</span><span style=\"font-weight: bold\">)</span> seems unusual. Attempting to initialize    <a href=\"file://C:\\Users\\nbese\\OneDrive\\Documents\\GitHub\\doc2pptx\\src\\doc2pptx\\llm\\optimizer.py\" target=\"_blank\"><span style=\"color: #7f7f7f; text-decoration-color: #7f7f7f\">optimizer.py</span></a><span style=\"color: #7f7f7f; text-decoration-color: #7f7f7f\">:</span><a href=\"file://C:\\Users\\nbese\\OneDrive\\Documents\\GitHub\\doc2pptx\\src\\doc2pptx\\llm\\optimizer.py#39\" target=\"_blank\"><span style=\"color: #7f7f7f; text-decoration-color: #7f7f7f\">39</span></a>\n",
       "<span style=\"color: #7fbfbf; text-decoration-color: #7fbfbf\">                    </span>         OpenAI client anyway.                                                  <span style=\"color: #7f7f7f; text-decoration-color: #7f7f7f\">               </span>\n",
       "</pre>\n"
      ],
      "text/plain": [
       "\u001b[2;36m                   \u001b[0m\u001b[2;36m \u001b[0m\u001b[33mWARNING \u001b[0m API key format \u001b[1m(\u001b[0m\u001b[32m'sk-pr...'\u001b[0m\u001b[1m)\u001b[0m seems unusual. Attempting to initialize    \u001b]8;id=470444;file://C:\\Users\\nbese\\OneDrive\\Documents\\GitHub\\doc2pptx\\src\\doc2pptx\\llm\\optimizer.py\u001b\\\u001b[2moptimizer.py\u001b[0m\u001b]8;;\u001b\\\u001b[2m:\u001b[0m\u001b]8;id=737120;file://C:\\Users\\nbese\\OneDrive\\Documents\\GitHub\\doc2pptx\\src\\doc2pptx\\llm\\optimizer.py#39\u001b\\\u001b[2m39\u001b[0m\u001b]8;;\u001b\\\n",
       "\u001b[2;36m                    \u001b[0m         OpenAI client anyway.                                                  \u001b[2m               \u001b[0m\n"
      ]
     },
     "metadata": {},
     "output_type": "display_data"
    },
    {
     "data": {
      "text/html": [
       "<pre style=\"white-space:pre;overflow-x:auto;line-height:normal;font-family:Menlo,'DejaVu Sans Mono',consolas,'Courier New',monospace\"><span style=\"color: #7fbfbf; text-decoration-color: #7fbfbf\">                    </span><span style=\"color: #000080; text-decoration-color: #000080\">INFO    </span> OpenAI client initialized successfully.                                <a href=\"file://C:\\Users\\nbese\\OneDrive\\Documents\\GitHub\\doc2pptx\\src\\doc2pptx\\llm\\optimizer.py\" target=\"_blank\"><span style=\"color: #7f7f7f; text-decoration-color: #7f7f7f\">optimizer.py</span></a><span style=\"color: #7f7f7f; text-decoration-color: #7f7f7f\">:</span><a href=\"file://C:\\Users\\nbese\\OneDrive\\Documents\\GitHub\\doc2pptx\\src\\doc2pptx\\llm\\optimizer.py#46\" target=\"_blank\"><span style=\"color: #7f7f7f; text-decoration-color: #7f7f7f\">46</span></a>\n",
       "</pre>\n"
      ],
      "text/plain": [
       "\u001b[2;36m                   \u001b[0m\u001b[2;36m \u001b[0m\u001b[34mINFO    \u001b[0m OpenAI client initialized successfully.                                \u001b]8;id=599700;file://C:\\Users\\nbese\\OneDrive\\Documents\\GitHub\\doc2pptx\\src\\doc2pptx\\llm\\optimizer.py\u001b\\\u001b[2moptimizer.py\u001b[0m\u001b]8;;\u001b\\\u001b[2m:\u001b[0m\u001b]8;id=738448;file://C:\\Users\\nbese\\OneDrive\\Documents\\GitHub\\doc2pptx\\src\\doc2pptx\\llm\\optimizer.py#46\u001b\\\u001b[2m46\u001b[0m\u001b]8;;\u001b\\\n"
      ]
     },
     "metadata": {},
     "output_type": "display_data"
    },
    {
     "data": {
      "text/html": [
       "<pre style=\"white-space:pre;overflow-x:auto;line-height:normal;font-family:Menlo,'DejaVu Sans Mono',consolas,'Courier New',monospace\"><span style=\"color: #7fbfbf; text-decoration-color: #7fbfbf\">                    </span><span style=\"color: #808000; text-decoration-color: #808000\">WARNING </span> API key format <span style=\"font-weight: bold\">(</span><span style=\"color: #008000; text-decoration-color: #008000\">'sk-pr...'</span><span style=\"font-weight: bold\">)</span> seems unusual. Attempting to initialize    <a href=\"file://C:\\Users\\nbese\\OneDrive\\Documents\\GitHub\\doc2pptx\\src\\doc2pptx\\llm\\optimizer.py\" target=\"_blank\"><span style=\"color: #7f7f7f; text-decoration-color: #7f7f7f\">optimizer.py</span></a><span style=\"color: #7f7f7f; text-decoration-color: #7f7f7f\">:</span><a href=\"file://C:\\Users\\nbese\\OneDrive\\Documents\\GitHub\\doc2pptx\\src\\doc2pptx\\llm\\optimizer.py#39\" target=\"_blank\"><span style=\"color: #7f7f7f; text-decoration-color: #7f7f7f\">39</span></a>\n",
       "<span style=\"color: #7fbfbf; text-decoration-color: #7fbfbf\">                    </span>         OpenAI client anyway.                                                  <span style=\"color: #7f7f7f; text-decoration-color: #7f7f7f\">               </span>\n",
       "</pre>\n"
      ],
      "text/plain": [
       "\u001b[2;36m                   \u001b[0m\u001b[2;36m \u001b[0m\u001b[33mWARNING \u001b[0m API key format \u001b[1m(\u001b[0m\u001b[32m'sk-pr...'\u001b[0m\u001b[1m)\u001b[0m seems unusual. Attempting to initialize    \u001b]8;id=678874;file://C:\\Users\\nbese\\OneDrive\\Documents\\GitHub\\doc2pptx\\src\\doc2pptx\\llm\\optimizer.py\u001b\\\u001b[2moptimizer.py\u001b[0m\u001b]8;;\u001b\\\u001b[2m:\u001b[0m\u001b]8;id=339490;file://C:\\Users\\nbese\\OneDrive\\Documents\\GitHub\\doc2pptx\\src\\doc2pptx\\llm\\optimizer.py#39\u001b\\\u001b[2m39\u001b[0m\u001b]8;;\u001b\\\n",
       "\u001b[2;36m                    \u001b[0m         OpenAI client anyway.                                                  \u001b[2m               \u001b[0m\n"
      ]
     },
     "metadata": {},
     "output_type": "display_data"
    },
    {
     "data": {
      "text/html": [
       "<pre style=\"white-space:pre;overflow-x:auto;line-height:normal;font-family:Menlo,'DejaVu Sans Mono',consolas,'Courier New',monospace\"><span style=\"color: #7fbfbf; text-decoration-color: #7fbfbf\">                    </span><span style=\"color: #000080; text-decoration-color: #000080\">INFO    </span> OpenAI client initialized successfully.                                <a href=\"file://C:\\Users\\nbese\\OneDrive\\Documents\\GitHub\\doc2pptx\\src\\doc2pptx\\llm\\optimizer.py\" target=\"_blank\"><span style=\"color: #7f7f7f; text-decoration-color: #7f7f7f\">optimizer.py</span></a><span style=\"color: #7f7f7f; text-decoration-color: #7f7f7f\">:</span><a href=\"file://C:\\Users\\nbese\\OneDrive\\Documents\\GitHub\\doc2pptx\\src\\doc2pptx\\llm\\optimizer.py#46\" target=\"_blank\"><span style=\"color: #7f7f7f; text-decoration-color: #7f7f7f\">46</span></a>\n",
       "</pre>\n"
      ],
      "text/plain": [
       "\u001b[2;36m                   \u001b[0m\u001b[2;36m \u001b[0m\u001b[34mINFO    \u001b[0m OpenAI client initialized successfully.                                \u001b]8;id=66018;file://C:\\Users\\nbese\\OneDrive\\Documents\\GitHub\\doc2pptx\\src\\doc2pptx\\llm\\optimizer.py\u001b\\\u001b[2moptimizer.py\u001b[0m\u001b]8;;\u001b\\\u001b[2m:\u001b[0m\u001b]8;id=836659;file://C:\\Users\\nbese\\OneDrive\\Documents\\GitHub\\doc2pptx\\src\\doc2pptx\\llm\\optimizer.py#46\u001b\\\u001b[2m46\u001b[0m\u001b]8;;\u001b\\\n"
      ]
     },
     "metadata": {},
     "output_type": "display_data"
    },
    {
     "data": {
      "text/html": [
       "<pre style=\"white-space:pre;overflow-x:auto;line-height:normal;font-family:Menlo,'DejaVu Sans Mono',consolas,'Courier New',monospace\"><span style=\"color: #7fbfbf; text-decoration-color: #7fbfbf\">                    </span><span style=\"color: #808000; text-decoration-color: #808000\">WARNING </span> API key format <span style=\"font-weight: bold\">(</span><span style=\"color: #008000; text-decoration-color: #008000\">'sk-pr...'</span><span style=\"font-weight: bold\">)</span> seems unusual. Attempting to initialize    <a href=\"file://C:\\Users\\nbese\\OneDrive\\Documents\\GitHub\\doc2pptx\\src\\doc2pptx\\llm\\optimizer.py\" target=\"_blank\"><span style=\"color: #7f7f7f; text-decoration-color: #7f7f7f\">optimizer.py</span></a><span style=\"color: #7f7f7f; text-decoration-color: #7f7f7f\">:</span><a href=\"file://C:\\Users\\nbese\\OneDrive\\Documents\\GitHub\\doc2pptx\\src\\doc2pptx\\llm\\optimizer.py#39\" target=\"_blank\"><span style=\"color: #7f7f7f; text-decoration-color: #7f7f7f\">39</span></a>\n",
       "<span style=\"color: #7fbfbf; text-decoration-color: #7fbfbf\">                    </span>         OpenAI client anyway.                                                  <span style=\"color: #7f7f7f; text-decoration-color: #7f7f7f\">               </span>\n",
       "</pre>\n"
      ],
      "text/plain": [
       "\u001b[2;36m                   \u001b[0m\u001b[2;36m \u001b[0m\u001b[33mWARNING \u001b[0m API key format \u001b[1m(\u001b[0m\u001b[32m'sk-pr...'\u001b[0m\u001b[1m)\u001b[0m seems unusual. Attempting to initialize    \u001b]8;id=566452;file://C:\\Users\\nbese\\OneDrive\\Documents\\GitHub\\doc2pptx\\src\\doc2pptx\\llm\\optimizer.py\u001b\\\u001b[2moptimizer.py\u001b[0m\u001b]8;;\u001b\\\u001b[2m:\u001b[0m\u001b]8;id=622880;file://C:\\Users\\nbese\\OneDrive\\Documents\\GitHub\\doc2pptx\\src\\doc2pptx\\llm\\optimizer.py#39\u001b\\\u001b[2m39\u001b[0m\u001b]8;;\u001b\\\n",
       "\u001b[2;36m                    \u001b[0m         OpenAI client anyway.                                                  \u001b[2m               \u001b[0m\n"
      ]
     },
     "metadata": {},
     "output_type": "display_data"
    },
    {
     "data": {
      "text/html": [
       "<pre style=\"white-space:pre;overflow-x:auto;line-height:normal;font-family:Menlo,'DejaVu Sans Mono',consolas,'Courier New',monospace\"><span style=\"color: #7fbfbf; text-decoration-color: #7fbfbf\">                    </span><span style=\"color: #000080; text-decoration-color: #000080\">INFO    </span> OpenAI client initialized successfully.                                <a href=\"file://C:\\Users\\nbese\\OneDrive\\Documents\\GitHub\\doc2pptx\\src\\doc2pptx\\llm\\optimizer.py\" target=\"_blank\"><span style=\"color: #7f7f7f; text-decoration-color: #7f7f7f\">optimizer.py</span></a><span style=\"color: #7f7f7f; text-decoration-color: #7f7f7f\">:</span><a href=\"file://C:\\Users\\nbese\\OneDrive\\Documents\\GitHub\\doc2pptx\\src\\doc2pptx\\llm\\optimizer.py#46\" target=\"_blank\"><span style=\"color: #7f7f7f; text-decoration-color: #7f7f7f\">46</span></a>\n",
       "</pre>\n"
      ],
      "text/plain": [
       "\u001b[2;36m                   \u001b[0m\u001b[2;36m \u001b[0m\u001b[34mINFO    \u001b[0m OpenAI client initialized successfully.                                \u001b]8;id=123471;file://C:\\Users\\nbese\\OneDrive\\Documents\\GitHub\\doc2pptx\\src\\doc2pptx\\llm\\optimizer.py\u001b\\\u001b[2moptimizer.py\u001b[0m\u001b]8;;\u001b\\\u001b[2m:\u001b[0m\u001b]8;id=785778;file://C:\\Users\\nbese\\OneDrive\\Documents\\GitHub\\doc2pptx\\src\\doc2pptx\\llm\\optimizer.py#46\u001b\\\u001b[2m46\u001b[0m\u001b]8;;\u001b\\\n"
      ]
     },
     "metadata": {},
     "output_type": "display_data"
    },
    {
     "data": {
      "text/html": [
       "<pre style=\"white-space:pre;overflow-x:auto;line-height:normal;font-family:Menlo,'DejaVu Sans Mono',consolas,'Courier New',monospace\"><span style=\"color: #7fbfbf; text-decoration-color: #7fbfbf\">                    </span><span style=\"color: #808000; text-decoration-color: #808000\">WARNING </span> API key format <span style=\"font-weight: bold\">(</span><span style=\"color: #008000; text-decoration-color: #008000\">'sk-pr...'</span><span style=\"font-weight: bold\">)</span> seems unusual. Attempting to initialize    <a href=\"file://C:\\Users\\nbese\\OneDrive\\Documents\\GitHub\\doc2pptx\\src\\doc2pptx\\llm\\optimizer.py\" target=\"_blank\"><span style=\"color: #7f7f7f; text-decoration-color: #7f7f7f\">optimizer.py</span></a><span style=\"color: #7f7f7f; text-decoration-color: #7f7f7f\">:</span><a href=\"file://C:\\Users\\nbese\\OneDrive\\Documents\\GitHub\\doc2pptx\\src\\doc2pptx\\llm\\optimizer.py#39\" target=\"_blank\"><span style=\"color: #7f7f7f; text-decoration-color: #7f7f7f\">39</span></a>\n",
       "<span style=\"color: #7fbfbf; text-decoration-color: #7fbfbf\">                    </span>         OpenAI client anyway.                                                  <span style=\"color: #7f7f7f; text-decoration-color: #7f7f7f\">               </span>\n",
       "</pre>\n"
      ],
      "text/plain": [
       "\u001b[2;36m                   \u001b[0m\u001b[2;36m \u001b[0m\u001b[33mWARNING \u001b[0m API key format \u001b[1m(\u001b[0m\u001b[32m'sk-pr...'\u001b[0m\u001b[1m)\u001b[0m seems unusual. Attempting to initialize    \u001b]8;id=78546;file://C:\\Users\\nbese\\OneDrive\\Documents\\GitHub\\doc2pptx\\src\\doc2pptx\\llm\\optimizer.py\u001b\\\u001b[2moptimizer.py\u001b[0m\u001b]8;;\u001b\\\u001b[2m:\u001b[0m\u001b]8;id=356140;file://C:\\Users\\nbese\\OneDrive\\Documents\\GitHub\\doc2pptx\\src\\doc2pptx\\llm\\optimizer.py#39\u001b\\\u001b[2m39\u001b[0m\u001b]8;;\u001b\\\n",
       "\u001b[2;36m                    \u001b[0m         OpenAI client anyway.                                                  \u001b[2m               \u001b[0m\n"
      ]
     },
     "metadata": {},
     "output_type": "display_data"
    },
    {
     "data": {
      "text/html": [
       "<pre style=\"white-space:pre;overflow-x:auto;line-height:normal;font-family:Menlo,'DejaVu Sans Mono',consolas,'Courier New',monospace\"><span style=\"color: #7fbfbf; text-decoration-color: #7fbfbf\">                    </span><span style=\"color: #000080; text-decoration-color: #000080\">INFO    </span> OpenAI client initialized successfully.                                <a href=\"file://C:\\Users\\nbese\\OneDrive\\Documents\\GitHub\\doc2pptx\\src\\doc2pptx\\llm\\optimizer.py\" target=\"_blank\"><span style=\"color: #7f7f7f; text-decoration-color: #7f7f7f\">optimizer.py</span></a><span style=\"color: #7f7f7f; text-decoration-color: #7f7f7f\">:</span><a href=\"file://C:\\Users\\nbese\\OneDrive\\Documents\\GitHub\\doc2pptx\\src\\doc2pptx\\llm\\optimizer.py#46\" target=\"_blank\"><span style=\"color: #7f7f7f; text-decoration-color: #7f7f7f\">46</span></a>\n",
       "</pre>\n"
      ],
      "text/plain": [
       "\u001b[2;36m                   \u001b[0m\u001b[2;36m \u001b[0m\u001b[34mINFO    \u001b[0m OpenAI client initialized successfully.                                \u001b]8;id=19329;file://C:\\Users\\nbese\\OneDrive\\Documents\\GitHub\\doc2pptx\\src\\doc2pptx\\llm\\optimizer.py\u001b\\\u001b[2moptimizer.py\u001b[0m\u001b]8;;\u001b\\\u001b[2m:\u001b[0m\u001b]8;id=60021;file://C:\\Users\\nbese\\OneDrive\\Documents\\GitHub\\doc2pptx\\src\\doc2pptx\\llm\\optimizer.py#46\u001b\\\u001b[2m46\u001b[0m\u001b]8;;\u001b\\\n"
      ]
     },
     "metadata": {},
     "output_type": "display_data"
    },
    {
     "data": {
      "text/html": [
       "<pre style=\"white-space:pre;overflow-x:auto;line-height:normal;font-family:Menlo,'DejaVu Sans Mono',consolas,'Courier New',monospace\"><span style=\"color: #7fbfbf; text-decoration-color: #7fbfbf\">[05/14/25 16:59:13] </span><span style=\"color: #000080; text-decoration-color: #000080\">INFO    </span> PPTBuilder initialized.                                                     <a href=\"file://C:\\Users\\nbese\\OneDrive\\Documents\\GitHub\\doc2pptx\\src\\doc2pptx\\cli.py\" target=\"_blank\"><span style=\"color: #7f7f7f; text-decoration-color: #7f7f7f\">cli.py</span></a><span style=\"color: #7f7f7f; text-decoration-color: #7f7f7f\">:</span><a href=\"file://C:\\Users\\nbese\\OneDrive\\Documents\\GitHub\\doc2pptx\\src\\doc2pptx\\cli.py#486\" target=\"_blank\"><span style=\"color: #7f7f7f; text-decoration-color: #7f7f7f\">486</span></a>\n",
       "</pre>\n"
      ],
      "text/plain": [
       "\u001b[2;36m[05/14/25 16:59:13]\u001b[0m\u001b[2;36m \u001b[0m\u001b[34mINFO    \u001b[0m PPTBuilder initialized.                                                     \u001b]8;id=734952;file://C:\\Users\\nbese\\OneDrive\\Documents\\GitHub\\doc2pptx\\src\\doc2pptx\\cli.py\u001b\\\u001b[2mcli.py\u001b[0m\u001b]8;;\u001b\\\u001b[2m:\u001b[0m\u001b]8;id=654096;file://C:\\Users\\nbese\\OneDrive\\Documents\\GitHub\\doc2pptx\\src\\doc2pptx\\cli.py#486\u001b\\\u001b[2m486\u001b[0m\u001b]8;;\u001b\\\n"
      ]
     },
     "metadata": {},
     "output_type": "display_data"
    },
    {
     "data": {
      "text/html": [
       "<pre style=\"white-space:pre;overflow-x:auto;line-height:normal;font-family:Menlo,'DejaVu Sans Mono',consolas,'Courier New',monospace\"><span style=\"color: #7fbfbf; text-decoration-color: #7fbfbf\">                    </span><span style=\"color: #000080; text-decoration-color: #000080\">INFO    </span> Building presentation<span style=\"color: #808000; text-decoration-color: #808000\">...</span>                                                    <a href=\"file://C:\\Users\\nbese\\OneDrive\\Documents\\GitHub\\doc2pptx\\src\\doc2pptx\\cli.py\" target=\"_blank\"><span style=\"color: #7f7f7f; text-decoration-color: #7f7f7f\">cli.py</span></a><span style=\"color: #7f7f7f; text-decoration-color: #7f7f7f\">:</span><a href=\"file://C:\\Users\\nbese\\OneDrive\\Documents\\GitHub\\doc2pptx\\src\\doc2pptx\\cli.py#496\" target=\"_blank\"><span style=\"color: #7f7f7f; text-decoration-color: #7f7f7f\">496</span></a>\n",
       "</pre>\n"
      ],
      "text/plain": [
       "\u001b[2;36m                   \u001b[0m\u001b[2;36m \u001b[0m\u001b[34mINFO    \u001b[0m Building presentation\u001b[33m...\u001b[0m                                                    \u001b]8;id=229886;file://C:\\Users\\nbese\\OneDrive\\Documents\\GitHub\\doc2pptx\\src\\doc2pptx\\cli.py\u001b\\\u001b[2mcli.py\u001b[0m\u001b]8;;\u001b\\\u001b[2m:\u001b[0m\u001b]8;id=203721;file://C:\\Users\\nbese\\OneDrive\\Documents\\GitHub\\doc2pptx\\src\\doc2pptx\\cli.py#496\u001b\\\u001b[2m496\u001b[0m\u001b]8;;\u001b\\\n"
      ]
     },
     "metadata": {},
     "output_type": "display_data"
    },
    {
     "data": {
      "text/html": [
       "<pre style=\"white-space:pre;overflow-x:auto;line-height:normal;font-family:Menlo,'DejaVu Sans Mono',consolas,'Courier New',monospace\"><span style=\"color: #7fbfbf; text-decoration-color: #7fbfbf\">                    </span><span style=\"color: #808000; text-decoration-color: #808000\">WARNING </span> Unknown section type <span style=\"color: #008000; text-decoration-color: #008000\">'default'</span> - treating as <span style=\"color: #008000; text-decoration-color: #008000\">'custom'</span>                    <a href=\"file://C:\\Users\\nbese\\OneDrive\\Documents\\GitHub\\doc2pptx\\src\\doc2pptx\\core\\models.py\" target=\"_blank\"><span style=\"color: #7f7f7f; text-decoration-color: #7f7f7f\">models.py</span></a><span style=\"color: #7f7f7f; text-decoration-color: #7f7f7f\">:</span><a href=\"file://C:\\Users\\nbese\\OneDrive\\Documents\\GitHub\\doc2pptx\\src\\doc2pptx\\core\\models.py#121\" target=\"_blank\"><span style=\"color: #7f7f7f; text-decoration-color: #7f7f7f\">121</span></a>\n",
       "</pre>\n"
      ],
      "text/plain": [
       "\u001b[2;36m                   \u001b[0m\u001b[2;36m \u001b[0m\u001b[33mWARNING \u001b[0m Unknown section type \u001b[32m'default'\u001b[0m - treating as \u001b[32m'custom'\u001b[0m                    \u001b]8;id=267218;file://C:\\Users\\nbese\\OneDrive\\Documents\\GitHub\\doc2pptx\\src\\doc2pptx\\core\\models.py\u001b\\\u001b[2mmodels.py\u001b[0m\u001b]8;;\u001b\\\u001b[2m:\u001b[0m\u001b]8;id=811931;file://C:\\Users\\nbese\\OneDrive\\Documents\\GitHub\\doc2pptx\\src\\doc2pptx\\core\\models.py#121\u001b\\\u001b[2m121\u001b[0m\u001b]8;;\u001b\\\n"
      ]
     },
     "metadata": {},
     "output_type": "display_data"
    },
    {
     "data": {
      "text/html": [
       "<pre style=\"white-space:pre;overflow-x:auto;line-height:normal;font-family:Menlo,'DejaVu Sans Mono',consolas,'Courier New',monospace\"><span style=\"color: #7fbfbf; text-decoration-color: #7fbfbf\">                    </span><span style=\"color: #808000; text-decoration-color: #808000\">WARNING </span> API key format <span style=\"font-weight: bold\">(</span><span style=\"color: #008000; text-decoration-color: #008000\">'sk-pr...'</span><span style=\"font-weight: bold\">)</span> seems unusual. Attempting to initialize    <a href=\"file://C:\\Users\\nbese\\OneDrive\\Documents\\GitHub\\doc2pptx\\src\\doc2pptx\\llm\\optimizer.py\" target=\"_blank\"><span style=\"color: #7f7f7f; text-decoration-color: #7f7f7f\">optimizer.py</span></a><span style=\"color: #7f7f7f; text-decoration-color: #7f7f7f\">:</span><a href=\"file://C:\\Users\\nbese\\OneDrive\\Documents\\GitHub\\doc2pptx\\src\\doc2pptx\\llm\\optimizer.py#39\" target=\"_blank\"><span style=\"color: #7f7f7f; text-decoration-color: #7f7f7f\">39</span></a>\n",
       "<span style=\"color: #7fbfbf; text-decoration-color: #7fbfbf\">                    </span>         OpenAI client anyway.                                                  <span style=\"color: #7f7f7f; text-decoration-color: #7f7f7f\">               </span>\n",
       "</pre>\n"
      ],
      "text/plain": [
       "\u001b[2;36m                   \u001b[0m\u001b[2;36m \u001b[0m\u001b[33mWARNING \u001b[0m API key format \u001b[1m(\u001b[0m\u001b[32m'sk-pr...'\u001b[0m\u001b[1m)\u001b[0m seems unusual. Attempting to initialize    \u001b]8;id=576920;file://C:\\Users\\nbese\\OneDrive\\Documents\\GitHub\\doc2pptx\\src\\doc2pptx\\llm\\optimizer.py\u001b\\\u001b[2moptimizer.py\u001b[0m\u001b]8;;\u001b\\\u001b[2m:\u001b[0m\u001b]8;id=771775;file://C:\\Users\\nbese\\OneDrive\\Documents\\GitHub\\doc2pptx\\src\\doc2pptx\\llm\\optimizer.py#39\u001b\\\u001b[2m39\u001b[0m\u001b]8;;\u001b\\\n",
       "\u001b[2;36m                    \u001b[0m         OpenAI client anyway.                                                  \u001b[2m               \u001b[0m\n"
      ]
     },
     "metadata": {},
     "output_type": "display_data"
    },
    {
     "data": {
      "text/html": [
       "<pre style=\"white-space:pre;overflow-x:auto;line-height:normal;font-family:Menlo,'DejaVu Sans Mono',consolas,'Courier New',monospace\"><span style=\"color: #7fbfbf; text-decoration-color: #7fbfbf\">                    </span><span style=\"color: #000080; text-decoration-color: #000080\">INFO    </span> OpenAI client initialized successfully.                                <a href=\"file://C:\\Users\\nbese\\OneDrive\\Documents\\GitHub\\doc2pptx\\src\\doc2pptx\\llm\\optimizer.py\" target=\"_blank\"><span style=\"color: #7f7f7f; text-decoration-color: #7f7f7f\">optimizer.py</span></a><span style=\"color: #7f7f7f; text-decoration-color: #7f7f7f\">:</span><a href=\"file://C:\\Users\\nbese\\OneDrive\\Documents\\GitHub\\doc2pptx\\src\\doc2pptx\\llm\\optimizer.py#46\" target=\"_blank\"><span style=\"color: #7f7f7f; text-decoration-color: #7f7f7f\">46</span></a>\n",
       "</pre>\n"
      ],
      "text/plain": [
       "\u001b[2;36m                   \u001b[0m\u001b[2;36m \u001b[0m\u001b[34mINFO    \u001b[0m OpenAI client initialized successfully.                                \u001b]8;id=757298;file://C:\\Users\\nbese\\OneDrive\\Documents\\GitHub\\doc2pptx\\src\\doc2pptx\\llm\\optimizer.py\u001b\\\u001b[2moptimizer.py\u001b[0m\u001b]8;;\u001b\\\u001b[2m:\u001b[0m\u001b]8;id=331460;file://C:\\Users\\nbese\\OneDrive\\Documents\\GitHub\\doc2pptx\\src\\doc2pptx\\llm\\optimizer.py#46\u001b\\\u001b[2m46\u001b[0m\u001b]8;;\u001b\\\n"
      ]
     },
     "metadata": {},
     "output_type": "display_data"
    },
    {
     "data": {
      "text/html": [
       "<pre style=\"white-space:pre;overflow-x:auto;line-height:normal;font-family:Menlo,'DejaVu Sans Mono',consolas,'Courier New',monospace\"><span style=\"color: #7fbfbf; text-decoration-color: #7fbfbf\">[05/14/25 16:59:30] </span><span style=\"color: #808000; text-decoration-color: #808000\">WARNING </span> API key format <span style=\"font-weight: bold\">(</span><span style=\"color: #008000; text-decoration-color: #008000\">'sk-pr...'</span><span style=\"font-weight: bold\">)</span> seems unusual. Attempting to initialize    <a href=\"file://C:\\Users\\nbese\\OneDrive\\Documents\\GitHub\\doc2pptx\\src\\doc2pptx\\llm\\optimizer.py\" target=\"_blank\"><span style=\"color: #7f7f7f; text-decoration-color: #7f7f7f\">optimizer.py</span></a><span style=\"color: #7f7f7f; text-decoration-color: #7f7f7f\">:</span><a href=\"file://C:\\Users\\nbese\\OneDrive\\Documents\\GitHub\\doc2pptx\\src\\doc2pptx\\llm\\optimizer.py#39\" target=\"_blank\"><span style=\"color: #7f7f7f; text-decoration-color: #7f7f7f\">39</span></a>\n",
       "<span style=\"color: #7fbfbf; text-decoration-color: #7fbfbf\">                    </span>         OpenAI client anyway.                                                  <span style=\"color: #7f7f7f; text-decoration-color: #7f7f7f\">               </span>\n",
       "</pre>\n"
      ],
      "text/plain": [
       "\u001b[2;36m[05/14/25 16:59:30]\u001b[0m\u001b[2;36m \u001b[0m\u001b[33mWARNING \u001b[0m API key format \u001b[1m(\u001b[0m\u001b[32m'sk-pr...'\u001b[0m\u001b[1m)\u001b[0m seems unusual. Attempting to initialize    \u001b]8;id=746575;file://C:\\Users\\nbese\\OneDrive\\Documents\\GitHub\\doc2pptx\\src\\doc2pptx\\llm\\optimizer.py\u001b\\\u001b[2moptimizer.py\u001b[0m\u001b]8;;\u001b\\\u001b[2m:\u001b[0m\u001b]8;id=64878;file://C:\\Users\\nbese\\OneDrive\\Documents\\GitHub\\doc2pptx\\src\\doc2pptx\\llm\\optimizer.py#39\u001b\\\u001b[2m39\u001b[0m\u001b]8;;\u001b\\\n",
       "\u001b[2;36m                    \u001b[0m         OpenAI client anyway.                                                  \u001b[2m               \u001b[0m\n"
      ]
     },
     "metadata": {},
     "output_type": "display_data"
    },
    {
     "data": {
      "text/html": [
       "<pre style=\"white-space:pre;overflow-x:auto;line-height:normal;font-family:Menlo,'DejaVu Sans Mono',consolas,'Courier New',monospace\"><span style=\"color: #7fbfbf; text-decoration-color: #7fbfbf\">                    </span><span style=\"color: #000080; text-decoration-color: #000080\">INFO    </span> OpenAI client initialized successfully.                                <a href=\"file://C:\\Users\\nbese\\OneDrive\\Documents\\GitHub\\doc2pptx\\src\\doc2pptx\\llm\\optimizer.py\" target=\"_blank\"><span style=\"color: #7f7f7f; text-decoration-color: #7f7f7f\">optimizer.py</span></a><span style=\"color: #7f7f7f; text-decoration-color: #7f7f7f\">:</span><a href=\"file://C:\\Users\\nbese\\OneDrive\\Documents\\GitHub\\doc2pptx\\src\\doc2pptx\\llm\\optimizer.py#46\" target=\"_blank\"><span style=\"color: #7f7f7f; text-decoration-color: #7f7f7f\">46</span></a>\n",
       "</pre>\n"
      ],
      "text/plain": [
       "\u001b[2;36m                   \u001b[0m\u001b[2;36m \u001b[0m\u001b[34mINFO    \u001b[0m OpenAI client initialized successfully.                                \u001b]8;id=685509;file://C:\\Users\\nbese\\OneDrive\\Documents\\GitHub\\doc2pptx\\src\\doc2pptx\\llm\\optimizer.py\u001b\\\u001b[2moptimizer.py\u001b[0m\u001b]8;;\u001b\\\u001b[2m:\u001b[0m\u001b]8;id=713598;file://C:\\Users\\nbese\\OneDrive\\Documents\\GitHub\\doc2pptx\\src\\doc2pptx\\llm\\optimizer.py#46\u001b\\\u001b[2m46\u001b[0m\u001b]8;;\u001b\\\n"
      ]
     },
     "metadata": {},
     "output_type": "display_data"
    },
    {
     "data": {
      "text/html": [
       "<pre style=\"white-space:pre;overflow-x:auto;line-height:normal;font-family:Menlo,'DejaVu Sans Mono',consolas,'Courier New',monospace\"><span style=\"color: #7fbfbf; text-decoration-color: #7fbfbf\">[05/14/25 16:59:57] </span><span style=\"color: #000080; text-decoration-color: #000080\">INFO    </span> Successfully planned content for section <span style=\"color: #008000; text-decoration-color: #008000\">'Rapport d'</span>Analyse de  <a href=\"file://C:\\Users\\nbese\\OneDrive\\Documents\\GitHub\\doc2pptx\\src\\doc2pptx\\llm\\content_planner.py\" target=\"_blank\"><span style=\"color: #7f7f7f; text-decoration-color: #7f7f7f\">content_planner.py</span></a><span style=\"color: #7f7f7f; text-decoration-color: #7f7f7f\">:</span><a href=\"file://C:\\Users\\nbese\\OneDrive\\Documents\\GitHub\\doc2pptx\\src\\doc2pptx\\llm\\content_planner.py#117\" target=\"_blank\"><span style=\"color: #7f7f7f; text-decoration-color: #7f7f7f\">117</span></a>\n",
       "<span style=\"color: #7fbfbf; text-decoration-color: #7fbfbf\">                    </span>         Marché Web <span style=\"color: #008080; text-decoration-color: #008080; font-weight: bold\">2025</span>' with AI                                        <span style=\"color: #7f7f7f; text-decoration-color: #7f7f7f\">                      </span>\n",
       "</pre>\n"
      ],
      "text/plain": [
       "\u001b[2;36m[05/14/25 16:59:57]\u001b[0m\u001b[2;36m \u001b[0m\u001b[34mINFO    \u001b[0m Successfully planned content for section \u001b[32m'Rapport d'\u001b[0mAnalyse de  \u001b]8;id=861942;file://C:\\Users\\nbese\\OneDrive\\Documents\\GitHub\\doc2pptx\\src\\doc2pptx\\llm\\content_planner.py\u001b\\\u001b[2mcontent_planner.py\u001b[0m\u001b]8;;\u001b\\\u001b[2m:\u001b[0m\u001b]8;id=120058;file://C:\\Users\\nbese\\OneDrive\\Documents\\GitHub\\doc2pptx\\src\\doc2pptx\\llm\\content_planner.py#117\u001b\\\u001b[2m117\u001b[0m\u001b]8;;\u001b\\\n",
       "\u001b[2;36m                    \u001b[0m         Marché Web \u001b[1;36m2025\u001b[0m' with AI                                        \u001b[2m                      \u001b[0m\n"
      ]
     },
     "metadata": {},
     "output_type": "display_data"
    },
    {
     "data": {
      "text/html": [
       "<pre style=\"white-space:pre;overflow-x:auto;line-height:normal;font-family:Menlo,'DejaVu Sans Mono',consolas,'Courier New',monospace\"><span style=\"color: #7fbfbf; text-decoration-color: #7fbfbf\">                    </span><span style=\"color: #808000; text-decoration-color: #808000\">WARNING </span> Layout <span style=\"color: #008000; text-decoration-color: #008000\">'Titre et tableau'</span> supports max <span style=\"color: #008080; text-decoration-color: #008080; font-weight: bold\">1</span> blocks but slide has <span style=\"color: #008080; text-decoration-color: #008080; font-weight: bold\">3</span>.        <a href=\"file://C:\\Users\\nbese\\OneDrive\\Documents\\GitHub\\doc2pptx\\src\\doc2pptx\\ppt\\builder.py\" target=\"_blank\"><span style=\"color: #7f7f7f; text-decoration-color: #7f7f7f\">builder.py</span></a><span style=\"color: #7f7f7f; text-decoration-color: #7f7f7f\">:</span><a href=\"file://C:\\Users\\nbese\\OneDrive\\Documents\\GitHub\\doc2pptx\\src\\doc2pptx\\ppt\\builder.py#392\" target=\"_blank\"><span style=\"color: #7f7f7f; text-decoration-color: #7f7f7f\">392</span></a>\n",
       "<span style=\"color: #7fbfbf; text-decoration-color: #7fbfbf\">                    </span>         Selecting a more appropriate layout.                                    <span style=\"color: #7f7f7f; text-decoration-color: #7f7f7f\">              </span>\n",
       "</pre>\n"
      ],
      "text/plain": [
       "\u001b[2;36m                   \u001b[0m\u001b[2;36m \u001b[0m\u001b[33mWARNING \u001b[0m Layout \u001b[32m'Titre et tableau'\u001b[0m supports max \u001b[1;36m1\u001b[0m blocks but slide has \u001b[1;36m3\u001b[0m.        \u001b]8;id=959187;file://C:\\Users\\nbese\\OneDrive\\Documents\\GitHub\\doc2pptx\\src\\doc2pptx\\ppt\\builder.py\u001b\\\u001b[2mbuilder.py\u001b[0m\u001b]8;;\u001b\\\u001b[2m:\u001b[0m\u001b]8;id=912804;file://C:\\Users\\nbese\\OneDrive\\Documents\\GitHub\\doc2pptx\\src\\doc2pptx\\ppt\\builder.py#392\u001b\\\u001b[2m392\u001b[0m\u001b]8;;\u001b\\\n",
       "\u001b[2;36m                    \u001b[0m         Selecting a more appropriate layout.                                    \u001b[2m              \u001b[0m\n"
      ]
     },
     "metadata": {},
     "output_type": "display_data"
    },
    {
     "data": {
      "text/html": [
       "<pre style=\"white-space:pre;overflow-x:auto;line-height:normal;font-family:Menlo,'DejaVu Sans Mono',consolas,'Courier New',monospace\"><span style=\"color: #7fbfbf; text-decoration-color: #7fbfbf\">                    </span><span style=\"color: #000080; text-decoration-color: #000080\">INFO    </span> _fill_table_slide: Starting to fill table slide with title:             <a href=\"file://C:\\Users\\nbese\\OneDrive\\Documents\\GitHub\\doc2pptx\\src\\doc2pptx\\ppt\\builder.py\" target=\"_blank\"><span style=\"color: #7f7f7f; text-decoration-color: #7f7f7f\">builder.py</span></a><span style=\"color: #7f7f7f; text-decoration-color: #7f7f7f\">:</span><a href=\"file://C:\\Users\\nbese\\OneDrive\\Documents\\GitHub\\doc2pptx\\src\\doc2pptx\\ppt\\builder.py#897\" target=\"_blank\"><span style=\"color: #7f7f7f; text-decoration-color: #7f7f7f\">897</span></a>\n",
       "<span style=\"color: #7fbfbf; text-decoration-color: #7fbfbf\">                    </span>         <span style=\"color: #008000; text-decoration-color: #008000\">'Technologies Émergentes'</span>                                               <span style=\"color: #7f7f7f; text-decoration-color: #7f7f7f\">              </span>\n",
       "</pre>\n"
      ],
      "text/plain": [
       "\u001b[2;36m                   \u001b[0m\u001b[2;36m \u001b[0m\u001b[34mINFO    \u001b[0m _fill_table_slide: Starting to fill table slide with title:             \u001b]8;id=367840;file://C:\\Users\\nbese\\OneDrive\\Documents\\GitHub\\doc2pptx\\src\\doc2pptx\\ppt\\builder.py\u001b\\\u001b[2mbuilder.py\u001b[0m\u001b]8;;\u001b\\\u001b[2m:\u001b[0m\u001b]8;id=313674;file://C:\\Users\\nbese\\OneDrive\\Documents\\GitHub\\doc2pptx\\src\\doc2pptx\\ppt\\builder.py#897\u001b\\\u001b[2m897\u001b[0m\u001b]8;;\u001b\\\n",
       "\u001b[2;36m                    \u001b[0m         \u001b[32m'Technologies Émergentes'\u001b[0m                                               \u001b[2m              \u001b[0m\n"
      ]
     },
     "metadata": {},
     "output_type": "display_data"
    },
    {
     "data": {
      "text/html": [
       "<pre style=\"white-space:pre;overflow-x:auto;line-height:normal;font-family:Menlo,'DejaVu Sans Mono',consolas,'Courier New',monospace\"><span style=\"color: #7fbfbf; text-decoration-color: #7fbfbf\">                    </span><span style=\"color: #808000; text-decoration-color: #808000\">WARNING </span> Detected content area seems too small. Using adjusted margins.         <a href=\"file://C:\\Users\\nbese\\OneDrive\\Documents\\GitHub\\doc2pptx\\src\\doc2pptx\\ppt\\builder.py\" target=\"_blank\"><span style=\"color: #7f7f7f; text-decoration-color: #7f7f7f\">builder.py</span></a><span style=\"color: #7f7f7f; text-decoration-color: #7f7f7f\">:</span><a href=\"file://C:\\Users\\nbese\\OneDrive\\Documents\\GitHub\\doc2pptx\\src\\doc2pptx\\ppt\\builder.py#1792\" target=\"_blank\"><span style=\"color: #7f7f7f; text-decoration-color: #7f7f7f\">1792</span></a>\n",
       "</pre>\n"
      ],
      "text/plain": [
       "\u001b[2;36m                   \u001b[0m\u001b[2;36m \u001b[0m\u001b[33mWARNING \u001b[0m Detected content area seems too small. Using adjusted margins.         \u001b]8;id=508730;file://C:\\Users\\nbese\\OneDrive\\Documents\\GitHub\\doc2pptx\\src\\doc2pptx\\ppt\\builder.py\u001b\\\u001b[2mbuilder.py\u001b[0m\u001b]8;;\u001b\\\u001b[2m:\u001b[0m\u001b]8;id=532913;file://C:\\Users\\nbese\\OneDrive\\Documents\\GitHub\\doc2pptx\\src\\doc2pptx\\ppt\\builder.py#1792\u001b\\\u001b[2m1792\u001b[0m\u001b]8;;\u001b\\\n"
      ]
     },
     "metadata": {},
     "output_type": "display_data"
    },
    {
     "data": {
      "text/html": [
       "<pre style=\"white-space:pre;overflow-x:auto;line-height:normal;font-family:Menlo,'DejaVu Sans Mono',consolas,'Courier New',monospace\"><span style=\"color: #7fbfbf; text-decoration-color: #7fbfbf\">                    </span><span style=\"color: #000080; text-decoration-color: #000080\">INFO    </span> Adding table: 5x4 at <span style=\"font-weight: bold\">(</span><span style=\"color: #008080; text-decoration-color: #008080; font-weight: bold\">1302840</span>,<span style=\"color: #008080; text-decoration-color: #008080; font-weight: bold\">3047468</span><span style=\"font-weight: bold\">)</span> with size <span style=\"font-weight: bold\">(</span><span style=\"color: #008080; text-decoration-color: #008080; font-weight: bold\">9583920</span>,<span style=\"color: #008080; text-decoration-color: #008080; font-weight: bold\">1152000</span><span style=\"font-weight: bold\">)</span>     <a href=\"file://C:\\Users\\nbese\\OneDrive\\Documents\\GitHub\\doc2pptx\\src\\doc2pptx\\ppt\\builder.py\" target=\"_blank\"><span style=\"color: #7f7f7f; text-decoration-color: #7f7f7f\">builder.py</span></a><span style=\"color: #7f7f7f; text-decoration-color: #7f7f7f\">:</span><a href=\"file://C:\\Users\\nbese\\OneDrive\\Documents\\GitHub\\doc2pptx\\src\\doc2pptx\\ppt\\builder.py#1025\" target=\"_blank\"><span style=\"color: #7f7f7f; text-decoration-color: #7f7f7f\">1025</span></a>\n",
       "</pre>\n"
      ],
      "text/plain": [
       "\u001b[2;36m                   \u001b[0m\u001b[2;36m \u001b[0m\u001b[34mINFO    \u001b[0m Adding table: 5x4 at \u001b[1m(\u001b[0m\u001b[1;36m1302840\u001b[0m,\u001b[1;36m3047468\u001b[0m\u001b[1m)\u001b[0m with size \u001b[1m(\u001b[0m\u001b[1;36m9583920\u001b[0m,\u001b[1;36m1152000\u001b[0m\u001b[1m)\u001b[0m     \u001b]8;id=79747;file://C:\\Users\\nbese\\OneDrive\\Documents\\GitHub\\doc2pptx\\src\\doc2pptx\\ppt\\builder.py\u001b\\\u001b[2mbuilder.py\u001b[0m\u001b]8;;\u001b\\\u001b[2m:\u001b[0m\u001b]8;id=512187;file://C:\\Users\\nbese\\OneDrive\\Documents\\GitHub\\doc2pptx\\src\\doc2pptx\\ppt\\builder.py#1025\u001b\\\u001b[2m1025\u001b[0m\u001b]8;;\u001b\\\n"
      ]
     },
     "metadata": {},
     "output_type": "display_data"
    },
    {
     "data": {
      "text/html": [
       "<pre style=\"white-space:pre;overflow-x:auto;line-height:normal;font-family:Menlo,'DejaVu Sans Mono',consolas,'Courier New',monospace\"><span style=\"color: #7fbfbf; text-decoration-color: #7fbfbf\">                    </span><span style=\"color: #000080; text-decoration-color: #000080\">INFO    </span> Table data filled successfully                                         <a href=\"file://C:\\Users\\nbese\\OneDrive\\Documents\\GitHub\\doc2pptx\\src\\doc2pptx\\ppt\\builder.py\" target=\"_blank\"><span style=\"color: #7f7f7f; text-decoration-color: #7f7f7f\">builder.py</span></a><span style=\"color: #7f7f7f; text-decoration-color: #7f7f7f\">:</span><a href=\"file://C:\\Users\\nbese\\OneDrive\\Documents\\GitHub\\doc2pptx\\src\\doc2pptx\\ppt\\builder.py#1032\" target=\"_blank\"><span style=\"color: #7f7f7f; text-decoration-color: #7f7f7f\">1032</span></a>\n",
       "</pre>\n"
      ],
      "text/plain": [
       "\u001b[2;36m                   \u001b[0m\u001b[2;36m \u001b[0m\u001b[34mINFO    \u001b[0m Table data filled successfully                                         \u001b]8;id=629530;file://C:\\Users\\nbese\\OneDrive\\Documents\\GitHub\\doc2pptx\\src\\doc2pptx\\ppt\\builder.py\u001b\\\u001b[2mbuilder.py\u001b[0m\u001b]8;;\u001b\\\u001b[2m:\u001b[0m\u001b]8;id=875003;file://C:\\Users\\nbese\\OneDrive\\Documents\\GitHub\\doc2pptx\\src\\doc2pptx\\ppt\\builder.py#1032\u001b\\\u001b[2m1032\u001b[0m\u001b]8;;\u001b\\\n"
      ]
     },
     "metadata": {},
     "output_type": "display_data"
    },
    {
     "data": {
      "text/html": [
       "<pre style=\"white-space:pre;overflow-x:auto;line-height:normal;font-family:Menlo,'DejaVu Sans Mono',consolas,'Courier New',monospace\"><span style=\"color: #7fbfbf; text-decoration-color: #7fbfbf\">                    </span><span style=\"color: #808000; text-decoration-color: #808000\">WARNING </span> Layout <span style=\"color: #008000; text-decoration-color: #008000\">'Titre et texte'</span> supports max <span style=\"color: #008080; text-decoration-color: #008080; font-weight: bold\">1</span> blocks but slide has <span style=\"color: #008080; text-decoration-color: #008080; font-weight: bold\">2</span>.          <a href=\"file://C:\\Users\\nbese\\OneDrive\\Documents\\GitHub\\doc2pptx\\src\\doc2pptx\\ppt\\builder.py\" target=\"_blank\"><span style=\"color: #7f7f7f; text-decoration-color: #7f7f7f\">builder.py</span></a><span style=\"color: #7f7f7f; text-decoration-color: #7f7f7f\">:</span><a href=\"file://C:\\Users\\nbese\\OneDrive\\Documents\\GitHub\\doc2pptx\\src\\doc2pptx\\ppt\\builder.py#392\" target=\"_blank\"><span style=\"color: #7f7f7f; text-decoration-color: #7f7f7f\">392</span></a>\n",
       "<span style=\"color: #7fbfbf; text-decoration-color: #7fbfbf\">                    </span>         Selecting a more appropriate layout.                                    <span style=\"color: #7f7f7f; text-decoration-color: #7f7f7f\">              </span>\n",
       "</pre>\n"
      ],
      "text/plain": [
       "\u001b[2;36m                   \u001b[0m\u001b[2;36m \u001b[0m\u001b[33mWARNING \u001b[0m Layout \u001b[32m'Titre et texte'\u001b[0m supports max \u001b[1;36m1\u001b[0m blocks but slide has \u001b[1;36m2\u001b[0m.          \u001b]8;id=556040;file://C:\\Users\\nbese\\OneDrive\\Documents\\GitHub\\doc2pptx\\src\\doc2pptx\\ppt\\builder.py\u001b\\\u001b[2mbuilder.py\u001b[0m\u001b]8;;\u001b\\\u001b[2m:\u001b[0m\u001b]8;id=418711;file://C:\\Users\\nbese\\OneDrive\\Documents\\GitHub\\doc2pptx\\src\\doc2pptx\\ppt\\builder.py#392\u001b\\\u001b[2m392\u001b[0m\u001b]8;;\u001b\\\n",
       "\u001b[2;36m                    \u001b[0m         Selecting a more appropriate layout.                                    \u001b[2m              \u001b[0m\n"
      ]
     },
     "metadata": {},
     "output_type": "display_data"
    },
    {
     "data": {
      "text/html": [
       "<pre style=\"white-space:pre;overflow-x:auto;line-height:normal;font-family:Menlo,'DejaVu Sans Mono',consolas,'Courier New',monospace\"><span style=\"color: #7fbfbf; text-decoration-color: #7fbfbf\">                    </span><span style=\"color: #808000; text-decoration-color: #808000\">WARNING </span> Layout <span style=\"color: #008000; text-decoration-color: #008000\">'Titre et tableau'</span> supports max <span style=\"color: #008080; text-decoration-color: #008080; font-weight: bold\">1</span> blocks but slide has <span style=\"color: #008080; text-decoration-color: #008080; font-weight: bold\">2</span>.        <a href=\"file://C:\\Users\\nbese\\OneDrive\\Documents\\GitHub\\doc2pptx\\src\\doc2pptx\\ppt\\builder.py\" target=\"_blank\"><span style=\"color: #7f7f7f; text-decoration-color: #7f7f7f\">builder.py</span></a><span style=\"color: #7f7f7f; text-decoration-color: #7f7f7f\">:</span><a href=\"file://C:\\Users\\nbese\\OneDrive\\Documents\\GitHub\\doc2pptx\\src\\doc2pptx\\ppt\\builder.py#392\" target=\"_blank\"><span style=\"color: #7f7f7f; text-decoration-color: #7f7f7f\">392</span></a>\n",
       "<span style=\"color: #7fbfbf; text-decoration-color: #7fbfbf\">                    </span>         Selecting a more appropriate layout.                                    <span style=\"color: #7f7f7f; text-decoration-color: #7f7f7f\">              </span>\n",
       "</pre>\n"
      ],
      "text/plain": [
       "\u001b[2;36m                   \u001b[0m\u001b[2;36m \u001b[0m\u001b[33mWARNING \u001b[0m Layout \u001b[32m'Titre et tableau'\u001b[0m supports max \u001b[1;36m1\u001b[0m blocks but slide has \u001b[1;36m2\u001b[0m.        \u001b]8;id=70517;file://C:\\Users\\nbese\\OneDrive\\Documents\\GitHub\\doc2pptx\\src\\doc2pptx\\ppt\\builder.py\u001b\\\u001b[2mbuilder.py\u001b[0m\u001b]8;;\u001b\\\u001b[2m:\u001b[0m\u001b]8;id=103240;file://C:\\Users\\nbese\\OneDrive\\Documents\\GitHub\\doc2pptx\\src\\doc2pptx\\ppt\\builder.py#392\u001b\\\u001b[2m392\u001b[0m\u001b]8;;\u001b\\\n",
       "\u001b[2;36m                    \u001b[0m         Selecting a more appropriate layout.                                    \u001b[2m              \u001b[0m\n"
      ]
     },
     "metadata": {},
     "output_type": "display_data"
    },
    {
     "data": {
      "text/html": [
       "<pre style=\"white-space:pre;overflow-x:auto;line-height:normal;font-family:Menlo,'DejaVu Sans Mono',consolas,'Courier New',monospace\"><span style=\"color: #7fbfbf; text-decoration-color: #7fbfbf\">                    </span><span style=\"color: #000080; text-decoration-color: #000080\">INFO    </span> _fill_table_slide: Starting to fill table slide with title:             <a href=\"file://C:\\Users\\nbese\\OneDrive\\Documents\\GitHub\\doc2pptx\\src\\doc2pptx\\ppt\\builder.py\" target=\"_blank\"><span style=\"color: #7f7f7f; text-decoration-color: #7f7f7f\">builder.py</span></a><span style=\"color: #7f7f7f; text-decoration-color: #7f7f7f\">:</span><a href=\"file://C:\\Users\\nbese\\OneDrive\\Documents\\GitHub\\doc2pptx\\src\\doc2pptx\\ppt\\builder.py#897\" target=\"_blank\"><span style=\"color: #7f7f7f; text-decoration-color: #7f7f7f\">897</span></a>\n",
       "<span style=\"color: #7fbfbf; text-decoration-color: #7fbfbf\">                    </span>         <span style=\"color: #008000; text-decoration-color: #008000\">'Investissements par Secteur'</span>                                           <span style=\"color: #7f7f7f; text-decoration-color: #7f7f7f\">              </span>\n",
       "</pre>\n"
      ],
      "text/plain": [
       "\u001b[2;36m                   \u001b[0m\u001b[2;36m \u001b[0m\u001b[34mINFO    \u001b[0m _fill_table_slide: Starting to fill table slide with title:             \u001b]8;id=593150;file://C:\\Users\\nbese\\OneDrive\\Documents\\GitHub\\doc2pptx\\src\\doc2pptx\\ppt\\builder.py\u001b\\\u001b[2mbuilder.py\u001b[0m\u001b]8;;\u001b\\\u001b[2m:\u001b[0m\u001b]8;id=235713;file://C:\\Users\\nbese\\OneDrive\\Documents\\GitHub\\doc2pptx\\src\\doc2pptx\\ppt\\builder.py#897\u001b\\\u001b[2m897\u001b[0m\u001b]8;;\u001b\\\n",
       "\u001b[2;36m                    \u001b[0m         \u001b[32m'Investissements par Secteur'\u001b[0m                                           \u001b[2m              \u001b[0m\n"
      ]
     },
     "metadata": {},
     "output_type": "display_data"
    },
    {
     "data": {
      "text/html": [
       "<pre style=\"white-space:pre;overflow-x:auto;line-height:normal;font-family:Menlo,'DejaVu Sans Mono',consolas,'Courier New',monospace\"><span style=\"color: #7fbfbf; text-decoration-color: #7fbfbf\">                    </span><span style=\"color: #808000; text-decoration-color: #808000\">WARNING </span> Detected content area seems too small. Using adjusted margins.         <a href=\"file://C:\\Users\\nbese\\OneDrive\\Documents\\GitHub\\doc2pptx\\src\\doc2pptx\\ppt\\builder.py\" target=\"_blank\"><span style=\"color: #7f7f7f; text-decoration-color: #7f7f7f\">builder.py</span></a><span style=\"color: #7f7f7f; text-decoration-color: #7f7f7f\">:</span><a href=\"file://C:\\Users\\nbese\\OneDrive\\Documents\\GitHub\\doc2pptx\\src\\doc2pptx\\ppt\\builder.py#1792\" target=\"_blank\"><span style=\"color: #7f7f7f; text-decoration-color: #7f7f7f\">1792</span></a>\n",
       "</pre>\n"
      ],
      "text/plain": [
       "\u001b[2;36m                   \u001b[0m\u001b[2;36m \u001b[0m\u001b[33mWARNING \u001b[0m Detected content area seems too small. Using adjusted margins.         \u001b]8;id=6754;file://C:\\Users\\nbese\\OneDrive\\Documents\\GitHub\\doc2pptx\\src\\doc2pptx\\ppt\\builder.py\u001b\\\u001b[2mbuilder.py\u001b[0m\u001b]8;;\u001b\\\u001b[2m:\u001b[0m\u001b]8;id=176065;file://C:\\Users\\nbese\\OneDrive\\Documents\\GitHub\\doc2pptx\\src\\doc2pptx\\ppt\\builder.py#1792\u001b\\\u001b[2m1792\u001b[0m\u001b]8;;\u001b\\\n"
      ]
     },
     "metadata": {},
     "output_type": "display_data"
    },
    {
     "data": {
      "text/html": [
       "<pre style=\"white-space:pre;overflow-x:auto;line-height:normal;font-family:Menlo,'DejaVu Sans Mono',consolas,'Courier New',monospace\"><span style=\"color: #7fbfbf; text-decoration-color: #7fbfbf\">                    </span><span style=\"color: #000080; text-decoration-color: #000080\">INFO    </span> Adding table: 6x4 at <span style=\"font-weight: bold\">(</span><span style=\"color: #008080; text-decoration-color: #008080; font-weight: bold\">1302840</span>,<span style=\"color: #008080; text-decoration-color: #008080; font-weight: bold\">2939468</span><span style=\"font-weight: bold\">)</span> with size <span style=\"font-weight: bold\">(</span><span style=\"color: #008080; text-decoration-color: #008080; font-weight: bold\">9583920</span>,<span style=\"color: #008080; text-decoration-color: #008080; font-weight: bold\">1368000</span><span style=\"font-weight: bold\">)</span>     <a href=\"file://C:\\Users\\nbese\\OneDrive\\Documents\\GitHub\\doc2pptx\\src\\doc2pptx\\ppt\\builder.py\" target=\"_blank\"><span style=\"color: #7f7f7f; text-decoration-color: #7f7f7f\">builder.py</span></a><span style=\"color: #7f7f7f; text-decoration-color: #7f7f7f\">:</span><a href=\"file://C:\\Users\\nbese\\OneDrive\\Documents\\GitHub\\doc2pptx\\src\\doc2pptx\\ppt\\builder.py#1025\" target=\"_blank\"><span style=\"color: #7f7f7f; text-decoration-color: #7f7f7f\">1025</span></a>\n",
       "</pre>\n"
      ],
      "text/plain": [
       "\u001b[2;36m                   \u001b[0m\u001b[2;36m \u001b[0m\u001b[34mINFO    \u001b[0m Adding table: 6x4 at \u001b[1m(\u001b[0m\u001b[1;36m1302840\u001b[0m,\u001b[1;36m2939468\u001b[0m\u001b[1m)\u001b[0m with size \u001b[1m(\u001b[0m\u001b[1;36m9583920\u001b[0m,\u001b[1;36m1368000\u001b[0m\u001b[1m)\u001b[0m     \u001b]8;id=248879;file://C:\\Users\\nbese\\OneDrive\\Documents\\GitHub\\doc2pptx\\src\\doc2pptx\\ppt\\builder.py\u001b\\\u001b[2mbuilder.py\u001b[0m\u001b]8;;\u001b\\\u001b[2m:\u001b[0m\u001b]8;id=2285;file://C:\\Users\\nbese\\OneDrive\\Documents\\GitHub\\doc2pptx\\src\\doc2pptx\\ppt\\builder.py#1025\u001b\\\u001b[2m1025\u001b[0m\u001b]8;;\u001b\\\n"
      ]
     },
     "metadata": {},
     "output_type": "display_data"
    },
    {
     "data": {
      "text/html": [
       "<pre style=\"white-space:pre;overflow-x:auto;line-height:normal;font-family:Menlo,'DejaVu Sans Mono',consolas,'Courier New',monospace\"><span style=\"color: #7fbfbf; text-decoration-color: #7fbfbf\">                    </span><span style=\"color: #000080; text-decoration-color: #000080\">INFO    </span> Table data filled successfully                                         <a href=\"file://C:\\Users\\nbese\\OneDrive\\Documents\\GitHub\\doc2pptx\\src\\doc2pptx\\ppt\\builder.py\" target=\"_blank\"><span style=\"color: #7f7f7f; text-decoration-color: #7f7f7f\">builder.py</span></a><span style=\"color: #7f7f7f; text-decoration-color: #7f7f7f\">:</span><a href=\"file://C:\\Users\\nbese\\OneDrive\\Documents\\GitHub\\doc2pptx\\src\\doc2pptx\\ppt\\builder.py#1032\" target=\"_blank\"><span style=\"color: #7f7f7f; text-decoration-color: #7f7f7f\">1032</span></a>\n",
       "</pre>\n"
      ],
      "text/plain": [
       "\u001b[2;36m                   \u001b[0m\u001b[2;36m \u001b[0m\u001b[34mINFO    \u001b[0m Table data filled successfully                                         \u001b]8;id=70384;file://C:\\Users\\nbese\\OneDrive\\Documents\\GitHub\\doc2pptx\\src\\doc2pptx\\ppt\\builder.py\u001b\\\u001b[2mbuilder.py\u001b[0m\u001b]8;;\u001b\\\u001b[2m:\u001b[0m\u001b]8;id=655061;file://C:\\Users\\nbese\\OneDrive\\Documents\\GitHub\\doc2pptx\\src\\doc2pptx\\ppt\\builder.py#1032\u001b\\\u001b[2m1032\u001b[0m\u001b]8;;\u001b\\\n"
      ]
     },
     "metadata": {},
     "output_type": "display_data"
    },
    {
     "data": {
      "text/html": [
       "<pre style=\"white-space:pre;overflow-x:auto;line-height:normal;font-family:Menlo,'DejaVu Sans Mono',consolas,'Courier New',monospace\"><span style=\"color: #7fbfbf; text-decoration-color: #7fbfbf\">                    </span><span style=\"color: #808000; text-decoration-color: #808000\">WARNING </span> Layout <span style=\"color: #008000; text-decoration-color: #008000\">'Titre et 2 colonnes'</span> supports max <span style=\"color: #008080; text-decoration-color: #008080; font-weight: bold\">2</span> blocks but slide has <span style=\"color: #008080; text-decoration-color: #008080; font-weight: bold\">4</span>.     <a href=\"file://C:\\Users\\nbese\\OneDrive\\Documents\\GitHub\\doc2pptx\\src\\doc2pptx\\ppt\\builder.py\" target=\"_blank\"><span style=\"color: #7f7f7f; text-decoration-color: #7f7f7f\">builder.py</span></a><span style=\"color: #7f7f7f; text-decoration-color: #7f7f7f\">:</span><a href=\"file://C:\\Users\\nbese\\OneDrive\\Documents\\GitHub\\doc2pptx\\src\\doc2pptx\\ppt\\builder.py#392\" target=\"_blank\"><span style=\"color: #7f7f7f; text-decoration-color: #7f7f7f\">392</span></a>\n",
       "<span style=\"color: #7fbfbf; text-decoration-color: #7fbfbf\">                    </span>         Selecting a more appropriate layout.                                    <span style=\"color: #7f7f7f; text-decoration-color: #7f7f7f\">              </span>\n",
       "</pre>\n"
      ],
      "text/plain": [
       "\u001b[2;36m                   \u001b[0m\u001b[2;36m \u001b[0m\u001b[33mWARNING \u001b[0m Layout \u001b[32m'Titre et 2 colonnes'\u001b[0m supports max \u001b[1;36m2\u001b[0m blocks but slide has \u001b[1;36m4\u001b[0m.     \u001b]8;id=328836;file://C:\\Users\\nbese\\OneDrive\\Documents\\GitHub\\doc2pptx\\src\\doc2pptx\\ppt\\builder.py\u001b\\\u001b[2mbuilder.py\u001b[0m\u001b]8;;\u001b\\\u001b[2m:\u001b[0m\u001b]8;id=820503;file://C:\\Users\\nbese\\OneDrive\\Documents\\GitHub\\doc2pptx\\src\\doc2pptx\\ppt\\builder.py#392\u001b\\\u001b[2m392\u001b[0m\u001b]8;;\u001b\\\n",
       "\u001b[2;36m                    \u001b[0m         Selecting a more appropriate layout.                                    \u001b[2m              \u001b[0m\n"
      ]
     },
     "metadata": {},
     "output_type": "display_data"
    },
    {
     "data": {
      "text/html": [
       "<pre style=\"white-space:pre;overflow-x:auto;line-height:normal;font-family:Menlo,'DejaVu Sans Mono',consolas,'Courier New',monospace\"><span style=\"color: #7fbfbf; text-decoration-color: #7fbfbf\">                    </span><span style=\"color: #808000; text-decoration-color: #808000\">WARNING </span> Layout <span style=\"color: #008000; text-decoration-color: #008000\">'Titre et tableau'</span> supports max <span style=\"color: #008080; text-decoration-color: #008080; font-weight: bold\">1</span> blocks but slide has <span style=\"color: #008080; text-decoration-color: #008080; font-weight: bold\">2</span>.        <a href=\"file://C:\\Users\\nbese\\OneDrive\\Documents\\GitHub\\doc2pptx\\src\\doc2pptx\\ppt\\builder.py\" target=\"_blank\"><span style=\"color: #7f7f7f; text-decoration-color: #7f7f7f\">builder.py</span></a><span style=\"color: #7f7f7f; text-decoration-color: #7f7f7f\">:</span><a href=\"file://C:\\Users\\nbese\\OneDrive\\Documents\\GitHub\\doc2pptx\\src\\doc2pptx\\ppt\\builder.py#392\" target=\"_blank\"><span style=\"color: #7f7f7f; text-decoration-color: #7f7f7f\">392</span></a>\n",
       "<span style=\"color: #7fbfbf; text-decoration-color: #7fbfbf\">                    </span>         Selecting a more appropriate layout.                                    <span style=\"color: #7f7f7f; text-decoration-color: #7f7f7f\">              </span>\n",
       "</pre>\n"
      ],
      "text/plain": [
       "\u001b[2;36m                   \u001b[0m\u001b[2;36m \u001b[0m\u001b[33mWARNING \u001b[0m Layout \u001b[32m'Titre et tableau'\u001b[0m supports max \u001b[1;36m1\u001b[0m blocks but slide has \u001b[1;36m2\u001b[0m.        \u001b]8;id=105526;file://C:\\Users\\nbese\\OneDrive\\Documents\\GitHub\\doc2pptx\\src\\doc2pptx\\ppt\\builder.py\u001b\\\u001b[2mbuilder.py\u001b[0m\u001b]8;;\u001b\\\u001b[2m:\u001b[0m\u001b]8;id=616279;file://C:\\Users\\nbese\\OneDrive\\Documents\\GitHub\\doc2pptx\\src\\doc2pptx\\ppt\\builder.py#392\u001b\\\u001b[2m392\u001b[0m\u001b]8;;\u001b\\\n",
       "\u001b[2;36m                    \u001b[0m         Selecting a more appropriate layout.                                    \u001b[2m              \u001b[0m\n"
      ]
     },
     "metadata": {},
     "output_type": "display_data"
    },
    {
     "data": {
      "text/html": [
       "<pre style=\"white-space:pre;overflow-x:auto;line-height:normal;font-family:Menlo,'DejaVu Sans Mono',consolas,'Courier New',monospace\"><span style=\"color: #7fbfbf; text-decoration-color: #7fbfbf\">                    </span><span style=\"color: #000080; text-decoration-color: #000080\">INFO    </span> _fill_table_slide: Starting to fill table slide with title: <span style=\"color: #008000; text-decoration-color: #008000\">'Prévisions</span> <a href=\"file://C:\\Users\\nbese\\OneDrive\\Documents\\GitHub\\doc2pptx\\src\\doc2pptx\\ppt\\builder.py\" target=\"_blank\"><span style=\"color: #7f7f7f; text-decoration-color: #7f7f7f\">builder.py</span></a><span style=\"color: #7f7f7f; text-decoration-color: #7f7f7f\">:</span><a href=\"file://C:\\Users\\nbese\\OneDrive\\Documents\\GitHub\\doc2pptx\\src\\doc2pptx\\ppt\\builder.py#897\" target=\"_blank\"><span style=\"color: #7f7f7f; text-decoration-color: #7f7f7f\">897</span></a>\n",
       "<span style=\"color: #7fbfbf; text-decoration-color: #7fbfbf\">                    </span>         <span style=\"color: #008000; text-decoration-color: #008000\">2026'</span>                                                                   <span style=\"color: #7f7f7f; text-decoration-color: #7f7f7f\">              </span>\n",
       "</pre>\n"
      ],
      "text/plain": [
       "\u001b[2;36m                   \u001b[0m\u001b[2;36m \u001b[0m\u001b[34mINFO    \u001b[0m _fill_table_slide: Starting to fill table slide with title: \u001b[32m'Prévisions\u001b[0m \u001b]8;id=297642;file://C:\\Users\\nbese\\OneDrive\\Documents\\GitHub\\doc2pptx\\src\\doc2pptx\\ppt\\builder.py\u001b\\\u001b[2mbuilder.py\u001b[0m\u001b]8;;\u001b\\\u001b[2m:\u001b[0m\u001b]8;id=396832;file://C:\\Users\\nbese\\OneDrive\\Documents\\GitHub\\doc2pptx\\src\\doc2pptx\\ppt\\builder.py#897\u001b\\\u001b[2m897\u001b[0m\u001b]8;;\u001b\\\n",
       "\u001b[2;36m                    \u001b[0m         \u001b[32m2026'\u001b[0m                                                                   \u001b[2m              \u001b[0m\n"
      ]
     },
     "metadata": {},
     "output_type": "display_data"
    },
    {
     "data": {
      "text/html": [
       "<pre style=\"white-space:pre;overflow-x:auto;line-height:normal;font-family:Menlo,'DejaVu Sans Mono',consolas,'Courier New',monospace\"><span style=\"color: #7fbfbf; text-decoration-color: #7fbfbf\">                    </span><span style=\"color: #808000; text-decoration-color: #808000\">WARNING </span> Detected content area seems too small. Using adjusted margins.         <a href=\"file://C:\\Users\\nbese\\OneDrive\\Documents\\GitHub\\doc2pptx\\src\\doc2pptx\\ppt\\builder.py\" target=\"_blank\"><span style=\"color: #7f7f7f; text-decoration-color: #7f7f7f\">builder.py</span></a><span style=\"color: #7f7f7f; text-decoration-color: #7f7f7f\">:</span><a href=\"file://C:\\Users\\nbese\\OneDrive\\Documents\\GitHub\\doc2pptx\\src\\doc2pptx\\ppt\\builder.py#1792\" target=\"_blank\"><span style=\"color: #7f7f7f; text-decoration-color: #7f7f7f\">1792</span></a>\n",
       "</pre>\n"
      ],
      "text/plain": [
       "\u001b[2;36m                   \u001b[0m\u001b[2;36m \u001b[0m\u001b[33mWARNING \u001b[0m Detected content area seems too small. Using adjusted margins.         \u001b]8;id=387952;file://C:\\Users\\nbese\\OneDrive\\Documents\\GitHub\\doc2pptx\\src\\doc2pptx\\ppt\\builder.py\u001b\\\u001b[2mbuilder.py\u001b[0m\u001b]8;;\u001b\\\u001b[2m:\u001b[0m\u001b]8;id=623656;file://C:\\Users\\nbese\\OneDrive\\Documents\\GitHub\\doc2pptx\\src\\doc2pptx\\ppt\\builder.py#1792\u001b\\\u001b[2m1792\u001b[0m\u001b]8;;\u001b\\\n"
      ]
     },
     "metadata": {},
     "output_type": "display_data"
    },
    {
     "data": {
      "text/html": [
       "<pre style=\"white-space:pre;overflow-x:auto;line-height:normal;font-family:Menlo,'DejaVu Sans Mono',consolas,'Courier New',monospace\"><span style=\"color: #7fbfbf; text-decoration-color: #7fbfbf\">                    </span><span style=\"color: #000080; text-decoration-color: #000080\">INFO    </span> Adding table: 5x3 at <span style=\"font-weight: bold\">(</span><span style=\"color: #008080; text-decoration-color: #008080; font-weight: bold\">1302840</span>,<span style=\"color: #008080; text-decoration-color: #008080; font-weight: bold\">3047468</span><span style=\"font-weight: bold\">)</span> with size <span style=\"font-weight: bold\">(</span><span style=\"color: #008080; text-decoration-color: #008080; font-weight: bold\">9583920</span>,<span style=\"color: #008080; text-decoration-color: #008080; font-weight: bold\">1152000</span><span style=\"font-weight: bold\">)</span>     <a href=\"file://C:\\Users\\nbese\\OneDrive\\Documents\\GitHub\\doc2pptx\\src\\doc2pptx\\ppt\\builder.py\" target=\"_blank\"><span style=\"color: #7f7f7f; text-decoration-color: #7f7f7f\">builder.py</span></a><span style=\"color: #7f7f7f; text-decoration-color: #7f7f7f\">:</span><a href=\"file://C:\\Users\\nbese\\OneDrive\\Documents\\GitHub\\doc2pptx\\src\\doc2pptx\\ppt\\builder.py#1025\" target=\"_blank\"><span style=\"color: #7f7f7f; text-decoration-color: #7f7f7f\">1025</span></a>\n",
       "</pre>\n"
      ],
      "text/plain": [
       "\u001b[2;36m                   \u001b[0m\u001b[2;36m \u001b[0m\u001b[34mINFO    \u001b[0m Adding table: 5x3 at \u001b[1m(\u001b[0m\u001b[1;36m1302840\u001b[0m,\u001b[1;36m3047468\u001b[0m\u001b[1m)\u001b[0m with size \u001b[1m(\u001b[0m\u001b[1;36m9583920\u001b[0m,\u001b[1;36m1152000\u001b[0m\u001b[1m)\u001b[0m     \u001b]8;id=2985;file://C:\\Users\\nbese\\OneDrive\\Documents\\GitHub\\doc2pptx\\src\\doc2pptx\\ppt\\builder.py\u001b\\\u001b[2mbuilder.py\u001b[0m\u001b]8;;\u001b\\\u001b[2m:\u001b[0m\u001b]8;id=215023;file://C:\\Users\\nbese\\OneDrive\\Documents\\GitHub\\doc2pptx\\src\\doc2pptx\\ppt\\builder.py#1025\u001b\\\u001b[2m1025\u001b[0m\u001b]8;;\u001b\\\n"
      ]
     },
     "metadata": {},
     "output_type": "display_data"
    },
    {
     "data": {
      "text/html": [
       "<pre style=\"white-space:pre;overflow-x:auto;line-height:normal;font-family:Menlo,'DejaVu Sans Mono',consolas,'Courier New',monospace\"><span style=\"color: #7fbfbf; text-decoration-color: #7fbfbf\">                    </span><span style=\"color: #000080; text-decoration-color: #000080\">INFO    </span> Table data filled successfully                                         <a href=\"file://C:\\Users\\nbese\\OneDrive\\Documents\\GitHub\\doc2pptx\\src\\doc2pptx\\ppt\\builder.py\" target=\"_blank\"><span style=\"color: #7f7f7f; text-decoration-color: #7f7f7f\">builder.py</span></a><span style=\"color: #7f7f7f; text-decoration-color: #7f7f7f\">:</span><a href=\"file://C:\\Users\\nbese\\OneDrive\\Documents\\GitHub\\doc2pptx\\src\\doc2pptx\\ppt\\builder.py#1032\" target=\"_blank\"><span style=\"color: #7f7f7f; text-decoration-color: #7f7f7f\">1032</span></a>\n",
       "</pre>\n"
      ],
      "text/plain": [
       "\u001b[2;36m                   \u001b[0m\u001b[2;36m \u001b[0m\u001b[34mINFO    \u001b[0m Table data filled successfully                                         \u001b]8;id=479022;file://C:\\Users\\nbese\\OneDrive\\Documents\\GitHub\\doc2pptx\\src\\doc2pptx\\ppt\\builder.py\u001b\\\u001b[2mbuilder.py\u001b[0m\u001b]8;;\u001b\\\u001b[2m:\u001b[0m\u001b]8;id=554596;file://C:\\Users\\nbese\\OneDrive\\Documents\\GitHub\\doc2pptx\\src\\doc2pptx\\ppt\\builder.py#1032\u001b\\\u001b[2m1032\u001b[0m\u001b]8;;\u001b\\\n"
      ]
     },
     "metadata": {},
     "output_type": "display_data"
    },
    {
     "data": {
      "text/html": [
       "<pre style=\"white-space:pre;overflow-x:auto;line-height:normal;font-family:Menlo,'DejaVu Sans Mono',consolas,'Courier New',monospace\"><span style=\"color: #7fbfbf; text-decoration-color: #7fbfbf\">                    </span><span style=\"color: #000080; text-decoration-color: #000080\">INFO    </span> PowerPoint presentation successfully built and saved to                 <a href=\"file://C:\\Users\\nbese\\OneDrive\\Documents\\GitHub\\doc2pptx\\src\\doc2pptx\\ppt\\builder.py\" target=\"_blank\"><span style=\"color: #7f7f7f; text-decoration-color: #7f7f7f\">builder.py</span></a><span style=\"color: #7f7f7f; text-decoration-color: #7f7f7f\">:</span><a href=\"file://C:\\Users\\nbese\\OneDrive\\Documents\\GitHub\\doc2pptx\\src\\doc2pptx\\ppt\\builder.py#344\" target=\"_blank\"><span style=\"color: #7f7f7f; text-decoration-color: #7f7f7f\">344</span></a>\n",
       "<span style=\"color: #7fbfbf; text-decoration-color: #7fbfbf\">                    </span>         C:\\Users\\nbese\\OneDrive\\Documents\\GitHub\\doc2pptx\\data\\output\\cli_examp <span style=\"color: #7f7f7f; text-decoration-color: #7f7f7f\">              </span>\n",
       "<span style=\"color: #7fbfbf; text-decoration-color: #7fbfbf\">                    </span>         le.pptx                                                                 <span style=\"color: #7f7f7f; text-decoration-color: #7f7f7f\">              </span>\n",
       "</pre>\n"
      ],
      "text/plain": [
       "\u001b[2;36m                   \u001b[0m\u001b[2;36m \u001b[0m\u001b[34mINFO    \u001b[0m PowerPoint presentation successfully built and saved to                 \u001b]8;id=616971;file://C:\\Users\\nbese\\OneDrive\\Documents\\GitHub\\doc2pptx\\src\\doc2pptx\\ppt\\builder.py\u001b\\\u001b[2mbuilder.py\u001b[0m\u001b]8;;\u001b\\\u001b[2m:\u001b[0m\u001b]8;id=424502;file://C:\\Users\\nbese\\OneDrive\\Documents\\GitHub\\doc2pptx\\src\\doc2pptx\\ppt\\builder.py#344\u001b\\\u001b[2m344\u001b[0m\u001b]8;;\u001b\\\n",
       "\u001b[2;36m                    \u001b[0m         C:\\Users\\nbese\\OneDrive\\Documents\\GitHub\\doc2pptx\\data\\output\\cli_examp \u001b[2m              \u001b[0m\n",
       "\u001b[2;36m                    \u001b[0m         le.pptx                                                                 \u001b[2m              \u001b[0m\n"
      ]
     },
     "metadata": {},
     "output_type": "display_data"
    },
    {
     "data": {
      "text/html": [
       "<pre style=\"white-space:pre;overflow-x:auto;line-height:normal;font-family:Menlo,'DejaVu Sans Mono',consolas,'Courier New',monospace\"><span style=\"color: #7fbfbf; text-decoration-color: #7fbfbf\">                    </span><span style=\"color: #000080; text-decoration-color: #000080\">INFO    </span> Presentation built successfully.                                            <a href=\"file://C:\\Users\\nbese\\OneDrive\\Documents\\GitHub\\doc2pptx\\src\\doc2pptx\\cli.py\" target=\"_blank\"><span style=\"color: #7f7f7f; text-decoration-color: #7f7f7f\">cli.py</span></a><span style=\"color: #7f7f7f; text-decoration-color: #7f7f7f\">:</span><a href=\"file://C:\\Users\\nbese\\OneDrive\\Documents\\GitHub\\doc2pptx\\src\\doc2pptx\\cli.py#502\" target=\"_blank\"><span style=\"color: #7f7f7f; text-decoration-color: #7f7f7f\">502</span></a>\n",
       "</pre>\n"
      ],
      "text/plain": [
       "\u001b[2;36m                   \u001b[0m\u001b[2;36m \u001b[0m\u001b[34mINFO    \u001b[0m Presentation built successfully.                                            \u001b]8;id=975073;file://C:\\Users\\nbese\\OneDrive\\Documents\\GitHub\\doc2pptx\\src\\doc2pptx\\cli.py\u001b\\\u001b[2mcli.py\u001b[0m\u001b]8;;\u001b\\\u001b[2m:\u001b[0m\u001b]8;id=856798;file://C:\\Users\\nbese\\OneDrive\\Documents\\GitHub\\doc2pptx\\src\\doc2pptx\\cli.py#502\u001b\\\u001b[2m502\u001b[0m\u001b]8;;\u001b\\\n"
      ]
     },
     "metadata": {},
     "output_type": "display_data"
    },
    {
     "data": {
      "text/html": [
       "<pre style=\"white-space:pre;overflow-x:auto;line-height:normal;font-family:Menlo,'DejaVu Sans Mono',consolas,'Courier New',monospace\"></pre>\n"
      ],
      "text/plain": []
     },
     "metadata": {},
     "output_type": "display_data"
    },
    {
     "data": {
      "text/html": [
       "<pre style=\"white-space:pre;overflow-x:auto;line-height:normal;font-family:Menlo,'DejaVu Sans Mono',consolas,'Courier New',monospace\">\n",
       "<span style=\"color: #008000; text-decoration-color: #008000; font-weight: bold\">Deck généré :</span> C:\\Users\\nbese\\OneDrive\\Documents\\GitHub\\doc2pptx\\data\\output\\cli_example.pptx\n",
       "</pre>\n"
      ],
      "text/plain": [
       "\n",
       "\u001b[1;32mDeck généré :\u001b[0m C:\\Users\\nbese\\OneDrive\\Documents\\GitHub\\doc2pptx\\data\\output\\cli_example.pptx\n"
      ]
     },
     "metadata": {},
     "output_type": "display_data"
    },
    {
     "name": "stdout",
     "output_type": "stream",
     "text": [
      "✅ Présentation générée avec succès via CLI.\n",
      "Fichier de sortie: data\\output\\cli_example.pptx\n"
     ]
    }
   ],
   "source": [
    "from doc2pptx.cli import app\n",
    "from typer.testing import CliRunner\n",
    "\n",
    "def generate_with_cli(input_file, template_file, output_file=None, ai_optimize=True, content_planning=True):\n",
    "    \"\"\"Génère une présentation PowerPoint à l'aide de l'API CLI de doc2pptx.\"\"\"\n",
    "    \n",
    "    if output_file is None:\n",
    "        output_file = OUTPUT_DIR / f\"output_{Path(input_file).stem}.pptx\"\n",
    "    \n",
    "    print(f\"⏳ Génération de la présentation via CLI...\")\n",
    "    \n",
    "    # Construire la commande\n",
    "    command = [\"generate\", \"--template\", str(template_file), \"--output\", str(output_file)]\n",
    "    \n",
    "    if ai_optimize:\n",
    "        command.append(\"--ai-optimize\")\n",
    "    \n",
    "    if content_planning:\n",
    "        command.append(\"--content-planning\")\n",
    "    \n",
    "    command.append(str(input_file))\n",
    "    \n",
    "    # Afficher la commande équivalente\n",
    "    cmd_str = \"python -m doc2pptx.cli \" + \" \".join(command)\n",
    "    print(f\"Commande équivalente: {cmd_str}\")\n",
    "    \n",
    "    # Exécuter la commande via l'API CLI\n",
    "    runner = CliRunner()\n",
    "    result = runner.invoke(app, command)\n",
    "    \n",
    "    if result.exit_code == 0:\n",
    "        print(f\"✅ Présentation générée avec succès via CLI.\")\n",
    "        print(f\"Fichier de sortie: {output_file}\")\n",
    "        return output_file\n",
    "    else:\n",
    "        print(f\"❌ Erreur lors de la génération via CLI: {result.output}\")\n",
    "        return None\n",
    "\n",
    "# Générer avec l'API CLI\n",
    "output_cli = OUTPUT_DIR / \"cli_example.pptx\"\n",
    "if example_md.exists() and base_template.exists():\n",
    "    cli_output = generate_with_cli(\n",
    "        input_file=example_md,\n",
    "        template_file=base_template,\n",
    "        output_file=output_cli,\n",
    "        ai_optimize=True,\n",
    "        content_planning=True\n",
    "    )"
   ]
  },
  {
   "cell_type": "markdown",
   "metadata": {},
   "source": [
    "## Personnalisation du processus d'optimisation\n",
    "\n",
    "Examinons comment personnaliser le processus d'optimisation IA et de planification de contenu."
   ]
  },
  {
   "cell_type": "code",
   "execution_count": 11,
   "metadata": {},
   "outputs": [
    {
     "name": "stdout",
     "output_type": "stream",
     "text": [
      "📝 Démonstration du pipeline d'optimisation\n",
      "\n"
     ]
    },
    {
     "data": {
      "text/html": [
       "<pre style=\"white-space:pre;overflow-x:auto;line-height:normal;font-family:Menlo,'DejaVu Sans Mono',consolas,'Courier New',monospace\"><span style=\"color: #7fbfbf; text-decoration-color: #7fbfbf\">[05/14/25 17:06:21] </span><span style=\"color: #808000; text-decoration-color: #808000\">WARNING </span> Unknown section type <span style=\"color: #008000; text-decoration-color: #008000\">'default'</span> - treating as <span style=\"color: #008000; text-decoration-color: #008000\">'custom'</span>                    <a href=\"file://C:\\Users\\nbese\\OneDrive\\Documents\\GitHub\\doc2pptx\\src\\doc2pptx\\core\\models.py\" target=\"_blank\"><span style=\"color: #7f7f7f; text-decoration-color: #7f7f7f\">models.py</span></a><span style=\"color: #7f7f7f; text-decoration-color: #7f7f7f\">:</span><a href=\"file://C:\\Users\\nbese\\OneDrive\\Documents\\GitHub\\doc2pptx\\src\\doc2pptx\\core\\models.py#121\" target=\"_blank\"><span style=\"color: #7f7f7f; text-decoration-color: #7f7f7f\">121</span></a>\n",
       "</pre>\n"
      ],
      "text/plain": [
       "\u001b[2;36m[05/14/25 17:06:21]\u001b[0m\u001b[2;36m \u001b[0m\u001b[33mWARNING \u001b[0m Unknown section type \u001b[32m'default'\u001b[0m - treating as \u001b[32m'custom'\u001b[0m                    \u001b]8;id=110238;file://C:\\Users\\nbese\\OneDrive\\Documents\\GitHub\\doc2pptx\\src\\doc2pptx\\core\\models.py\u001b\\\u001b[2mmodels.py\u001b[0m\u001b]8;;\u001b\\\u001b[2m:\u001b[0m\u001b]8;id=80512;file://C:\\Users\\nbese\\OneDrive\\Documents\\GitHub\\doc2pptx\\src\\doc2pptx\\core\\models.py#121\u001b\\\u001b[2m121\u001b[0m\u001b]8;;\u001b\\\n"
      ]
     },
     "metadata": {},
     "output_type": "display_data"
    },
    {
     "data": {
      "text/html": [
       "<pre style=\"white-space:pre;overflow-x:auto;line-height:normal;font-family:Menlo,'DejaVu Sans Mono',consolas,'Courier New',monospace\"><span style=\"color: #7fbfbf; text-decoration-color: #7fbfbf\">                    </span><span style=\"color: #808000; text-decoration-color: #808000\">WARNING </span> API key format <span style=\"font-weight: bold\">(</span><span style=\"color: #008000; text-decoration-color: #008000\">'sk-pr...'</span><span style=\"font-weight: bold\">)</span> seems unusual. Attempting to initialize    <a href=\"file://C:\\Users\\nbese\\OneDrive\\Documents\\GitHub\\doc2pptx\\src\\doc2pptx\\llm\\optimizer.py\" target=\"_blank\"><span style=\"color: #7f7f7f; text-decoration-color: #7f7f7f\">optimizer.py</span></a><span style=\"color: #7f7f7f; text-decoration-color: #7f7f7f\">:</span><a href=\"file://C:\\Users\\nbese\\OneDrive\\Documents\\GitHub\\doc2pptx\\src\\doc2pptx\\llm\\optimizer.py#39\" target=\"_blank\"><span style=\"color: #7f7f7f; text-decoration-color: #7f7f7f\">39</span></a>\n",
       "<span style=\"color: #7fbfbf; text-decoration-color: #7fbfbf\">                    </span>         OpenAI client anyway.                                                  <span style=\"color: #7f7f7f; text-decoration-color: #7f7f7f\">               </span>\n",
       "</pre>\n"
      ],
      "text/plain": [
       "\u001b[2;36m                   \u001b[0m\u001b[2;36m \u001b[0m\u001b[33mWARNING \u001b[0m API key format \u001b[1m(\u001b[0m\u001b[32m'sk-pr...'\u001b[0m\u001b[1m)\u001b[0m seems unusual. Attempting to initialize    \u001b]8;id=816440;file://C:\\Users\\nbese\\OneDrive\\Documents\\GitHub\\doc2pptx\\src\\doc2pptx\\llm\\optimizer.py\u001b\\\u001b[2moptimizer.py\u001b[0m\u001b]8;;\u001b\\\u001b[2m:\u001b[0m\u001b]8;id=735389;file://C:\\Users\\nbese\\OneDrive\\Documents\\GitHub\\doc2pptx\\src\\doc2pptx\\llm\\optimizer.py#39\u001b\\\u001b[2m39\u001b[0m\u001b]8;;\u001b\\\n",
       "\u001b[2;36m                    \u001b[0m         OpenAI client anyway.                                                  \u001b[2m               \u001b[0m\n"
      ]
     },
     "metadata": {},
     "output_type": "display_data"
    },
    {
     "data": {
      "text/html": [
       "<pre style=\"white-space:pre;overflow-x:auto;line-height:normal;font-family:Menlo,'DejaVu Sans Mono',consolas,'Courier New',monospace\"><span style=\"color: #7fbfbf; text-decoration-color: #7fbfbf\">                    </span><span style=\"color: #000080; text-decoration-color: #000080\">INFO    </span> OpenAI client initialized successfully.                                <a href=\"file://C:\\Users\\nbese\\OneDrive\\Documents\\GitHub\\doc2pptx\\src\\doc2pptx\\llm\\optimizer.py\" target=\"_blank\"><span style=\"color: #7f7f7f; text-decoration-color: #7f7f7f\">optimizer.py</span></a><span style=\"color: #7f7f7f; text-decoration-color: #7f7f7f\">:</span><a href=\"file://C:\\Users\\nbese\\OneDrive\\Documents\\GitHub\\doc2pptx\\src\\doc2pptx\\llm\\optimizer.py#46\" target=\"_blank\"><span style=\"color: #7f7f7f; text-decoration-color: #7f7f7f\">46</span></a>\n",
       "</pre>\n"
      ],
      "text/plain": [
       "\u001b[2;36m                   \u001b[0m\u001b[2;36m \u001b[0m\u001b[34mINFO    \u001b[0m OpenAI client initialized successfully.                                \u001b]8;id=690823;file://C:\\Users\\nbese\\OneDrive\\Documents\\GitHub\\doc2pptx\\src\\doc2pptx\\llm\\optimizer.py\u001b\\\u001b[2moptimizer.py\u001b[0m\u001b]8;;\u001b\\\u001b[2m:\u001b[0m\u001b]8;id=183481;file://C:\\Users\\nbese\\OneDrive\\Documents\\GitHub\\doc2pptx\\src\\doc2pptx\\llm\\optimizer.py#46\u001b\\\u001b[2m46\u001b[0m\u001b]8;;\u001b\\\n"
      ]
     },
     "metadata": {},
     "output_type": "display_data"
    },
    {
     "data": {
      "text/html": [
       "<pre style=\"white-space:pre;overflow-x:auto;line-height:normal;font-family:Menlo,'DejaVu Sans Mono',consolas,'Courier New',monospace\"><span style=\"color: #7fbfbf; text-decoration-color: #7fbfbf\">                    </span><span style=\"color: #000080; text-decoration-color: #000080\">INFO    </span> Using AI-suggested layout: auto                                        <a href=\"file://C:\\Users\\nbese\\OneDrive\\Documents\\GitHub\\doc2pptx\\src\\doc2pptx\\layout\\selector.py\" target=\"_blank\"><span style=\"color: #7f7f7f; text-decoration-color: #7f7f7f\">selector.py</span></a><span style=\"color: #7f7f7f; text-decoration-color: #7f7f7f\">:</span><a href=\"file://C:\\Users\\nbese\\OneDrive\\Documents\\GitHub\\doc2pptx\\src\\doc2pptx\\layout\\selector.py#136\" target=\"_blank\"><span style=\"color: #7f7f7f; text-decoration-color: #7f7f7f\">136</span></a>\n",
       "</pre>\n"
      ],
      "text/plain": [
       "\u001b[2;36m                   \u001b[0m\u001b[2;36m \u001b[0m\u001b[34mINFO    \u001b[0m Using AI-suggested layout: auto                                        \u001b]8;id=509539;file://C:\\Users\\nbese\\OneDrive\\Documents\\GitHub\\doc2pptx\\src\\doc2pptx\\layout\\selector.py\u001b\\\u001b[2mselector.py\u001b[0m\u001b]8;;\u001b\\\u001b[2m:\u001b[0m\u001b]8;id=549;file://C:\\Users\\nbese\\OneDrive\\Documents\\GitHub\\doc2pptx\\src\\doc2pptx\\layout\\selector.py#136\u001b\\\u001b[2m136\u001b[0m\u001b]8;;\u001b\\\n"
      ]
     },
     "metadata": {},
     "output_type": "display_data"
    },
    {
     "data": {
      "text/html": [
       "<pre style=\"white-space:pre;overflow-x:auto;line-height:normal;font-family:Menlo,'DejaVu Sans Mono',consolas,'Courier New',monospace\"><span style=\"color: #7fbfbf; text-decoration-color: #7fbfbf\">                    </span><span style=\"color: #000080; text-decoration-color: #000080\">INFO    </span> Selected table layout <span style=\"color: #008000; text-decoration-color: #008000\">'Titre et tableau'</span> for slide containing a table  <a href=\"file://C:\\Users\\nbese\\OneDrive\\Documents\\GitHub\\doc2pptx\\src\\doc2pptx\\layout\\selector.py\" target=\"_blank\"><span style=\"color: #7f7f7f; text-decoration-color: #7f7f7f\">selector.py</span></a><span style=\"color: #7f7f7f; text-decoration-color: #7f7f7f\">:</span><a href=\"file://C:\\Users\\nbese\\OneDrive\\Documents\\GitHub\\doc2pptx\\src\\doc2pptx\\layout\\selector.py#116\" target=\"_blank\"><span style=\"color: #7f7f7f; text-decoration-color: #7f7f7f\">116</span></a>\n",
       "</pre>\n"
      ],
      "text/plain": [
       "\u001b[2;36m                   \u001b[0m\u001b[2;36m \u001b[0m\u001b[34mINFO    \u001b[0m Selected table layout \u001b[32m'Titre et tableau'\u001b[0m for slide containing a table  \u001b]8;id=52254;file://C:\\Users\\nbese\\OneDrive\\Documents\\GitHub\\doc2pptx\\src\\doc2pptx\\layout\\selector.py\u001b\\\u001b[2mselector.py\u001b[0m\u001b]8;;\u001b\\\u001b[2m:\u001b[0m\u001b]8;id=388691;file://C:\\Users\\nbese\\OneDrive\\Documents\\GitHub\\doc2pptx\\src\\doc2pptx\\layout\\selector.py#116\u001b\\\u001b[2m116\u001b[0m\u001b]8;;\u001b\\\n"
      ]
     },
     "metadata": {},
     "output_type": "display_data"
    },
    {
     "name": "stdout",
     "output_type": "stream",
     "text": [
      "✅ Présentation chargée: Rapport d'Analyse de Marché Web 2025\n",
      "\n",
      "🔍 Initialisation de l'optimiseur IA...\n"
     ]
    },
    {
     "data": {
      "text/html": [
       "<pre style=\"white-space:pre;overflow-x:auto;line-height:normal;font-family:Menlo,'DejaVu Sans Mono',consolas,'Courier New',monospace\"><span style=\"color: #7fbfbf; text-decoration-color: #7fbfbf\">                    </span><span style=\"color: #808000; text-decoration-color: #808000\">WARNING </span> API key format <span style=\"font-weight: bold\">(</span><span style=\"color: #008000; text-decoration-color: #008000\">'sk-pr...'</span><span style=\"font-weight: bold\">)</span> seems unusual. Attempting to initialize    <a href=\"file://C:\\Users\\nbese\\OneDrive\\Documents\\GitHub\\doc2pptx\\src\\doc2pptx\\llm\\optimizer.py\" target=\"_blank\"><span style=\"color: #7f7f7f; text-decoration-color: #7f7f7f\">optimizer.py</span></a><span style=\"color: #7f7f7f; text-decoration-color: #7f7f7f\">:</span><a href=\"file://C:\\Users\\nbese\\OneDrive\\Documents\\GitHub\\doc2pptx\\src\\doc2pptx\\llm\\optimizer.py#39\" target=\"_blank\"><span style=\"color: #7f7f7f; text-decoration-color: #7f7f7f\">39</span></a>\n",
       "<span style=\"color: #7fbfbf; text-decoration-color: #7fbfbf\">                    </span>         OpenAI client anyway.                                                  <span style=\"color: #7f7f7f; text-decoration-color: #7f7f7f\">               </span>\n",
       "</pre>\n"
      ],
      "text/plain": [
       "\u001b[2;36m                   \u001b[0m\u001b[2;36m \u001b[0m\u001b[33mWARNING \u001b[0m API key format \u001b[1m(\u001b[0m\u001b[32m'sk-pr...'\u001b[0m\u001b[1m)\u001b[0m seems unusual. Attempting to initialize    \u001b]8;id=708569;file://C:\\Users\\nbese\\OneDrive\\Documents\\GitHub\\doc2pptx\\src\\doc2pptx\\llm\\optimizer.py\u001b\\\u001b[2moptimizer.py\u001b[0m\u001b]8;;\u001b\\\u001b[2m:\u001b[0m\u001b]8;id=353808;file://C:\\Users\\nbese\\OneDrive\\Documents\\GitHub\\doc2pptx\\src\\doc2pptx\\llm\\optimizer.py#39\u001b\\\u001b[2m39\u001b[0m\u001b]8;;\u001b\\\n",
       "\u001b[2;36m                    \u001b[0m         OpenAI client anyway.                                                  \u001b[2m               \u001b[0m\n"
      ]
     },
     "metadata": {},
     "output_type": "display_data"
    },
    {
     "data": {
      "text/html": [
       "<pre style=\"white-space:pre;overflow-x:auto;line-height:normal;font-family:Menlo,'DejaVu Sans Mono',consolas,'Courier New',monospace\"><span style=\"color: #7fbfbf; text-decoration-color: #7fbfbf\">                    </span><span style=\"color: #000080; text-decoration-color: #000080\">INFO    </span> OpenAI client initialized successfully.                                <a href=\"file://C:\\Users\\nbese\\OneDrive\\Documents\\GitHub\\doc2pptx\\src\\doc2pptx\\llm\\optimizer.py\" target=\"_blank\"><span style=\"color: #7f7f7f; text-decoration-color: #7f7f7f\">optimizer.py</span></a><span style=\"color: #7f7f7f; text-decoration-color: #7f7f7f\">:</span><a href=\"file://C:\\Users\\nbese\\OneDrive\\Documents\\GitHub\\doc2pptx\\src\\doc2pptx\\llm\\optimizer.py#46\" target=\"_blank\"><span style=\"color: #7f7f7f; text-decoration-color: #7f7f7f\">46</span></a>\n",
       "</pre>\n"
      ],
      "text/plain": [
       "\u001b[2;36m                   \u001b[0m\u001b[2;36m \u001b[0m\u001b[34mINFO    \u001b[0m OpenAI client initialized successfully.                                \u001b]8;id=877871;file://C:\\Users\\nbese\\OneDrive\\Documents\\GitHub\\doc2pptx\\src\\doc2pptx\\llm\\optimizer.py\u001b\\\u001b[2moptimizer.py\u001b[0m\u001b]8;;\u001b\\\u001b[2m:\u001b[0m\u001b]8;id=954941;file://C:\\Users\\nbese\\OneDrive\\Documents\\GitHub\\doc2pptx\\src\\doc2pptx\\llm\\optimizer.py#46\u001b\\\u001b[2m46\u001b[0m\u001b]8;;\u001b\\\n"
      ]
     },
     "metadata": {},
     "output_type": "display_data"
    },
    {
     "name": "stdout",
     "output_type": "stream",
     "text": [
      "Modèle utilisé: gpt-4o\n",
      "\n",
      "🔄 Conversion pour analyse IA...\n",
      "Nombre de sections simplifiées: 1\n",
      "\n",
      "🤖 Demande de recommandations d'optimisation à l'IA...\n"
     ]
    },
    {
     "data": {
      "text/html": [
       "<pre style=\"white-space:pre;overflow-x:auto;line-height:normal;font-family:Menlo,'DejaVu Sans Mono',consolas,'Courier New',monospace\"><span style=\"color: #7fbfbf; text-decoration-color: #7fbfbf\">                    </span><span style=\"color: #000080; text-decoration-color: #000080\">INFO    </span> Sending optimization request to OpenAI API                            <a href=\"file://C:\\Users\\nbese\\OneDrive\\Documents\\GitHub\\doc2pptx\\src\\doc2pptx\\llm\\optimizer.py\" target=\"_blank\"><span style=\"color: #7f7f7f; text-decoration-color: #7f7f7f\">optimizer.py</span></a><span style=\"color: #7f7f7f; text-decoration-color: #7f7f7f\">:</span><a href=\"file://C:\\Users\\nbese\\OneDrive\\Documents\\GitHub\\doc2pptx\\src\\doc2pptx\\llm\\optimizer.py#128\" target=\"_blank\"><span style=\"color: #7f7f7f; text-decoration-color: #7f7f7f\">128</span></a>\n",
       "</pre>\n"
      ],
      "text/plain": [
       "\u001b[2;36m                   \u001b[0m\u001b[2;36m \u001b[0m\u001b[34mINFO    \u001b[0m Sending optimization request to OpenAI API                            \u001b]8;id=923249;file://C:\\Users\\nbese\\OneDrive\\Documents\\GitHub\\doc2pptx\\src\\doc2pptx\\llm\\optimizer.py\u001b\\\u001b[2moptimizer.py\u001b[0m\u001b]8;;\u001b\\\u001b[2m:\u001b[0m\u001b]8;id=132800;file://C:\\Users\\nbese\\OneDrive\\Documents\\GitHub\\doc2pptx\\src\\doc2pptx\\llm\\optimizer.py#128\u001b\\\u001b[2m128\u001b[0m\u001b]8;;\u001b\\\n"
      ]
     },
     "metadata": {},
     "output_type": "display_data"
    },
    {
     "data": {
      "text/html": [
       "<pre style=\"white-space:pre;overflow-x:auto;line-height:normal;font-family:Menlo,'DejaVu Sans Mono',consolas,'Courier New',monospace\"><span style=\"color: #7fbfbf; text-decoration-color: #7fbfbf\">[05/14/25 17:06:29] </span><span style=\"color: #000080; text-decoration-color: #000080\">INFO    </span> Successfully received and parsed optimization result                  <a href=\"file://C:\\Users\\nbese\\OneDrive\\Documents\\GitHub\\doc2pptx\\src\\doc2pptx\\llm\\optimizer.py\" target=\"_blank\"><span style=\"color: #7f7f7f; text-decoration-color: #7f7f7f\">optimizer.py</span></a><span style=\"color: #7f7f7f; text-decoration-color: #7f7f7f\">:</span><a href=\"file://C:\\Users\\nbese\\OneDrive\\Documents\\GitHub\\doc2pptx\\src\\doc2pptx\\llm\\optimizer.py#153\" target=\"_blank\"><span style=\"color: #7f7f7f; text-decoration-color: #7f7f7f\">153</span></a>\n",
       "</pre>\n"
      ],
      "text/plain": [
       "\u001b[2;36m[05/14/25 17:06:29]\u001b[0m\u001b[2;36m \u001b[0m\u001b[34mINFO    \u001b[0m Successfully received and parsed optimization result                  \u001b]8;id=626202;file://C:\\Users\\nbese\\OneDrive\\Documents\\GitHub\\doc2pptx\\src\\doc2pptx\\llm\\optimizer.py\u001b\\\u001b[2moptimizer.py\u001b[0m\u001b]8;;\u001b\\\u001b[2m:\u001b[0m\u001b]8;id=947177;file://C:\\Users\\nbese\\OneDrive\\Documents\\GitHub\\doc2pptx\\src\\doc2pptx\\llm\\optimizer.py#153\u001b\\\u001b[2m153\u001b[0m\u001b]8;;\u001b\\\n"
      ]
     },
     "metadata": {},
     "output_type": "display_data"
    },
    {
     "name": "stdout",
     "output_type": "stream",
     "text": [
      "Nombre de sections optimisées: 1\n",
      "\n",
      "📊 Initialisation du planificateur de contenu...\n",
      "\n",
      "🧠 Planification du contenu pour la première section...\n"
     ]
    },
    {
     "data": {
      "text/html": [
       "<pre style=\"white-space:pre;overflow-x:auto;line-height:normal;font-family:Menlo,'DejaVu Sans Mono',consolas,'Courier New',monospace\"><span style=\"color: #7fbfbf; text-decoration-color: #7fbfbf\">[05/14/25 17:06:54] </span><span style=\"color: #000080; text-decoration-color: #000080\">INFO    </span> Successfully planned content for section <span style=\"color: #008000; text-decoration-color: #008000\">'Rapport d'</span>Analyse de  <a href=\"file://C:\\Users\\nbese\\OneDrive\\Documents\\GitHub\\doc2pptx\\src\\doc2pptx\\llm\\content_planner.py\" target=\"_blank\"><span style=\"color: #7f7f7f; text-decoration-color: #7f7f7f\">content_planner.py</span></a><span style=\"color: #7f7f7f; text-decoration-color: #7f7f7f\">:</span><a href=\"file://C:\\Users\\nbese\\OneDrive\\Documents\\GitHub\\doc2pptx\\src\\doc2pptx\\llm\\content_planner.py#117\" target=\"_blank\"><span style=\"color: #7f7f7f; text-decoration-color: #7f7f7f\">117</span></a>\n",
       "<span style=\"color: #7fbfbf; text-decoration-color: #7fbfbf\">                    </span>         Marché Web <span style=\"color: #008080; text-decoration-color: #008080; font-weight: bold\">2025</span>' with AI                                        <span style=\"color: #7f7f7f; text-decoration-color: #7f7f7f\">                      </span>\n",
       "</pre>\n"
      ],
      "text/plain": [
       "\u001b[2;36m[05/14/25 17:06:54]\u001b[0m\u001b[2;36m \u001b[0m\u001b[34mINFO    \u001b[0m Successfully planned content for section \u001b[32m'Rapport d'\u001b[0mAnalyse de  \u001b]8;id=146281;file://C:\\Users\\nbese\\OneDrive\\Documents\\GitHub\\doc2pptx\\src\\doc2pptx\\llm\\content_planner.py\u001b\\\u001b[2mcontent_planner.py\u001b[0m\u001b]8;;\u001b\\\u001b[2m:\u001b[0m\u001b]8;id=71298;file://C:\\Users\\nbese\\OneDrive\\Documents\\GitHub\\doc2pptx\\src\\doc2pptx\\llm\\content_planner.py#117\u001b\\\u001b[2m117\u001b[0m\u001b]8;;\u001b\\\n",
       "\u001b[2;36m                    \u001b[0m         Marché Web \u001b[1;36m2025\u001b[0m' with AI                                        \u001b[2m                      \u001b[0m\n"
      ]
     },
     "metadata": {},
     "output_type": "display_data"
    },
    {
     "name": "stdout",
     "output_type": "stream",
     "text": [
      "Section 'Rapport d'Analyse de Marché Web 2025' planifiée avec 10 slides\n",
      "\n",
      "Exemple de slide optimisé: 'Rapport d'Analyse de Marché Web 2025'\n",
      "Layout: Title Slide\n",
      "Nombre de blocs: 0\n"
     ]
    }
   ],
   "source": [
    "# Utilisation directe de l'optimiseur et du planificateur de contenu\n",
    "def demo_optimization_pipeline(markdown_file, template_file):\n",
    "    \"\"\"Démontre le pipeline d'optimisation en détail.\"\"\"\n",
    "    print(\"📝 Démonstration du pipeline d'optimisation\\n\")\n",
    "    \n",
    "    # 1. Charger la présentation depuis le Markdown\n",
    "    presentation = load_presentation_from_markdown(markdown_file)\n",
    "    print(f\"✅ Présentation chargée: {presentation.title}\")\n",
    "    \n",
    "    # 2. Initialiser l'optimiseur\n",
    "    print(\"\\n🔍 Initialisation de l'optimiseur IA...\")\n",
    "    optimizer = PresentationOptimizer()\n",
    "    print(f\"Modèle utilisé: {optimizer.model}\")\n",
    "    \n",
    "    # 3. Convertir la présentation en un format analysable par l'IA\n",
    "    print(\"\\n🔄 Conversion pour analyse IA...\")\n",
    "    simplified_data = optimizer._simplify_presentation(presentation.model_dump())\n",
    "    print(f\"Nombre de sections simplifiées: {len(simplified_data['sections'])}\")\n",
    "    \n",
    "    # 4. Obtenir des recommandations d'optimisation\n",
    "    print(\"\\n🤖 Demande de recommandations d'optimisation à l'IA...\")\n",
    "    optimization_result = optimizer.optimize_presentation(presentation.model_dump())\n",
    "    print(f\"Nombre de sections optimisées: {len(optimization_result['sections'])}\")\n",
    "    \n",
    "    # 5. Initialiser le planificateur de contenu\n",
    "    print(\"\\n📊 Initialisation du planificateur de contenu...\")\n",
    "    content_planner = ContentPlanner(optimizer=optimizer)\n",
    "    \n",
    "    # 6. Planifier le contenu de la première section\n",
    "    print(\"\\n🧠 Planification du contenu pour la première section...\")\n",
    "    if presentation.sections:\n",
    "        section = presentation.sections[0]\n",
    "        optimized_section = content_planner.plan_section_content(section)\n",
    "        print(f\"Section '{optimized_section.title}' planifiée avec {len(optimized_section.slides)} slides\")\n",
    "        \n",
    "        # Afficher un exemple de slide optimisé\n",
    "        if optimized_section.slides:\n",
    "            slide = optimized_section.slides[0]\n",
    "            print(f\"\\nExemple de slide optimisé: '{slide.title}'\")\n",
    "            print(f\"Layout: {slide.layout_name}\")\n",
    "            print(f\"Nombre de blocs: {len(slide.blocks)}\")\n",
    "    \n",
    "    return {\"presentation\": presentation, \"optimization\": optimization_result}\n",
    "\n",
    "# Exécuter la démonstration du pipeline d'optimisation\n",
    "if example_md.exists() and base_template.exists():\n",
    "    optimization_demo = demo_optimization_pipeline(example_md, base_template)"
   ]
  },
  {
   "cell_type": "markdown",
   "metadata": {},
   "source": [
    "## Expérimentation avec différents fichiers Markdown\n",
    "\n",
    "Testez `doc2pptx` avec votre propre contenu Markdown. Voici un exemple simplifié que vous pouvez modifier et utiliser:"
   ]
  },
  {
   "cell_type": "code",
   "execution_count": null,
   "metadata": {},
   "outputs": [],
   "source": [
    "def create_custom_markdown():\n",
    "    \"\"\"Crée un exemple de fichier Markdown personnalisable.\"\"\"\n",
    "    markdown_content = \"\"\"---\n",
    "title: Ma Présentation Personnalisée\n",
    "author: Votre Nom\n",
    "description: Une présentation créée avec doc2pptx\n",
    "---\n",
    "# Ma Présentation Personnalisée\n",
    "\n",
    "## Introduction\n",
    "Ceci est une introduction à ma présentation personnalisée.\n",
    "Elle démontre les capacités de conversion de doc2pptx.\n",
    "\n",
    "### Points principaux\n",
    "* Premier point important\n",
    "* Deuxième point important\n",
    "* Troisième point important\n",
    "\n",
    "## Données et Tableaux\n",
    "Voici un exemple de tableau de données:\n",
    "\n",
    "| Catégorie | Valeur 1 | Valeur 2 | Tendance |\n",
    "|-----------|----------|----------|----------|\n",
    "| Produit A | 1250     | 1500     | +20%     |\n",
    "| Produit B | 850      | 920      | +8%      |\n",
    "| Produit C | 2100     | 1950     | -7%      |\n",
    "\n",
    "## Conclusion\n",
    "En conclusion, doc2pptx offre un moyen efficace de générer des présentations\n",
    "PowerPoint à partir de contenu Markdown.\n",
    "\"\"\"\n",
    "    \n",
    "    # Créer un fichier temporaire pour le Markdown\n",
    "    custom_md_path = INPUT_DIR / \"custom_example.md\"\n",
    "    with open(custom_md_path, 'w', encoding='utf-8') as f:\n",
    "        f.write(markdown_content)\n",
    "    \n",
    "    print(f\"✅ Fichier Markdown personnalisable créé: {custom_md_path}\")\n",
    "    return custom_md_path\n",
    "\n",
    "# Créer et afficher le markdown personnalisable\n",
    "custom_md = create_custom_markdown()\n",
    "display(Markdown(open(custom_md, 'r', encoding='utf-8').read()))"
   ]
  },
  {
   "cell_type": "code",
   "execution_count": null,
   "metadata": {},
   "outputs": [],
   "source": [
    "# Générer une présentation avec le Markdown personnalisé\n",
    "if custom_md.exists() and base_template.exists():\n",
    "    custom_output = OUTPUT_DIR / \"custom_presentation.pptx\"\n",
    "    custom_pptx = generate_with_cli(\n",
    "        input_file=custom_md,\n",
    "        template_file=base_template,\n",
    "        output_file=custom_output,\n",
    "        ai_optimize=True,\n",
    "        content_planning=True\n",
    "    )"
   ]
  },
  {
   "cell_type": "markdown",
   "metadata": {},
   "source": [
    "## Conclusion\n",
    "\n",
    "Ce notebook a démontré les principales fonctionnalités de `doc2pptx` pour la génération automatique de présentations PowerPoint à partir de fichiers Markdown.\n",
    "\n",
    "### Points clés:\n",
    "\n",
    "- **Facilité d'utilisation**: Convertissez rapidement du contenu Markdown en présentations professionnelles\n",
    "- **Optimisation par IA**: Amélioration automatique des layouts et organisation du contenu\n",
    "- **Flexibilité**: Utilisable via API programmatique ou ligne de commande\n",
    "- **Personnalisation**: Utilisez vos propres templates PowerPoint pour un style cohérent\n",
    "\n",
    "### Pour aller plus loin:\n",
    "\n",
    "- Consultez la documentation complète du package pour découvrir toutes les options disponibles\n",
    "- Expérimentez avec différents types de contenu et structures\n",
    "- Créez vos propres templates PowerPoint pour des présentations personnalisées\n",
    "\n",
    "Pour toute question ou assistance, n'hésitez pas à me contacter !\n",
    "\n",
    "Noé Beserman\n"
   ]
  }
 ],
 "metadata": {
  "kernelspec": {
   "display_name": "doc2pptx",
   "language": "python",
   "name": "python3"
  },
  "language_info": {
   "codemirror_mode": {
    "name": "ipython",
    "version": 3
   },
   "file_extension": ".py",
   "mimetype": "text/x-python",
   "name": "python",
   "nbconvert_exporter": "python",
   "pygments_lexer": "ipython3",
   "version": "3.12.10"
  }
 },
 "nbformat": 4,
 "nbformat_minor": 4
}
