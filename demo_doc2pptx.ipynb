{
  "cells": [
    {
      "cell_type": "markdown",
      "metadata": {},
      "source": [
        "# Doc2PPTX : démonstration interactive\n\nCe notebook présente les principales fonctionnalités de **doc2pptx**, un outil qui convertit du contenu Markdown en présentations PowerPoint professionnelles à l’aide de templates et d’une optimisation par IA."
      ]
    },
    {
      "cell_type": "markdown",
      "metadata": {},
      "source": [
        "## 1 – Préparation de l’environnement\n\n- Assurez‑vous d’avoir renseigné `OPENAI_API_KEY` dans un fichier `.env` (à la racine) ;\n- Vérifiez la présence des dossiers :`data/templates`, `data/input`, `data/output`.\n\nExécutez la cellule ci‑dessous pour contrôler la configuration."
      ]
    },
    {
      "cell_type": "code",
      "execution_count": null,
      "metadata": {},
      "outputs": [],
      "source": [
        "# Configuration initiale\nfrom pathlib import Path\nimport os, sys\nfrom dotenv import load_dotenv\nfrom IPython.display import Markdown, display\n\n# Charger les variables d’environnement (.env)\nload_dotenv()\n\n# Ajouter src/ au PYTHONPATH pour l’import local du package (mode dev)\nroot = Path.cwd()\nsrc_path = root / 'src'\nif src_path.exists() and str(src_path) not in sys.path:\n    sys.path.insert(0, str(src_path))\n\n# Vérification clé API\nopenai_key_ok = os.getenv('OPENAI_API_KEY', '').startswith('sk-')\nprint(f"📌 OPENAI_API_KEY : {'✅ trouvée' if openai_key_ok else '⚠️ absente'}")\n\n# Vérification des répertoires\nfor d in [root / 'data/templates', root / 'data/input', root / 'data/output']:\n    if not d.exists():\n        d.mkdir(parents=True, exist_ok=True)\n        print(f'📂 Dossier créé : {d}')\nprint('✅ Structure de projet OK')"
      ]
    },
    {
      "cell_type": "markdown",
      "metadata": {},
      "source": [
        "## 2 – Exploration des templates PowerPoint disponibles"
      ]
    },
    {
      "cell_type": "code",
      "execution_count": null,
      "metadata": {},
      "outputs": [],
      "source": [
        "from doc2pptx.ppt.template_loader import TemplateLoader\n\ntemplate_dir = Path('data/templates')\ntemplates = list(template_dir.glob('*.pptx'))\n\n# Copier un template de base si aucun n’est présent\nif not templates:\n    default_src = Path('src/doc2pptx/data/templates/base_template.pptx')\n    if default_src.exists():\n        default_dst = template_dir / 'base_template.pptx'\n        default_dst.write_bytes(default_src.read_bytes())\n        templates.append(default_dst)\n        print(f'✅ Template de base copié : {default_dst.name}')\n    else:\n        print('⚠️ Aucun template trouvé ; ajoutez votre propre .pptx dans data/templates')\n\nprint('\nTemplates détectés :')\nfor i, t in enumerate(templates, 1):\n    print(f" {i}. {t.name}")\n\n# Analyse rapide du premier template (s’il existe)\nif templates:\n    default_template = templates[0]\n    loader = TemplateLoader()\n    info = loader.analyze_template(default_template)\n    print(f"\nTemplate sélectionné : {default_template.name} – {len(info.layout_map)} layouts trouvés")"
      ]
    },
    {
      "cell_type": "markdown",
      "metadata": {},
      "source": [
        "## 3 – Inventaire des fichiers Markdown d’exemple"
      ]
    },
    {
      "cell_type": "code",
      "execution_count": null,
      "metadata": {},
      "outputs": [],
      "source": [
        "input_dir = Path('data/input')\nexamples = list(input_dir.glob('*.md'))\n\nif not examples:\n    # Génération d’un exemple minimal\n    sample = input_dir / 'exemple.md'\n    sample.write_text(\n        (\n            '---\n'\n            'title: Exemple Auto\n'\n            'author: Doc2PPTX\n'\n            '---\n\n'\n            '# Exemple Auto\n\n'\n            '## Introduction\n\n'\n            '* Point A\n'\n            '* Point B\n'\n        ),\n        encoding='utf-8'\n    )\n    examples.append(sample)\n    print(f'✅ Exemple créé : {sample.name}')\n\nprint('\nFichiers Markdown disponibles :')\nfor i, f in enumerate(examples, 1):\n    print(f" {i}. {f.name}")\n\n# Sélection du premier fichier pour la démo\nmd_path = examples[0]\nprint(f'\nFichier choisi : {md_path.name}')\npreview = md_path.read_text(encoding='utf-8')[:400]\ndisplay(Markdown(f'```markdown\n{preview}\n...\n```'))"
      ]
    },
    {
      "cell_type": "markdown",
      "metadata": {},
      "source": [
        "## 4 – Chargement et validation du modèle de présentation"
      ]
    },
    {
      "cell_type": "code",
      "execution_count": null,
      "metadata": {},
      "outputs": [],
      "source": [
        "from doc2pptx.ingest.markdown_loader import MarkdownLoader\n\nloader = MarkdownLoader()\ntry:\n    presentation = loader.load_presentation(md_path)\n    print('✅ Présentation analysée :')\n    print(f' - Titre     : {presentation.title}')\n    print(f' - Sections  : {len(presentation.sections)}')\n    slides = sum(len(s.slides) for s in presentation.sections)\n    print(f' - Slides    : {slides}')\nexcept Exception as e:\n    raise RuntimeError(f'Erreur analyse Markdown : {e}')"
      ]
    },
    {
      "cell_type": "markdown",
      "metadata": {},
      "source": [
        "## 5 – Génération de la présentation PowerPoint"
      ]
    },
    {
      "cell_type": "code",
      "execution_count": null,
      "metadata": {},
      "outputs": [],
      "source": [
        "from doc2pptx.ppt.builder import PPTBuilder\nfrom doc2pptx.llm.content_planner import ContentPlanner\nimport time\n\noutput_dir = Path('data/output')\noutput_path = output_dir / f"{md_path.stem}_{int(time.time())}.pptx"\n\nuse_ai = True\nuse_planner = True\n\nprint('⏳ Construction en cours…')\n\nbuilder = PPTBuilder(template_path=default_template, use_ai=use_ai, use_content_planning=use_planner)\n\nif use_ai and use_planner:\n    planner = ContentPlanner(optimizer=getattr(builder, 'optimizer', None))\n    for section in presentation.sections:\n        planner.plan_section_content(section, builder.template_info)\n\nresult = builder.build(presentation, output_path)\nprint(f'✅ Fichier généré : {result}')"
      ]
    },
    {
      "cell_type": "markdown",
      "metadata": {},
      "source": [
        "## 6 – Exécution rapide via la CLI (optionnel)"
      ]
    },
    {
      "cell_type": "code",
      "execution_count": null,
      "metadata": {},
      "outputs": [],
      "source": [
        "import subprocess, sys\n\ncli_output = output_dir / f'{md_path.stem}_cli_{int(time.time())}.pptx'\ncmd = [sys.executable, '-m', 'doc2pptx.cli', 'generate', '--template', str(default_template), '--output', str(cli_output), '--ai-optimize', '--content-planning', str(md_path)]\nprint(' '.join(cmd))\nsubprocess.run(cmd, check=False)\nprint(f'📂 Présentation CLI : {cli_output.exists()} – {cli_output.name if cli_output.exists() else "non créée"}')"
      ]
    },
    {
      "cell_type": "markdown",
      "metadata": {},
      "source": [
        "## 7 – Liste des présentations générées"
      ]
    },
    {
      "cell_type": "code",
      "execution_count": null,
      "metadata": {},
      "outputs": [],
      "source": [
        "from IPython.display import FileLink, HTML\nfiles = sorted(output_dir.glob(f'{md_path.stem}*.pptx'), key=lambda p: p.stat().st_mtime, reverse=True)\nif files:\n    links = '\n'.join(f'- [{f.name}]({f.as_posix()})' for f in files)\n    display(Markdown(f'### Présentations disponibles\n{links}'))\nelse:\n    print('Aucune présentation trouvée.')"
      ]
    },
    {
      "cell_type": "markdown",
      "metadata": {},
      "source": [
        "---\n### Fin de la démonstration\n\nVous avez appris à :\n1. Configurer l’environnement ;\n2. Inspecter les templates PPTX ;\n3. Charger un document Markdown ;\n4. Générer une présentation PowerPoint avec ou sans optimisation IA ;\n5. Exécuter le pipeline via l’API Python **et** la CLI."
      ]
    }
  ],
  "metadata": {
    "kernelspec": {
      "display_name": "Python 3",
      "language": "python",
      "name": "python3"
    },
    "language_info": {
      "name": "python",
      "version": "3.10"
    }
  },
  "nbformat": 4,
  "nbformat_minor": 5
}
